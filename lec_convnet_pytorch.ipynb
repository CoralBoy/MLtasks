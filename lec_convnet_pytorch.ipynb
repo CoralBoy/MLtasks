{
  "nbformat": 4,
  "nbformat_minor": 0,
  "metadata": {
    "accelerator": "GPU",
    "colab": {
      "name": "lec_convnet_pytorch.ipynb",
      "provenance": [],
      "collapsed_sections": []
    },
    "hide_input": false,
    "kernelspec": {
      "display_name": "Python 3",
      "language": "python",
      "name": "python3"
    },
    "language_info": {
      "codemirror_mode": {
        "name": "ipython",
        "version": 3
      },
      "file_extension": ".py",
      "mimetype": "text/x-python",
      "name": "python",
      "nbconvert_exporter": "python",
      "pygments_lexer": "ipython3",
      "version": "3.9.1"
    },
    "varInspector": {
      "cols": {
        "lenName": 16,
        "lenType": 16,
        "lenVar": 40
      },
      "kernels_config": {
        "python": {
          "delete_cmd_postfix": "",
          "delete_cmd_prefix": "del ",
          "library": "var_list.py",
          "varRefreshCmd": "print(var_dic_list())"
        },
        "r": {
          "delete_cmd_postfix": ") ",
          "delete_cmd_prefix": "rm(",
          "library": "var_list.r",
          "varRefreshCmd": "cat(var_dic_list()) "
        }
      },
      "types_to_exclude": [
        "module",
        "function",
        "builtin_function_or_method",
        "instance",
        "_Feature"
      ],
      "window_display": false
    },
    "widgets": {
      "application/vnd.jupyter.widget-state+json": {
        "e31788b64e2d4c429bee13a12359f9a2": {
          "model_module": "@jupyter-widgets/controls",
          "model_name": "HBoxModel",
          "state": {
            "_view_name": "HBoxView",
            "_dom_classes": [],
            "_model_name": "HBoxModel",
            "_view_module": "@jupyter-widgets/controls",
            "_model_module_version": "1.5.0",
            "_view_count": null,
            "_view_module_version": "1.5.0",
            "box_style": "",
            "layout": "IPY_MODEL_5b4a47b2984646aa96ebf96b85152faf",
            "_model_module": "@jupyter-widgets/controls",
            "children": [
              "IPY_MODEL_450f8279458c4917882cf3781be09cb3",
              "IPY_MODEL_ba60414b434545419ef7efed9fc11904"
            ]
          }
        },
        "5b4a47b2984646aa96ebf96b85152faf": {
          "model_module": "@jupyter-widgets/base",
          "model_name": "LayoutModel",
          "state": {
            "_view_name": "LayoutView",
            "grid_template_rows": null,
            "right": null,
            "justify_content": null,
            "_view_module": "@jupyter-widgets/base",
            "overflow": null,
            "_model_module_version": "1.2.0",
            "_view_count": null,
            "flex_flow": null,
            "width": null,
            "min_width": null,
            "border": null,
            "align_items": null,
            "bottom": null,
            "_model_module": "@jupyter-widgets/base",
            "top": null,
            "grid_column": null,
            "overflow_y": null,
            "overflow_x": null,
            "grid_auto_flow": null,
            "grid_area": null,
            "grid_template_columns": null,
            "flex": null,
            "_model_name": "LayoutModel",
            "justify_items": null,
            "grid_row": null,
            "max_height": null,
            "align_content": null,
            "visibility": null,
            "align_self": null,
            "height": null,
            "min_height": null,
            "padding": null,
            "grid_auto_rows": null,
            "grid_gap": null,
            "max_width": null,
            "order": null,
            "_view_module_version": "1.2.0",
            "grid_template_areas": null,
            "object_position": null,
            "object_fit": null,
            "grid_auto_columns": null,
            "margin": null,
            "display": null,
            "left": null
          }
        },
        "450f8279458c4917882cf3781be09cb3": {
          "model_module": "@jupyter-widgets/controls",
          "model_name": "FloatProgressModel",
          "state": {
            "_view_name": "ProgressView",
            "style": "IPY_MODEL_65a6b73e6ced4c449cd3f820c323cdb8",
            "_dom_classes": [],
            "description": "100%",
            "_model_name": "FloatProgressModel",
            "bar_style": "success",
            "max": 12000,
            "_view_module": "@jupyter-widgets/controls",
            "_model_module_version": "1.5.0",
            "value": 12000,
            "_view_count": null,
            "_view_module_version": "1.5.0",
            "orientation": "horizontal",
            "min": 0,
            "description_tooltip": null,
            "_model_module": "@jupyter-widgets/controls",
            "layout": "IPY_MODEL_8ab48385a50a47569784777d16c254c2"
          }
        },
        "ba60414b434545419ef7efed9fc11904": {
          "model_module": "@jupyter-widgets/controls",
          "model_name": "HTMLModel",
          "state": {
            "_view_name": "HTMLView",
            "style": "IPY_MODEL_1809542e081d42d590c114300c724a01",
            "_dom_classes": [],
            "description": "",
            "_model_name": "HTMLModel",
            "placeholder": "​",
            "_view_module": "@jupyter-widgets/controls",
            "_model_module_version": "1.5.0",
            "value": " 12000/12000 [00:05&lt;00:00, 2250.85it/s]",
            "_view_count": null,
            "_view_module_version": "1.5.0",
            "description_tooltip": null,
            "_model_module": "@jupyter-widgets/controls",
            "layout": "IPY_MODEL_43773548d62a49da8bdabceaaab93f1b"
          }
        },
        "65a6b73e6ced4c449cd3f820c323cdb8": {
          "model_module": "@jupyter-widgets/controls",
          "model_name": "ProgressStyleModel",
          "state": {
            "_view_name": "StyleView",
            "_model_name": "ProgressStyleModel",
            "description_width": "initial",
            "_view_module": "@jupyter-widgets/base",
            "_model_module_version": "1.5.0",
            "_view_count": null,
            "_view_module_version": "1.2.0",
            "bar_color": null,
            "_model_module": "@jupyter-widgets/controls"
          }
        },
        "8ab48385a50a47569784777d16c254c2": {
          "model_module": "@jupyter-widgets/base",
          "model_name": "LayoutModel",
          "state": {
            "_view_name": "LayoutView",
            "grid_template_rows": null,
            "right": null,
            "justify_content": null,
            "_view_module": "@jupyter-widgets/base",
            "overflow": null,
            "_model_module_version": "1.2.0",
            "_view_count": null,
            "flex_flow": null,
            "width": null,
            "min_width": null,
            "border": null,
            "align_items": null,
            "bottom": null,
            "_model_module": "@jupyter-widgets/base",
            "top": null,
            "grid_column": null,
            "overflow_y": null,
            "overflow_x": null,
            "grid_auto_flow": null,
            "grid_area": null,
            "grid_template_columns": null,
            "flex": null,
            "_model_name": "LayoutModel",
            "justify_items": null,
            "grid_row": null,
            "max_height": null,
            "align_content": null,
            "visibility": null,
            "align_self": null,
            "height": null,
            "min_height": null,
            "padding": null,
            "grid_auto_rows": null,
            "grid_gap": null,
            "max_width": null,
            "order": null,
            "_view_module_version": "1.2.0",
            "grid_template_areas": null,
            "object_position": null,
            "object_fit": null,
            "grid_auto_columns": null,
            "margin": null,
            "display": null,
            "left": null
          }
        },
        "1809542e081d42d590c114300c724a01": {
          "model_module": "@jupyter-widgets/controls",
          "model_name": "DescriptionStyleModel",
          "state": {
            "_view_name": "StyleView",
            "_model_name": "DescriptionStyleModel",
            "description_width": "",
            "_view_module": "@jupyter-widgets/base",
            "_model_module_version": "1.5.0",
            "_view_count": null,
            "_view_module_version": "1.2.0",
            "_model_module": "@jupyter-widgets/controls"
          }
        },
        "43773548d62a49da8bdabceaaab93f1b": {
          "model_module": "@jupyter-widgets/base",
          "model_name": "LayoutModel",
          "state": {
            "_view_name": "LayoutView",
            "grid_template_rows": null,
            "right": null,
            "justify_content": null,
            "_view_module": "@jupyter-widgets/base",
            "overflow": null,
            "_model_module_version": "1.2.0",
            "_view_count": null,
            "flex_flow": null,
            "width": null,
            "min_width": null,
            "border": null,
            "align_items": null,
            "bottom": null,
            "_model_module": "@jupyter-widgets/base",
            "top": null,
            "grid_column": null,
            "overflow_y": null,
            "overflow_x": null,
            "grid_auto_flow": null,
            "grid_area": null,
            "grid_template_columns": null,
            "flex": null,
            "_model_name": "LayoutModel",
            "justify_items": null,
            "grid_row": null,
            "max_height": null,
            "align_content": null,
            "visibility": null,
            "align_self": null,
            "height": null,
            "min_height": null,
            "padding": null,
            "grid_auto_rows": null,
            "grid_gap": null,
            "max_width": null,
            "order": null,
            "_view_module_version": "1.2.0",
            "grid_template_areas": null,
            "object_position": null,
            "object_fit": null,
            "grid_auto_columns": null,
            "margin": null,
            "display": null,
            "left": null
          }
        },
        "099ccc9fef6949c9ab21a9775066a511": {
          "model_module": "@jupyter-widgets/controls",
          "model_name": "HBoxModel",
          "state": {
            "_view_name": "HBoxView",
            "_dom_classes": [],
            "_model_name": "HBoxModel",
            "_view_module": "@jupyter-widgets/controls",
            "_model_module_version": "1.5.0",
            "_view_count": null,
            "_view_module_version": "1.5.0",
            "box_style": "",
            "layout": "IPY_MODEL_f3a909f4a18b418fb81f313e8130090e",
            "_model_module": "@jupyter-widgets/controls",
            "children": [
              "IPY_MODEL_569e6f51bad7421ab8509c361ca37659",
              "IPY_MODEL_df78b4f6af7e4739b8b9d3c632ac7f82"
            ]
          }
        },
        "f3a909f4a18b418fb81f313e8130090e": {
          "model_module": "@jupyter-widgets/base",
          "model_name": "LayoutModel",
          "state": {
            "_view_name": "LayoutView",
            "grid_template_rows": null,
            "right": null,
            "justify_content": null,
            "_view_module": "@jupyter-widgets/base",
            "overflow": null,
            "_model_module_version": "1.2.0",
            "_view_count": null,
            "flex_flow": null,
            "width": null,
            "min_width": null,
            "border": null,
            "align_items": null,
            "bottom": null,
            "_model_module": "@jupyter-widgets/base",
            "top": null,
            "grid_column": null,
            "overflow_y": null,
            "overflow_x": null,
            "grid_auto_flow": null,
            "grid_area": null,
            "grid_template_columns": null,
            "flex": null,
            "_model_name": "LayoutModel",
            "justify_items": null,
            "grid_row": null,
            "max_height": null,
            "align_content": null,
            "visibility": null,
            "align_self": null,
            "height": null,
            "min_height": null,
            "padding": null,
            "grid_auto_rows": null,
            "grid_gap": null,
            "max_width": null,
            "order": null,
            "_view_module_version": "1.2.0",
            "grid_template_areas": null,
            "object_position": null,
            "object_fit": null,
            "grid_auto_columns": null,
            "margin": null,
            "display": null,
            "left": null
          }
        },
        "569e6f51bad7421ab8509c361ca37659": {
          "model_module": "@jupyter-widgets/controls",
          "model_name": "FloatProgressModel",
          "state": {
            "_view_name": "ProgressView",
            "style": "IPY_MODEL_9e4baa37a26942fd9bc31abf87a1ebcd",
            "_dom_classes": [],
            "description": "100%",
            "_model_name": "FloatProgressModel",
            "bar_style": "success",
            "max": 10,
            "_view_module": "@jupyter-widgets/controls",
            "_model_module_version": "1.5.0",
            "value": 10,
            "_view_count": null,
            "_view_module_version": "1.5.0",
            "orientation": "horizontal",
            "min": 0,
            "description_tooltip": null,
            "_model_module": "@jupyter-widgets/controls",
            "layout": "IPY_MODEL_79e896407c6e4012a4729a04a63158a7"
          }
        },
        "df78b4f6af7e4739b8b9d3c632ac7f82": {
          "model_module": "@jupyter-widgets/controls",
          "model_name": "HTMLModel",
          "state": {
            "_view_name": "HTMLView",
            "style": "IPY_MODEL_d18451ece0914a8dabeda37ed61906e0",
            "_dom_classes": [],
            "description": "",
            "_model_name": "HTMLModel",
            "placeholder": "​",
            "_view_module": "@jupyter-widgets/controls",
            "_model_module_version": "1.5.0",
            "value": " 10/10 [18:37&lt;00:00, 111.70s/it]",
            "_view_count": null,
            "_view_module_version": "1.5.0",
            "description_tooltip": null,
            "_model_module": "@jupyter-widgets/controls",
            "layout": "IPY_MODEL_67e15944c04642b4b3b4f71110d7b83f"
          }
        },
        "9e4baa37a26942fd9bc31abf87a1ebcd": {
          "model_module": "@jupyter-widgets/controls",
          "model_name": "ProgressStyleModel",
          "state": {
            "_view_name": "StyleView",
            "_model_name": "ProgressStyleModel",
            "description_width": "initial",
            "_view_module": "@jupyter-widgets/base",
            "_model_module_version": "1.5.0",
            "_view_count": null,
            "_view_module_version": "1.2.0",
            "bar_color": null,
            "_model_module": "@jupyter-widgets/controls"
          }
        },
        "79e896407c6e4012a4729a04a63158a7": {
          "model_module": "@jupyter-widgets/base",
          "model_name": "LayoutModel",
          "state": {
            "_view_name": "LayoutView",
            "grid_template_rows": null,
            "right": null,
            "justify_content": null,
            "_view_module": "@jupyter-widgets/base",
            "overflow": null,
            "_model_module_version": "1.2.0",
            "_view_count": null,
            "flex_flow": null,
            "width": null,
            "min_width": null,
            "border": null,
            "align_items": null,
            "bottom": null,
            "_model_module": "@jupyter-widgets/base",
            "top": null,
            "grid_column": null,
            "overflow_y": null,
            "overflow_x": null,
            "grid_auto_flow": null,
            "grid_area": null,
            "grid_template_columns": null,
            "flex": null,
            "_model_name": "LayoutModel",
            "justify_items": null,
            "grid_row": null,
            "max_height": null,
            "align_content": null,
            "visibility": null,
            "align_self": null,
            "height": null,
            "min_height": null,
            "padding": null,
            "grid_auto_rows": null,
            "grid_gap": null,
            "max_width": null,
            "order": null,
            "_view_module_version": "1.2.0",
            "grid_template_areas": null,
            "object_position": null,
            "object_fit": null,
            "grid_auto_columns": null,
            "margin": null,
            "display": null,
            "left": null
          }
        },
        "d18451ece0914a8dabeda37ed61906e0": {
          "model_module": "@jupyter-widgets/controls",
          "model_name": "DescriptionStyleModel",
          "state": {
            "_view_name": "StyleView",
            "_model_name": "DescriptionStyleModel",
            "description_width": "",
            "_view_module": "@jupyter-widgets/base",
            "_model_module_version": "1.5.0",
            "_view_count": null,
            "_view_module_version": "1.2.0",
            "_model_module": "@jupyter-widgets/controls"
          }
        },
        "67e15944c04642b4b3b4f71110d7b83f": {
          "model_module": "@jupyter-widgets/base",
          "model_name": "LayoutModel",
          "state": {
            "_view_name": "LayoutView",
            "grid_template_rows": null,
            "right": null,
            "justify_content": null,
            "_view_module": "@jupyter-widgets/base",
            "overflow": null,
            "_model_module_version": "1.2.0",
            "_view_count": null,
            "flex_flow": null,
            "width": null,
            "min_width": null,
            "border": null,
            "align_items": null,
            "bottom": null,
            "_model_module": "@jupyter-widgets/base",
            "top": null,
            "grid_column": null,
            "overflow_y": null,
            "overflow_x": null,
            "grid_auto_flow": null,
            "grid_area": null,
            "grid_template_columns": null,
            "flex": null,
            "_model_name": "LayoutModel",
            "justify_items": null,
            "grid_row": null,
            "max_height": null,
            "align_content": null,
            "visibility": null,
            "align_self": null,
            "height": null,
            "min_height": null,
            "padding": null,
            "grid_auto_rows": null,
            "grid_gap": null,
            "max_width": null,
            "order": null,
            "_view_module_version": "1.2.0",
            "grid_template_areas": null,
            "object_position": null,
            "object_fit": null,
            "grid_auto_columns": null,
            "margin": null,
            "display": null,
            "left": null
          }
        },
        "f0f6407cd673487a8478c6fd4f5514e8": {
          "model_module": "@jupyter-widgets/controls",
          "model_name": "HBoxModel",
          "state": {
            "_view_name": "HBoxView",
            "_dom_classes": [],
            "_model_name": "HBoxModel",
            "_view_module": "@jupyter-widgets/controls",
            "_model_module_version": "1.5.0",
            "_view_count": null,
            "_view_module_version": "1.5.0",
            "box_style": "",
            "layout": "IPY_MODEL_bb237301ee174af5a167450cccc81c26",
            "_model_module": "@jupyter-widgets/controls",
            "children": [
              "IPY_MODEL_1ab390efabac4ef3a777cf08cdead2be",
              "IPY_MODEL_c8f25eb9350f47e78f46572f967fd7dc"
            ]
          }
        },
        "bb237301ee174af5a167450cccc81c26": {
          "model_module": "@jupyter-widgets/base",
          "model_name": "LayoutModel",
          "state": {
            "_view_name": "LayoutView",
            "grid_template_rows": null,
            "right": null,
            "justify_content": null,
            "_view_module": "@jupyter-widgets/base",
            "overflow": null,
            "_model_module_version": "1.2.0",
            "_view_count": null,
            "flex_flow": null,
            "width": null,
            "min_width": null,
            "border": null,
            "align_items": null,
            "bottom": null,
            "_model_module": "@jupyter-widgets/base",
            "top": null,
            "grid_column": null,
            "overflow_y": null,
            "overflow_x": null,
            "grid_auto_flow": null,
            "grid_area": null,
            "grid_template_columns": null,
            "flex": null,
            "_model_name": "LayoutModel",
            "justify_items": null,
            "grid_row": null,
            "max_height": null,
            "align_content": null,
            "visibility": null,
            "align_self": null,
            "height": null,
            "min_height": null,
            "padding": null,
            "grid_auto_rows": null,
            "grid_gap": null,
            "max_width": null,
            "order": null,
            "_view_module_version": "1.2.0",
            "grid_template_areas": null,
            "object_position": null,
            "object_fit": null,
            "grid_auto_columns": null,
            "margin": null,
            "display": null,
            "left": null
          }
        },
        "1ab390efabac4ef3a777cf08cdead2be": {
          "model_module": "@jupyter-widgets/controls",
          "model_name": "FloatProgressModel",
          "state": {
            "_view_name": "ProgressView",
            "style": "IPY_MODEL_9a11d47a267f418ab599f3a349c5c126",
            "_dom_classes": [],
            "description": "100%",
            "_model_name": "FloatProgressModel",
            "bar_style": "success",
            "max": 12500,
            "_view_module": "@jupyter-widgets/controls",
            "_model_module_version": "1.5.0",
            "value": 12500,
            "_view_count": null,
            "_view_module_version": "1.5.0",
            "orientation": "horizontal",
            "min": 0,
            "description_tooltip": null,
            "_model_module": "@jupyter-widgets/controls",
            "layout": "IPY_MODEL_52bea37e47a64dc1a2d278f747714345"
          }
        },
        "c8f25eb9350f47e78f46572f967fd7dc": {
          "model_module": "@jupyter-widgets/controls",
          "model_name": "HTMLModel",
          "state": {
            "_view_name": "HTMLView",
            "style": "IPY_MODEL_e041e88ab3f44e2b8fdb7f69092caaa5",
            "_dom_classes": [],
            "description": "",
            "_model_name": "HTMLModel",
            "placeholder": "​",
            "_view_module": "@jupyter-widgets/controls",
            "_model_module_version": "1.5.0",
            "value": " 12500/12500 [18:36&lt;00:00, 11.19it/s]",
            "_view_count": null,
            "_view_module_version": "1.5.0",
            "description_tooltip": null,
            "_model_module": "@jupyter-widgets/controls",
            "layout": "IPY_MODEL_3b051168545b408ca3475711b122a7c8"
          }
        },
        "9a11d47a267f418ab599f3a349c5c126": {
          "model_module": "@jupyter-widgets/controls",
          "model_name": "ProgressStyleModel",
          "state": {
            "_view_name": "StyleView",
            "_model_name": "ProgressStyleModel",
            "description_width": "initial",
            "_view_module": "@jupyter-widgets/base",
            "_model_module_version": "1.5.0",
            "_view_count": null,
            "_view_module_version": "1.2.0",
            "bar_color": null,
            "_model_module": "@jupyter-widgets/controls"
          }
        },
        "52bea37e47a64dc1a2d278f747714345": {
          "model_module": "@jupyter-widgets/base",
          "model_name": "LayoutModel",
          "state": {
            "_view_name": "LayoutView",
            "grid_template_rows": null,
            "right": null,
            "justify_content": null,
            "_view_module": "@jupyter-widgets/base",
            "overflow": null,
            "_model_module_version": "1.2.0",
            "_view_count": null,
            "flex_flow": null,
            "width": null,
            "min_width": null,
            "border": null,
            "align_items": null,
            "bottom": null,
            "_model_module": "@jupyter-widgets/base",
            "top": null,
            "grid_column": null,
            "overflow_y": null,
            "overflow_x": null,
            "grid_auto_flow": null,
            "grid_area": null,
            "grid_template_columns": null,
            "flex": null,
            "_model_name": "LayoutModel",
            "justify_items": null,
            "grid_row": null,
            "max_height": null,
            "align_content": null,
            "visibility": null,
            "align_self": null,
            "height": null,
            "min_height": null,
            "padding": null,
            "grid_auto_rows": null,
            "grid_gap": null,
            "max_width": null,
            "order": null,
            "_view_module_version": "1.2.0",
            "grid_template_areas": null,
            "object_position": null,
            "object_fit": null,
            "grid_auto_columns": null,
            "margin": null,
            "display": null,
            "left": null
          }
        },
        "e041e88ab3f44e2b8fdb7f69092caaa5": {
          "model_module": "@jupyter-widgets/controls",
          "model_name": "DescriptionStyleModel",
          "state": {
            "_view_name": "StyleView",
            "_model_name": "DescriptionStyleModel",
            "description_width": "",
            "_view_module": "@jupyter-widgets/base",
            "_model_module_version": "1.5.0",
            "_view_count": null,
            "_view_module_version": "1.2.0",
            "_model_module": "@jupyter-widgets/controls"
          }
        },
        "3b051168545b408ca3475711b122a7c8": {
          "model_module": "@jupyter-widgets/base",
          "model_name": "LayoutModel",
          "state": {
            "_view_name": "LayoutView",
            "grid_template_rows": null,
            "right": null,
            "justify_content": null,
            "_view_module": "@jupyter-widgets/base",
            "overflow": null,
            "_model_module_version": "1.2.0",
            "_view_count": null,
            "flex_flow": null,
            "width": null,
            "min_width": null,
            "border": null,
            "align_items": null,
            "bottom": null,
            "_model_module": "@jupyter-widgets/base",
            "top": null,
            "grid_column": null,
            "overflow_y": null,
            "overflow_x": null,
            "grid_auto_flow": null,
            "grid_area": null,
            "grid_template_columns": null,
            "flex": null,
            "_model_name": "LayoutModel",
            "justify_items": null,
            "grid_row": null,
            "max_height": null,
            "align_content": null,
            "visibility": null,
            "align_self": null,
            "height": null,
            "min_height": null,
            "padding": null,
            "grid_auto_rows": null,
            "grid_gap": null,
            "max_width": null,
            "order": null,
            "_view_module_version": "1.2.0",
            "grid_template_areas": null,
            "object_position": null,
            "object_fit": null,
            "grid_auto_columns": null,
            "margin": null,
            "display": null,
            "left": null
          }
        },
        "fb27d4705388419f98ca03dfcdf82cfa": {
          "model_module": "@jupyter-widgets/controls",
          "model_name": "HBoxModel",
          "state": {
            "_view_name": "HBoxView",
            "_dom_classes": [],
            "_model_name": "HBoxModel",
            "_view_module": "@jupyter-widgets/controls",
            "_model_module_version": "1.5.0",
            "_view_count": null,
            "_view_module_version": "1.5.0",
            "box_style": "",
            "layout": "IPY_MODEL_2526763810c24d57bab0c6d6bc7637ee",
            "_model_module": "@jupyter-widgets/controls",
            "children": [
              "IPY_MODEL_98e25c4f372248288e1b69bf9837cbb0",
              "IPY_MODEL_c1376c882b7149a9ac7431e0467d8a15"
            ]
          }
        },
        "2526763810c24d57bab0c6d6bc7637ee": {
          "model_module": "@jupyter-widgets/base",
          "model_name": "LayoutModel",
          "state": {
            "_view_name": "LayoutView",
            "grid_template_rows": null,
            "right": null,
            "justify_content": null,
            "_view_module": "@jupyter-widgets/base",
            "overflow": null,
            "_model_module_version": "1.2.0",
            "_view_count": null,
            "flex_flow": null,
            "width": null,
            "min_width": null,
            "border": null,
            "align_items": null,
            "bottom": null,
            "_model_module": "@jupyter-widgets/base",
            "top": null,
            "grid_column": null,
            "overflow_y": null,
            "overflow_x": null,
            "grid_auto_flow": null,
            "grid_area": null,
            "grid_template_columns": null,
            "flex": null,
            "_model_name": "LayoutModel",
            "justify_items": null,
            "grid_row": null,
            "max_height": null,
            "align_content": null,
            "visibility": null,
            "align_self": null,
            "height": null,
            "min_height": null,
            "padding": null,
            "grid_auto_rows": null,
            "grid_gap": null,
            "max_width": null,
            "order": null,
            "_view_module_version": "1.2.0",
            "grid_template_areas": null,
            "object_position": null,
            "object_fit": null,
            "grid_auto_columns": null,
            "margin": null,
            "display": null,
            "left": null
          }
        },
        "98e25c4f372248288e1b69bf9837cbb0": {
          "model_module": "@jupyter-widgets/controls",
          "model_name": "FloatProgressModel",
          "state": {
            "_view_name": "ProgressView",
            "style": "IPY_MODEL_ae3be1e95f6d4862922760a02cd3d3f7",
            "_dom_classes": [],
            "description": "100%",
            "_model_name": "FloatProgressModel",
            "bar_style": "success",
            "max": 12500,
            "_view_module": "@jupyter-widgets/controls",
            "_model_module_version": "1.5.0",
            "value": 12500,
            "_view_count": null,
            "_view_module_version": "1.5.0",
            "orientation": "horizontal",
            "min": 0,
            "description_tooltip": null,
            "_model_module": "@jupyter-widgets/controls",
            "layout": "IPY_MODEL_b4c6ad9c3d6645deb7d7a44115bd1bba"
          }
        },
        "c1376c882b7149a9ac7431e0467d8a15": {
          "model_module": "@jupyter-widgets/controls",
          "model_name": "HTMLModel",
          "state": {
            "_view_name": "HTMLView",
            "style": "IPY_MODEL_87579fe0e00143a5a2a1332cb938f7a3",
            "_dom_classes": [],
            "description": "",
            "_model_name": "HTMLModel",
            "placeholder": "​",
            "_view_module": "@jupyter-widgets/controls",
            "_model_module_version": "1.5.0",
            "value": " 12500/12500 [17:23&lt;00:00, 11.98it/s]",
            "_view_count": null,
            "_view_module_version": "1.5.0",
            "description_tooltip": null,
            "_model_module": "@jupyter-widgets/controls",
            "layout": "IPY_MODEL_b3b68bb434c5489aa119f58dddd1074a"
          }
        },
        "ae3be1e95f6d4862922760a02cd3d3f7": {
          "model_module": "@jupyter-widgets/controls",
          "model_name": "ProgressStyleModel",
          "state": {
            "_view_name": "StyleView",
            "_model_name": "ProgressStyleModel",
            "description_width": "initial",
            "_view_module": "@jupyter-widgets/base",
            "_model_module_version": "1.5.0",
            "_view_count": null,
            "_view_module_version": "1.2.0",
            "bar_color": null,
            "_model_module": "@jupyter-widgets/controls"
          }
        },
        "b4c6ad9c3d6645deb7d7a44115bd1bba": {
          "model_module": "@jupyter-widgets/base",
          "model_name": "LayoutModel",
          "state": {
            "_view_name": "LayoutView",
            "grid_template_rows": null,
            "right": null,
            "justify_content": null,
            "_view_module": "@jupyter-widgets/base",
            "overflow": null,
            "_model_module_version": "1.2.0",
            "_view_count": null,
            "flex_flow": null,
            "width": null,
            "min_width": null,
            "border": null,
            "align_items": null,
            "bottom": null,
            "_model_module": "@jupyter-widgets/base",
            "top": null,
            "grid_column": null,
            "overflow_y": null,
            "overflow_x": null,
            "grid_auto_flow": null,
            "grid_area": null,
            "grid_template_columns": null,
            "flex": null,
            "_model_name": "LayoutModel",
            "justify_items": null,
            "grid_row": null,
            "max_height": null,
            "align_content": null,
            "visibility": null,
            "align_self": null,
            "height": null,
            "min_height": null,
            "padding": null,
            "grid_auto_rows": null,
            "grid_gap": null,
            "max_width": null,
            "order": null,
            "_view_module_version": "1.2.0",
            "grid_template_areas": null,
            "object_position": null,
            "object_fit": null,
            "grid_auto_columns": null,
            "margin": null,
            "display": null,
            "left": null
          }
        },
        "87579fe0e00143a5a2a1332cb938f7a3": {
          "model_module": "@jupyter-widgets/controls",
          "model_name": "DescriptionStyleModel",
          "state": {
            "_view_name": "StyleView",
            "_model_name": "DescriptionStyleModel",
            "description_width": "",
            "_view_module": "@jupyter-widgets/base",
            "_model_module_version": "1.5.0",
            "_view_count": null,
            "_view_module_version": "1.2.0",
            "_model_module": "@jupyter-widgets/controls"
          }
        },
        "b3b68bb434c5489aa119f58dddd1074a": {
          "model_module": "@jupyter-widgets/base",
          "model_name": "LayoutModel",
          "state": {
            "_view_name": "LayoutView",
            "grid_template_rows": null,
            "right": null,
            "justify_content": null,
            "_view_module": "@jupyter-widgets/base",
            "overflow": null,
            "_model_module_version": "1.2.0",
            "_view_count": null,
            "flex_flow": null,
            "width": null,
            "min_width": null,
            "border": null,
            "align_items": null,
            "bottom": null,
            "_model_module": "@jupyter-widgets/base",
            "top": null,
            "grid_column": null,
            "overflow_y": null,
            "overflow_x": null,
            "grid_auto_flow": null,
            "grid_area": null,
            "grid_template_columns": null,
            "flex": null,
            "_model_name": "LayoutModel",
            "justify_items": null,
            "grid_row": null,
            "max_height": null,
            "align_content": null,
            "visibility": null,
            "align_self": null,
            "height": null,
            "min_height": null,
            "padding": null,
            "grid_auto_rows": null,
            "grid_gap": null,
            "max_width": null,
            "order": null,
            "_view_module_version": "1.2.0",
            "grid_template_areas": null,
            "object_position": null,
            "object_fit": null,
            "grid_auto_columns": null,
            "margin": null,
            "display": null,
            "left": null
          }
        },
        "95e0bc57a73946a8a9cc7d59b7ecf70e": {
          "model_module": "@jupyter-widgets/controls",
          "model_name": "HBoxModel",
          "state": {
            "_view_name": "HBoxView",
            "_dom_classes": [],
            "_model_name": "HBoxModel",
            "_view_module": "@jupyter-widgets/controls",
            "_model_module_version": "1.5.0",
            "_view_count": null,
            "_view_module_version": "1.5.0",
            "box_style": "",
            "layout": "IPY_MODEL_74b93f947ab04d83ada11df2e0e7e44f",
            "_model_module": "@jupyter-widgets/controls",
            "children": [
              "IPY_MODEL_4e83cb602877430aaaf981416ca31c01",
              "IPY_MODEL_a3587765dc01453c8c3dc379c3aaacce"
            ]
          }
        },
        "74b93f947ab04d83ada11df2e0e7e44f": {
          "model_module": "@jupyter-widgets/base",
          "model_name": "LayoutModel",
          "state": {
            "_view_name": "LayoutView",
            "grid_template_rows": null,
            "right": null,
            "justify_content": null,
            "_view_module": "@jupyter-widgets/base",
            "overflow": null,
            "_model_module_version": "1.2.0",
            "_view_count": null,
            "flex_flow": null,
            "width": null,
            "min_width": null,
            "border": null,
            "align_items": null,
            "bottom": null,
            "_model_module": "@jupyter-widgets/base",
            "top": null,
            "grid_column": null,
            "overflow_y": null,
            "overflow_x": null,
            "grid_auto_flow": null,
            "grid_area": null,
            "grid_template_columns": null,
            "flex": null,
            "_model_name": "LayoutModel",
            "justify_items": null,
            "grid_row": null,
            "max_height": null,
            "align_content": null,
            "visibility": null,
            "align_self": null,
            "height": null,
            "min_height": null,
            "padding": null,
            "grid_auto_rows": null,
            "grid_gap": null,
            "max_width": null,
            "order": null,
            "_view_module_version": "1.2.0",
            "grid_template_areas": null,
            "object_position": null,
            "object_fit": null,
            "grid_auto_columns": null,
            "margin": null,
            "display": null,
            "left": null
          }
        },
        "4e83cb602877430aaaf981416ca31c01": {
          "model_module": "@jupyter-widgets/controls",
          "model_name": "FloatProgressModel",
          "state": {
            "_view_name": "ProgressView",
            "style": "IPY_MODEL_ff02cbe1237d445b86cadef8154d54cb",
            "_dom_classes": [],
            "description": "100%",
            "_model_name": "FloatProgressModel",
            "bar_style": "success",
            "max": 12500,
            "_view_module": "@jupyter-widgets/controls",
            "_model_module_version": "1.5.0",
            "value": 12500,
            "_view_count": null,
            "_view_module_version": "1.5.0",
            "orientation": "horizontal",
            "min": 0,
            "description_tooltip": null,
            "_model_module": "@jupyter-widgets/controls",
            "layout": "IPY_MODEL_14429018d3664607933c294004390c4b"
          }
        },
        "a3587765dc01453c8c3dc379c3aaacce": {
          "model_module": "@jupyter-widgets/controls",
          "model_name": "HTMLModel",
          "state": {
            "_view_name": "HTMLView",
            "style": "IPY_MODEL_c2daf5ed59cc48a8bc1c274c902f0b6a",
            "_dom_classes": [],
            "description": "",
            "_model_name": "HTMLModel",
            "placeholder": "​",
            "_view_module": "@jupyter-widgets/controls",
            "_model_module_version": "1.5.0",
            "value": " 12500/12500 [16:09&lt;00:00, 12.89it/s]",
            "_view_count": null,
            "_view_module_version": "1.5.0",
            "description_tooltip": null,
            "_model_module": "@jupyter-widgets/controls",
            "layout": "IPY_MODEL_67d74dac0ccd4faeb2002d8698921858"
          }
        },
        "ff02cbe1237d445b86cadef8154d54cb": {
          "model_module": "@jupyter-widgets/controls",
          "model_name": "ProgressStyleModel",
          "state": {
            "_view_name": "StyleView",
            "_model_name": "ProgressStyleModel",
            "description_width": "initial",
            "_view_module": "@jupyter-widgets/base",
            "_model_module_version": "1.5.0",
            "_view_count": null,
            "_view_module_version": "1.2.0",
            "bar_color": null,
            "_model_module": "@jupyter-widgets/controls"
          }
        },
        "14429018d3664607933c294004390c4b": {
          "model_module": "@jupyter-widgets/base",
          "model_name": "LayoutModel",
          "state": {
            "_view_name": "LayoutView",
            "grid_template_rows": null,
            "right": null,
            "justify_content": null,
            "_view_module": "@jupyter-widgets/base",
            "overflow": null,
            "_model_module_version": "1.2.0",
            "_view_count": null,
            "flex_flow": null,
            "width": null,
            "min_width": null,
            "border": null,
            "align_items": null,
            "bottom": null,
            "_model_module": "@jupyter-widgets/base",
            "top": null,
            "grid_column": null,
            "overflow_y": null,
            "overflow_x": null,
            "grid_auto_flow": null,
            "grid_area": null,
            "grid_template_columns": null,
            "flex": null,
            "_model_name": "LayoutModel",
            "justify_items": null,
            "grid_row": null,
            "max_height": null,
            "align_content": null,
            "visibility": null,
            "align_self": null,
            "height": null,
            "min_height": null,
            "padding": null,
            "grid_auto_rows": null,
            "grid_gap": null,
            "max_width": null,
            "order": null,
            "_view_module_version": "1.2.0",
            "grid_template_areas": null,
            "object_position": null,
            "object_fit": null,
            "grid_auto_columns": null,
            "margin": null,
            "display": null,
            "left": null
          }
        },
        "c2daf5ed59cc48a8bc1c274c902f0b6a": {
          "model_module": "@jupyter-widgets/controls",
          "model_name": "DescriptionStyleModel",
          "state": {
            "_view_name": "StyleView",
            "_model_name": "DescriptionStyleModel",
            "description_width": "",
            "_view_module": "@jupyter-widgets/base",
            "_model_module_version": "1.5.0",
            "_view_count": null,
            "_view_module_version": "1.2.0",
            "_model_module": "@jupyter-widgets/controls"
          }
        },
        "67d74dac0ccd4faeb2002d8698921858": {
          "model_module": "@jupyter-widgets/base",
          "model_name": "LayoutModel",
          "state": {
            "_view_name": "LayoutView",
            "grid_template_rows": null,
            "right": null,
            "justify_content": null,
            "_view_module": "@jupyter-widgets/base",
            "overflow": null,
            "_model_module_version": "1.2.0",
            "_view_count": null,
            "flex_flow": null,
            "width": null,
            "min_width": null,
            "border": null,
            "align_items": null,
            "bottom": null,
            "_model_module": "@jupyter-widgets/base",
            "top": null,
            "grid_column": null,
            "overflow_y": null,
            "overflow_x": null,
            "grid_auto_flow": null,
            "grid_area": null,
            "grid_template_columns": null,
            "flex": null,
            "_model_name": "LayoutModel",
            "justify_items": null,
            "grid_row": null,
            "max_height": null,
            "align_content": null,
            "visibility": null,
            "align_self": null,
            "height": null,
            "min_height": null,
            "padding": null,
            "grid_auto_rows": null,
            "grid_gap": null,
            "max_width": null,
            "order": null,
            "_view_module_version": "1.2.0",
            "grid_template_areas": null,
            "object_position": null,
            "object_fit": null,
            "grid_auto_columns": null,
            "margin": null,
            "display": null,
            "left": null
          }
        },
        "4cfede03b35d4302b11207d689084d31": {
          "model_module": "@jupyter-widgets/controls",
          "model_name": "HBoxModel",
          "state": {
            "_view_name": "HBoxView",
            "_dom_classes": [],
            "_model_name": "HBoxModel",
            "_view_module": "@jupyter-widgets/controls",
            "_model_module_version": "1.5.0",
            "_view_count": null,
            "_view_module_version": "1.5.0",
            "box_style": "",
            "layout": "IPY_MODEL_324804014f0e444c9f36bd3dcce9396b",
            "_model_module": "@jupyter-widgets/controls",
            "children": [
              "IPY_MODEL_44d225c4a92647a1ae8af6bd7fe47401",
              "IPY_MODEL_37be281364344e549673647378314cec"
            ]
          }
        },
        "324804014f0e444c9f36bd3dcce9396b": {
          "model_module": "@jupyter-widgets/base",
          "model_name": "LayoutModel",
          "state": {
            "_view_name": "LayoutView",
            "grid_template_rows": null,
            "right": null,
            "justify_content": null,
            "_view_module": "@jupyter-widgets/base",
            "overflow": null,
            "_model_module_version": "1.2.0",
            "_view_count": null,
            "flex_flow": null,
            "width": null,
            "min_width": null,
            "border": null,
            "align_items": null,
            "bottom": null,
            "_model_module": "@jupyter-widgets/base",
            "top": null,
            "grid_column": null,
            "overflow_y": null,
            "overflow_x": null,
            "grid_auto_flow": null,
            "grid_area": null,
            "grid_template_columns": null,
            "flex": null,
            "_model_name": "LayoutModel",
            "justify_items": null,
            "grid_row": null,
            "max_height": null,
            "align_content": null,
            "visibility": null,
            "align_self": null,
            "height": null,
            "min_height": null,
            "padding": null,
            "grid_auto_rows": null,
            "grid_gap": null,
            "max_width": null,
            "order": null,
            "_view_module_version": "1.2.0",
            "grid_template_areas": null,
            "object_position": null,
            "object_fit": null,
            "grid_auto_columns": null,
            "margin": null,
            "display": null,
            "left": null
          }
        },
        "44d225c4a92647a1ae8af6bd7fe47401": {
          "model_module": "@jupyter-widgets/controls",
          "model_name": "FloatProgressModel",
          "state": {
            "_view_name": "ProgressView",
            "style": "IPY_MODEL_f4de3edd45404154ba886b644f43c49f",
            "_dom_classes": [],
            "description": "100%",
            "_model_name": "FloatProgressModel",
            "bar_style": "success",
            "max": 12500,
            "_view_module": "@jupyter-widgets/controls",
            "_model_module_version": "1.5.0",
            "value": 12500,
            "_view_count": null,
            "_view_module_version": "1.5.0",
            "orientation": "horizontal",
            "min": 0,
            "description_tooltip": null,
            "_model_module": "@jupyter-widgets/controls",
            "layout": "IPY_MODEL_adf6b9ad5a4c4f889a170db8cd119fc1"
          }
        },
        "37be281364344e549673647378314cec": {
          "model_module": "@jupyter-widgets/controls",
          "model_name": "HTMLModel",
          "state": {
            "_view_name": "HTMLView",
            "style": "IPY_MODEL_85bbc4f222d94033a52cf958036e6979",
            "_dom_classes": [],
            "description": "",
            "_model_name": "HTMLModel",
            "placeholder": "​",
            "_view_module": "@jupyter-widgets/controls",
            "_model_module_version": "1.5.0",
            "value": " 12500/12500 [02:27&lt;00:00, 84.51it/s]",
            "_view_count": null,
            "_view_module_version": "1.5.0",
            "description_tooltip": null,
            "_model_module": "@jupyter-widgets/controls",
            "layout": "IPY_MODEL_aeaf574e640a40b6a5b71076c93b6a33"
          }
        },
        "f4de3edd45404154ba886b644f43c49f": {
          "model_module": "@jupyter-widgets/controls",
          "model_name": "ProgressStyleModel",
          "state": {
            "_view_name": "StyleView",
            "_model_name": "ProgressStyleModel",
            "description_width": "initial",
            "_view_module": "@jupyter-widgets/base",
            "_model_module_version": "1.5.0",
            "_view_count": null,
            "_view_module_version": "1.2.0",
            "bar_color": null,
            "_model_module": "@jupyter-widgets/controls"
          }
        },
        "adf6b9ad5a4c4f889a170db8cd119fc1": {
          "model_module": "@jupyter-widgets/base",
          "model_name": "LayoutModel",
          "state": {
            "_view_name": "LayoutView",
            "grid_template_rows": null,
            "right": null,
            "justify_content": null,
            "_view_module": "@jupyter-widgets/base",
            "overflow": null,
            "_model_module_version": "1.2.0",
            "_view_count": null,
            "flex_flow": null,
            "width": null,
            "min_width": null,
            "border": null,
            "align_items": null,
            "bottom": null,
            "_model_module": "@jupyter-widgets/base",
            "top": null,
            "grid_column": null,
            "overflow_y": null,
            "overflow_x": null,
            "grid_auto_flow": null,
            "grid_area": null,
            "grid_template_columns": null,
            "flex": null,
            "_model_name": "LayoutModel",
            "justify_items": null,
            "grid_row": null,
            "max_height": null,
            "align_content": null,
            "visibility": null,
            "align_self": null,
            "height": null,
            "min_height": null,
            "padding": null,
            "grid_auto_rows": null,
            "grid_gap": null,
            "max_width": null,
            "order": null,
            "_view_module_version": "1.2.0",
            "grid_template_areas": null,
            "object_position": null,
            "object_fit": null,
            "grid_auto_columns": null,
            "margin": null,
            "display": null,
            "left": null
          }
        },
        "85bbc4f222d94033a52cf958036e6979": {
          "model_module": "@jupyter-widgets/controls",
          "model_name": "DescriptionStyleModel",
          "state": {
            "_view_name": "StyleView",
            "_model_name": "DescriptionStyleModel",
            "description_width": "",
            "_view_module": "@jupyter-widgets/base",
            "_model_module_version": "1.5.0",
            "_view_count": null,
            "_view_module_version": "1.2.0",
            "_model_module": "@jupyter-widgets/controls"
          }
        },
        "aeaf574e640a40b6a5b71076c93b6a33": {
          "model_module": "@jupyter-widgets/base",
          "model_name": "LayoutModel",
          "state": {
            "_view_name": "LayoutView",
            "grid_template_rows": null,
            "right": null,
            "justify_content": null,
            "_view_module": "@jupyter-widgets/base",
            "overflow": null,
            "_model_module_version": "1.2.0",
            "_view_count": null,
            "flex_flow": null,
            "width": null,
            "min_width": null,
            "border": null,
            "align_items": null,
            "bottom": null,
            "_model_module": "@jupyter-widgets/base",
            "top": null,
            "grid_column": null,
            "overflow_y": null,
            "overflow_x": null,
            "grid_auto_flow": null,
            "grid_area": null,
            "grid_template_columns": null,
            "flex": null,
            "_model_name": "LayoutModel",
            "justify_items": null,
            "grid_row": null,
            "max_height": null,
            "align_content": null,
            "visibility": null,
            "align_self": null,
            "height": null,
            "min_height": null,
            "padding": null,
            "grid_auto_rows": null,
            "grid_gap": null,
            "max_width": null,
            "order": null,
            "_view_module_version": "1.2.0",
            "grid_template_areas": null,
            "object_position": null,
            "object_fit": null,
            "grid_auto_columns": null,
            "margin": null,
            "display": null,
            "left": null
          }
        },
        "128d6e67150e44488a02624d08b2c684": {
          "model_module": "@jupyter-widgets/controls",
          "model_name": "HBoxModel",
          "state": {
            "_view_name": "HBoxView",
            "_dom_classes": [],
            "_model_name": "HBoxModel",
            "_view_module": "@jupyter-widgets/controls",
            "_model_module_version": "1.5.0",
            "_view_count": null,
            "_view_module_version": "1.5.0",
            "box_style": "",
            "layout": "IPY_MODEL_bbd9f4fd452f40f28e91876929cf1494",
            "_model_module": "@jupyter-widgets/controls",
            "children": [
              "IPY_MODEL_40ae9ac47fa04d988f0000dbadd2916a",
              "IPY_MODEL_5cdf6a3f45e345a9a38b756a8808cb94"
            ]
          }
        },
        "bbd9f4fd452f40f28e91876929cf1494": {
          "model_module": "@jupyter-widgets/base",
          "model_name": "LayoutModel",
          "state": {
            "_view_name": "LayoutView",
            "grid_template_rows": null,
            "right": null,
            "justify_content": null,
            "_view_module": "@jupyter-widgets/base",
            "overflow": null,
            "_model_module_version": "1.2.0",
            "_view_count": null,
            "flex_flow": null,
            "width": null,
            "min_width": null,
            "border": null,
            "align_items": null,
            "bottom": null,
            "_model_module": "@jupyter-widgets/base",
            "top": null,
            "grid_column": null,
            "overflow_y": null,
            "overflow_x": null,
            "grid_auto_flow": null,
            "grid_area": null,
            "grid_template_columns": null,
            "flex": null,
            "_model_name": "LayoutModel",
            "justify_items": null,
            "grid_row": null,
            "max_height": null,
            "align_content": null,
            "visibility": null,
            "align_self": null,
            "height": null,
            "min_height": null,
            "padding": null,
            "grid_auto_rows": null,
            "grid_gap": null,
            "max_width": null,
            "order": null,
            "_view_module_version": "1.2.0",
            "grid_template_areas": null,
            "object_position": null,
            "object_fit": null,
            "grid_auto_columns": null,
            "margin": null,
            "display": null,
            "left": null
          }
        },
        "40ae9ac47fa04d988f0000dbadd2916a": {
          "model_module": "@jupyter-widgets/controls",
          "model_name": "FloatProgressModel",
          "state": {
            "_view_name": "ProgressView",
            "style": "IPY_MODEL_9909e4c11e464b9db111f5c8e7762030",
            "_dom_classes": [],
            "description": "100%",
            "_model_name": "FloatProgressModel",
            "bar_style": "success",
            "max": 12500,
            "_view_module": "@jupyter-widgets/controls",
            "_model_module_version": "1.5.0",
            "value": 12500,
            "_view_count": null,
            "_view_module_version": "1.5.0",
            "orientation": "horizontal",
            "min": 0,
            "description_tooltip": null,
            "_model_module": "@jupyter-widgets/controls",
            "layout": "IPY_MODEL_d484393c32a2497cb18f4dd479306979"
          }
        },
        "5cdf6a3f45e345a9a38b756a8808cb94": {
          "model_module": "@jupyter-widgets/controls",
          "model_name": "HTMLModel",
          "state": {
            "_view_name": "HTMLView",
            "style": "IPY_MODEL_cb78b87b7107488f8071270927ea4813",
            "_dom_classes": [],
            "description": "",
            "_model_name": "HTMLModel",
            "placeholder": "​",
            "_view_module": "@jupyter-widgets/controls",
            "_model_module_version": "1.5.0",
            "value": " 12500/12500 [13:42&lt;00:00, 15.19it/s]",
            "_view_count": null,
            "_view_module_version": "1.5.0",
            "description_tooltip": null,
            "_model_module": "@jupyter-widgets/controls",
            "layout": "IPY_MODEL_4a9a7992a8a34c14a119863720689fb1"
          }
        },
        "9909e4c11e464b9db111f5c8e7762030": {
          "model_module": "@jupyter-widgets/controls",
          "model_name": "ProgressStyleModel",
          "state": {
            "_view_name": "StyleView",
            "_model_name": "ProgressStyleModel",
            "description_width": "initial",
            "_view_module": "@jupyter-widgets/base",
            "_model_module_version": "1.5.0",
            "_view_count": null,
            "_view_module_version": "1.2.0",
            "bar_color": null,
            "_model_module": "@jupyter-widgets/controls"
          }
        },
        "d484393c32a2497cb18f4dd479306979": {
          "model_module": "@jupyter-widgets/base",
          "model_name": "LayoutModel",
          "state": {
            "_view_name": "LayoutView",
            "grid_template_rows": null,
            "right": null,
            "justify_content": null,
            "_view_module": "@jupyter-widgets/base",
            "overflow": null,
            "_model_module_version": "1.2.0",
            "_view_count": null,
            "flex_flow": null,
            "width": null,
            "min_width": null,
            "border": null,
            "align_items": null,
            "bottom": null,
            "_model_module": "@jupyter-widgets/base",
            "top": null,
            "grid_column": null,
            "overflow_y": null,
            "overflow_x": null,
            "grid_auto_flow": null,
            "grid_area": null,
            "grid_template_columns": null,
            "flex": null,
            "_model_name": "LayoutModel",
            "justify_items": null,
            "grid_row": null,
            "max_height": null,
            "align_content": null,
            "visibility": null,
            "align_self": null,
            "height": null,
            "min_height": null,
            "padding": null,
            "grid_auto_rows": null,
            "grid_gap": null,
            "max_width": null,
            "order": null,
            "_view_module_version": "1.2.0",
            "grid_template_areas": null,
            "object_position": null,
            "object_fit": null,
            "grid_auto_columns": null,
            "margin": null,
            "display": null,
            "left": null
          }
        },
        "cb78b87b7107488f8071270927ea4813": {
          "model_module": "@jupyter-widgets/controls",
          "model_name": "DescriptionStyleModel",
          "state": {
            "_view_name": "StyleView",
            "_model_name": "DescriptionStyleModel",
            "description_width": "",
            "_view_module": "@jupyter-widgets/base",
            "_model_module_version": "1.5.0",
            "_view_count": null,
            "_view_module_version": "1.2.0",
            "_model_module": "@jupyter-widgets/controls"
          }
        },
        "4a9a7992a8a34c14a119863720689fb1": {
          "model_module": "@jupyter-widgets/base",
          "model_name": "LayoutModel",
          "state": {
            "_view_name": "LayoutView",
            "grid_template_rows": null,
            "right": null,
            "justify_content": null,
            "_view_module": "@jupyter-widgets/base",
            "overflow": null,
            "_model_module_version": "1.2.0",
            "_view_count": null,
            "flex_flow": null,
            "width": null,
            "min_width": null,
            "border": null,
            "align_items": null,
            "bottom": null,
            "_model_module": "@jupyter-widgets/base",
            "top": null,
            "grid_column": null,
            "overflow_y": null,
            "overflow_x": null,
            "grid_auto_flow": null,
            "grid_area": null,
            "grid_template_columns": null,
            "flex": null,
            "_model_name": "LayoutModel",
            "justify_items": null,
            "grid_row": null,
            "max_height": null,
            "align_content": null,
            "visibility": null,
            "align_self": null,
            "height": null,
            "min_height": null,
            "padding": null,
            "grid_auto_rows": null,
            "grid_gap": null,
            "max_width": null,
            "order": null,
            "_view_module_version": "1.2.0",
            "grid_template_areas": null,
            "object_position": null,
            "object_fit": null,
            "grid_auto_columns": null,
            "margin": null,
            "display": null,
            "left": null
          }
        },
        "664ea40f67a74338babb13f113473865": {
          "model_module": "@jupyter-widgets/controls",
          "model_name": "HBoxModel",
          "state": {
            "_view_name": "HBoxView",
            "_dom_classes": [],
            "_model_name": "HBoxModel",
            "_view_module": "@jupyter-widgets/controls",
            "_model_module_version": "1.5.0",
            "_view_count": null,
            "_view_module_version": "1.5.0",
            "box_style": "",
            "layout": "IPY_MODEL_a6a715dba3ce42c987f56236d9f27342",
            "_model_module": "@jupyter-widgets/controls",
            "children": [
              "IPY_MODEL_6977abbb808444419f69fa17d425a958",
              "IPY_MODEL_c1e9eba46db54e40801856ed8db34bb9"
            ]
          }
        },
        "a6a715dba3ce42c987f56236d9f27342": {
          "model_module": "@jupyter-widgets/base",
          "model_name": "LayoutModel",
          "state": {
            "_view_name": "LayoutView",
            "grid_template_rows": null,
            "right": null,
            "justify_content": null,
            "_view_module": "@jupyter-widgets/base",
            "overflow": null,
            "_model_module_version": "1.2.0",
            "_view_count": null,
            "flex_flow": null,
            "width": null,
            "min_width": null,
            "border": null,
            "align_items": null,
            "bottom": null,
            "_model_module": "@jupyter-widgets/base",
            "top": null,
            "grid_column": null,
            "overflow_y": null,
            "overflow_x": null,
            "grid_auto_flow": null,
            "grid_area": null,
            "grid_template_columns": null,
            "flex": null,
            "_model_name": "LayoutModel",
            "justify_items": null,
            "grid_row": null,
            "max_height": null,
            "align_content": null,
            "visibility": null,
            "align_self": null,
            "height": null,
            "min_height": null,
            "padding": null,
            "grid_auto_rows": null,
            "grid_gap": null,
            "max_width": null,
            "order": null,
            "_view_module_version": "1.2.0",
            "grid_template_areas": null,
            "object_position": null,
            "object_fit": null,
            "grid_auto_columns": null,
            "margin": null,
            "display": null,
            "left": null
          }
        },
        "6977abbb808444419f69fa17d425a958": {
          "model_module": "@jupyter-widgets/controls",
          "model_name": "FloatProgressModel",
          "state": {
            "_view_name": "ProgressView",
            "style": "IPY_MODEL_6790886f8da748e7a68e100b17e5310a",
            "_dom_classes": [],
            "description": "100%",
            "_model_name": "FloatProgressModel",
            "bar_style": "success",
            "max": 12500,
            "_view_module": "@jupyter-widgets/controls",
            "_model_module_version": "1.5.0",
            "value": 12500,
            "_view_count": null,
            "_view_module_version": "1.5.0",
            "orientation": "horizontal",
            "min": 0,
            "description_tooltip": null,
            "_model_module": "@jupyter-widgets/controls",
            "layout": "IPY_MODEL_e496753355a54133b2f2e56a0116d39d"
          }
        },
        "c1e9eba46db54e40801856ed8db34bb9": {
          "model_module": "@jupyter-widgets/controls",
          "model_name": "HTMLModel",
          "state": {
            "_view_name": "HTMLView",
            "style": "IPY_MODEL_aec8a9b0fdd948619266e2fb07a63efd",
            "_dom_classes": [],
            "description": "",
            "_model_name": "HTMLModel",
            "placeholder": "​",
            "_view_module": "@jupyter-widgets/controls",
            "_model_module_version": "1.5.0",
            "value": " 12500/12500 [12:28&lt;00:00, 16.70it/s]",
            "_view_count": null,
            "_view_module_version": "1.5.0",
            "description_tooltip": null,
            "_model_module": "@jupyter-widgets/controls",
            "layout": "IPY_MODEL_ed8da9cc480641f19b9ef865ecb86040"
          }
        },
        "6790886f8da748e7a68e100b17e5310a": {
          "model_module": "@jupyter-widgets/controls",
          "model_name": "ProgressStyleModel",
          "state": {
            "_view_name": "StyleView",
            "_model_name": "ProgressStyleModel",
            "description_width": "initial",
            "_view_module": "@jupyter-widgets/base",
            "_model_module_version": "1.5.0",
            "_view_count": null,
            "_view_module_version": "1.2.0",
            "bar_color": null,
            "_model_module": "@jupyter-widgets/controls"
          }
        },
        "e496753355a54133b2f2e56a0116d39d": {
          "model_module": "@jupyter-widgets/base",
          "model_name": "LayoutModel",
          "state": {
            "_view_name": "LayoutView",
            "grid_template_rows": null,
            "right": null,
            "justify_content": null,
            "_view_module": "@jupyter-widgets/base",
            "overflow": null,
            "_model_module_version": "1.2.0",
            "_view_count": null,
            "flex_flow": null,
            "width": null,
            "min_width": null,
            "border": null,
            "align_items": null,
            "bottom": null,
            "_model_module": "@jupyter-widgets/base",
            "top": null,
            "grid_column": null,
            "overflow_y": null,
            "overflow_x": null,
            "grid_auto_flow": null,
            "grid_area": null,
            "grid_template_columns": null,
            "flex": null,
            "_model_name": "LayoutModel",
            "justify_items": null,
            "grid_row": null,
            "max_height": null,
            "align_content": null,
            "visibility": null,
            "align_self": null,
            "height": null,
            "min_height": null,
            "padding": null,
            "grid_auto_rows": null,
            "grid_gap": null,
            "max_width": null,
            "order": null,
            "_view_module_version": "1.2.0",
            "grid_template_areas": null,
            "object_position": null,
            "object_fit": null,
            "grid_auto_columns": null,
            "margin": null,
            "display": null,
            "left": null
          }
        },
        "aec8a9b0fdd948619266e2fb07a63efd": {
          "model_module": "@jupyter-widgets/controls",
          "model_name": "DescriptionStyleModel",
          "state": {
            "_view_name": "StyleView",
            "_model_name": "DescriptionStyleModel",
            "description_width": "",
            "_view_module": "@jupyter-widgets/base",
            "_model_module_version": "1.5.0",
            "_view_count": null,
            "_view_module_version": "1.2.0",
            "_model_module": "@jupyter-widgets/controls"
          }
        },
        "ed8da9cc480641f19b9ef865ecb86040": {
          "model_module": "@jupyter-widgets/base",
          "model_name": "LayoutModel",
          "state": {
            "_view_name": "LayoutView",
            "grid_template_rows": null,
            "right": null,
            "justify_content": null,
            "_view_module": "@jupyter-widgets/base",
            "overflow": null,
            "_model_module_version": "1.2.0",
            "_view_count": null,
            "flex_flow": null,
            "width": null,
            "min_width": null,
            "border": null,
            "align_items": null,
            "bottom": null,
            "_model_module": "@jupyter-widgets/base",
            "top": null,
            "grid_column": null,
            "overflow_y": null,
            "overflow_x": null,
            "grid_auto_flow": null,
            "grid_area": null,
            "grid_template_columns": null,
            "flex": null,
            "_model_name": "LayoutModel",
            "justify_items": null,
            "grid_row": null,
            "max_height": null,
            "align_content": null,
            "visibility": null,
            "align_self": null,
            "height": null,
            "min_height": null,
            "padding": null,
            "grid_auto_rows": null,
            "grid_gap": null,
            "max_width": null,
            "order": null,
            "_view_module_version": "1.2.0",
            "grid_template_areas": null,
            "object_position": null,
            "object_fit": null,
            "grid_auto_columns": null,
            "margin": null,
            "display": null,
            "left": null
          }
        },
        "c59881c513da40a88cb89845b813d36b": {
          "model_module": "@jupyter-widgets/controls",
          "model_name": "HBoxModel",
          "state": {
            "_view_name": "HBoxView",
            "_dom_classes": [],
            "_model_name": "HBoxModel",
            "_view_module": "@jupyter-widgets/controls",
            "_model_module_version": "1.5.0",
            "_view_count": null,
            "_view_module_version": "1.5.0",
            "box_style": "",
            "layout": "IPY_MODEL_54a765a36cc6460e8404c2a96876ebbb",
            "_model_module": "@jupyter-widgets/controls",
            "children": [
              "IPY_MODEL_1039228fc7d542868085858a1da5f638",
              "IPY_MODEL_04466b71cba44528a733e8acdc6c1ec6"
            ]
          }
        },
        "54a765a36cc6460e8404c2a96876ebbb": {
          "model_module": "@jupyter-widgets/base",
          "model_name": "LayoutModel",
          "state": {
            "_view_name": "LayoutView",
            "grid_template_rows": null,
            "right": null,
            "justify_content": null,
            "_view_module": "@jupyter-widgets/base",
            "overflow": null,
            "_model_module_version": "1.2.0",
            "_view_count": null,
            "flex_flow": null,
            "width": null,
            "min_width": null,
            "border": null,
            "align_items": null,
            "bottom": null,
            "_model_module": "@jupyter-widgets/base",
            "top": null,
            "grid_column": null,
            "overflow_y": null,
            "overflow_x": null,
            "grid_auto_flow": null,
            "grid_area": null,
            "grid_template_columns": null,
            "flex": null,
            "_model_name": "LayoutModel",
            "justify_items": null,
            "grid_row": null,
            "max_height": null,
            "align_content": null,
            "visibility": null,
            "align_self": null,
            "height": null,
            "min_height": null,
            "padding": null,
            "grid_auto_rows": null,
            "grid_gap": null,
            "max_width": null,
            "order": null,
            "_view_module_version": "1.2.0",
            "grid_template_areas": null,
            "object_position": null,
            "object_fit": null,
            "grid_auto_columns": null,
            "margin": null,
            "display": null,
            "left": null
          }
        },
        "1039228fc7d542868085858a1da5f638": {
          "model_module": "@jupyter-widgets/controls",
          "model_name": "FloatProgressModel",
          "state": {
            "_view_name": "ProgressView",
            "style": "IPY_MODEL_ad28356cb8ca4482b6e627a59e536399",
            "_dom_classes": [],
            "description": "100%",
            "_model_name": "FloatProgressModel",
            "bar_style": "success",
            "max": 12500,
            "_view_module": "@jupyter-widgets/controls",
            "_model_module_version": "1.5.0",
            "value": 12500,
            "_view_count": null,
            "_view_module_version": "1.5.0",
            "orientation": "horizontal",
            "min": 0,
            "description_tooltip": null,
            "_model_module": "@jupyter-widgets/controls",
            "layout": "IPY_MODEL_9c41205c7e12425aa06efafb0763af08"
          }
        },
        "04466b71cba44528a733e8acdc6c1ec6": {
          "model_module": "@jupyter-widgets/controls",
          "model_name": "HTMLModel",
          "state": {
            "_view_name": "HTMLView",
            "style": "IPY_MODEL_4137ce961ed44a5f882d107317af6fae",
            "_dom_classes": [],
            "description": "",
            "_model_name": "HTMLModel",
            "placeholder": "​",
            "_view_module": "@jupyter-widgets/controls",
            "_model_module_version": "1.5.0",
            "value": " 12500/12500 [02:39&lt;00:00, 78.23it/s]",
            "_view_count": null,
            "_view_module_version": "1.5.0",
            "description_tooltip": null,
            "_model_module": "@jupyter-widgets/controls",
            "layout": "IPY_MODEL_3a4c8bada7c74fd386c6c483b33b99f3"
          }
        },
        "ad28356cb8ca4482b6e627a59e536399": {
          "model_module": "@jupyter-widgets/controls",
          "model_name": "ProgressStyleModel",
          "state": {
            "_view_name": "StyleView",
            "_model_name": "ProgressStyleModel",
            "description_width": "initial",
            "_view_module": "@jupyter-widgets/base",
            "_model_module_version": "1.5.0",
            "_view_count": null,
            "_view_module_version": "1.2.0",
            "bar_color": null,
            "_model_module": "@jupyter-widgets/controls"
          }
        },
        "9c41205c7e12425aa06efafb0763af08": {
          "model_module": "@jupyter-widgets/base",
          "model_name": "LayoutModel",
          "state": {
            "_view_name": "LayoutView",
            "grid_template_rows": null,
            "right": null,
            "justify_content": null,
            "_view_module": "@jupyter-widgets/base",
            "overflow": null,
            "_model_module_version": "1.2.0",
            "_view_count": null,
            "flex_flow": null,
            "width": null,
            "min_width": null,
            "border": null,
            "align_items": null,
            "bottom": null,
            "_model_module": "@jupyter-widgets/base",
            "top": null,
            "grid_column": null,
            "overflow_y": null,
            "overflow_x": null,
            "grid_auto_flow": null,
            "grid_area": null,
            "grid_template_columns": null,
            "flex": null,
            "_model_name": "LayoutModel",
            "justify_items": null,
            "grid_row": null,
            "max_height": null,
            "align_content": null,
            "visibility": null,
            "align_self": null,
            "height": null,
            "min_height": null,
            "padding": null,
            "grid_auto_rows": null,
            "grid_gap": null,
            "max_width": null,
            "order": null,
            "_view_module_version": "1.2.0",
            "grid_template_areas": null,
            "object_position": null,
            "object_fit": null,
            "grid_auto_columns": null,
            "margin": null,
            "display": null,
            "left": null
          }
        },
        "4137ce961ed44a5f882d107317af6fae": {
          "model_module": "@jupyter-widgets/controls",
          "model_name": "DescriptionStyleModel",
          "state": {
            "_view_name": "StyleView",
            "_model_name": "DescriptionStyleModel",
            "description_width": "",
            "_view_module": "@jupyter-widgets/base",
            "_model_module_version": "1.5.0",
            "_view_count": null,
            "_view_module_version": "1.2.0",
            "_model_module": "@jupyter-widgets/controls"
          }
        },
        "3a4c8bada7c74fd386c6c483b33b99f3": {
          "model_module": "@jupyter-widgets/base",
          "model_name": "LayoutModel",
          "state": {
            "_view_name": "LayoutView",
            "grid_template_rows": null,
            "right": null,
            "justify_content": null,
            "_view_module": "@jupyter-widgets/base",
            "overflow": null,
            "_model_module_version": "1.2.0",
            "_view_count": null,
            "flex_flow": null,
            "width": null,
            "min_width": null,
            "border": null,
            "align_items": null,
            "bottom": null,
            "_model_module": "@jupyter-widgets/base",
            "top": null,
            "grid_column": null,
            "overflow_y": null,
            "overflow_x": null,
            "grid_auto_flow": null,
            "grid_area": null,
            "grid_template_columns": null,
            "flex": null,
            "_model_name": "LayoutModel",
            "justify_items": null,
            "grid_row": null,
            "max_height": null,
            "align_content": null,
            "visibility": null,
            "align_self": null,
            "height": null,
            "min_height": null,
            "padding": null,
            "grid_auto_rows": null,
            "grid_gap": null,
            "max_width": null,
            "order": null,
            "_view_module_version": "1.2.0",
            "grid_template_areas": null,
            "object_position": null,
            "object_fit": null,
            "grid_auto_columns": null,
            "margin": null,
            "display": null,
            "left": null
          }
        },
        "a11d3acee5b146b0b9302278742c6c9e": {
          "model_module": "@jupyter-widgets/controls",
          "model_name": "HBoxModel",
          "state": {
            "_view_name": "HBoxView",
            "_dom_classes": [],
            "_model_name": "HBoxModel",
            "_view_module": "@jupyter-widgets/controls",
            "_model_module_version": "1.5.0",
            "_view_count": null,
            "_view_module_version": "1.5.0",
            "box_style": "",
            "layout": "IPY_MODEL_bcec80aaf808431fac485502474632aa",
            "_model_module": "@jupyter-widgets/controls",
            "children": [
              "IPY_MODEL_452ef213436e4c7eaa74ba170c95225d",
              "IPY_MODEL_5c79d1109fab444094102c2e322db9ae"
            ]
          }
        },
        "bcec80aaf808431fac485502474632aa": {
          "model_module": "@jupyter-widgets/base",
          "model_name": "LayoutModel",
          "state": {
            "_view_name": "LayoutView",
            "grid_template_rows": null,
            "right": null,
            "justify_content": null,
            "_view_module": "@jupyter-widgets/base",
            "overflow": null,
            "_model_module_version": "1.2.0",
            "_view_count": null,
            "flex_flow": null,
            "width": null,
            "min_width": null,
            "border": null,
            "align_items": null,
            "bottom": null,
            "_model_module": "@jupyter-widgets/base",
            "top": null,
            "grid_column": null,
            "overflow_y": null,
            "overflow_x": null,
            "grid_auto_flow": null,
            "grid_area": null,
            "grid_template_columns": null,
            "flex": null,
            "_model_name": "LayoutModel",
            "justify_items": null,
            "grid_row": null,
            "max_height": null,
            "align_content": null,
            "visibility": null,
            "align_self": null,
            "height": null,
            "min_height": null,
            "padding": null,
            "grid_auto_rows": null,
            "grid_gap": null,
            "max_width": null,
            "order": null,
            "_view_module_version": "1.2.0",
            "grid_template_areas": null,
            "object_position": null,
            "object_fit": null,
            "grid_auto_columns": null,
            "margin": null,
            "display": null,
            "left": null
          }
        },
        "452ef213436e4c7eaa74ba170c95225d": {
          "model_module": "@jupyter-widgets/controls",
          "model_name": "FloatProgressModel",
          "state": {
            "_view_name": "ProgressView",
            "style": "IPY_MODEL_3fbbe53446b24b87a8b0ecc855453731",
            "_dom_classes": [],
            "description": "100%",
            "_model_name": "FloatProgressModel",
            "bar_style": "success",
            "max": 12500,
            "_view_module": "@jupyter-widgets/controls",
            "_model_module_version": "1.5.0",
            "value": 12500,
            "_view_count": null,
            "_view_module_version": "1.5.0",
            "orientation": "horizontal",
            "min": 0,
            "description_tooltip": null,
            "_model_module": "@jupyter-widgets/controls",
            "layout": "IPY_MODEL_aa1e200cc7914f56b02adf756160caf1"
          }
        },
        "5c79d1109fab444094102c2e322db9ae": {
          "model_module": "@jupyter-widgets/controls",
          "model_name": "HTMLModel",
          "state": {
            "_view_name": "HTMLView",
            "style": "IPY_MODEL_0c523597a8a245388cbbac3accdd7386",
            "_dom_classes": [],
            "description": "",
            "_model_name": "HTMLModel",
            "placeholder": "​",
            "_view_module": "@jupyter-widgets/controls",
            "_model_module_version": "1.5.0",
            "value": " 12500/12500 [09:52&lt;00:00, 21.10it/s]",
            "_view_count": null,
            "_view_module_version": "1.5.0",
            "description_tooltip": null,
            "_model_module": "@jupyter-widgets/controls",
            "layout": "IPY_MODEL_c9aba81e118c4fa0a88b4a35bb51d93c"
          }
        },
        "3fbbe53446b24b87a8b0ecc855453731": {
          "model_module": "@jupyter-widgets/controls",
          "model_name": "ProgressStyleModel",
          "state": {
            "_view_name": "StyleView",
            "_model_name": "ProgressStyleModel",
            "description_width": "initial",
            "_view_module": "@jupyter-widgets/base",
            "_model_module_version": "1.5.0",
            "_view_count": null,
            "_view_module_version": "1.2.0",
            "bar_color": null,
            "_model_module": "@jupyter-widgets/controls"
          }
        },
        "aa1e200cc7914f56b02adf756160caf1": {
          "model_module": "@jupyter-widgets/base",
          "model_name": "LayoutModel",
          "state": {
            "_view_name": "LayoutView",
            "grid_template_rows": null,
            "right": null,
            "justify_content": null,
            "_view_module": "@jupyter-widgets/base",
            "overflow": null,
            "_model_module_version": "1.2.0",
            "_view_count": null,
            "flex_flow": null,
            "width": null,
            "min_width": null,
            "border": null,
            "align_items": null,
            "bottom": null,
            "_model_module": "@jupyter-widgets/base",
            "top": null,
            "grid_column": null,
            "overflow_y": null,
            "overflow_x": null,
            "grid_auto_flow": null,
            "grid_area": null,
            "grid_template_columns": null,
            "flex": null,
            "_model_name": "LayoutModel",
            "justify_items": null,
            "grid_row": null,
            "max_height": null,
            "align_content": null,
            "visibility": null,
            "align_self": null,
            "height": null,
            "min_height": null,
            "padding": null,
            "grid_auto_rows": null,
            "grid_gap": null,
            "max_width": null,
            "order": null,
            "_view_module_version": "1.2.0",
            "grid_template_areas": null,
            "object_position": null,
            "object_fit": null,
            "grid_auto_columns": null,
            "margin": null,
            "display": null,
            "left": null
          }
        },
        "0c523597a8a245388cbbac3accdd7386": {
          "model_module": "@jupyter-widgets/controls",
          "model_name": "DescriptionStyleModel",
          "state": {
            "_view_name": "StyleView",
            "_model_name": "DescriptionStyleModel",
            "description_width": "",
            "_view_module": "@jupyter-widgets/base",
            "_model_module_version": "1.5.0",
            "_view_count": null,
            "_view_module_version": "1.2.0",
            "_model_module": "@jupyter-widgets/controls"
          }
        },
        "c9aba81e118c4fa0a88b4a35bb51d93c": {
          "model_module": "@jupyter-widgets/base",
          "model_name": "LayoutModel",
          "state": {
            "_view_name": "LayoutView",
            "grid_template_rows": null,
            "right": null,
            "justify_content": null,
            "_view_module": "@jupyter-widgets/base",
            "overflow": null,
            "_model_module_version": "1.2.0",
            "_view_count": null,
            "flex_flow": null,
            "width": null,
            "min_width": null,
            "border": null,
            "align_items": null,
            "bottom": null,
            "_model_module": "@jupyter-widgets/base",
            "top": null,
            "grid_column": null,
            "overflow_y": null,
            "overflow_x": null,
            "grid_auto_flow": null,
            "grid_area": null,
            "grid_template_columns": null,
            "flex": null,
            "_model_name": "LayoutModel",
            "justify_items": null,
            "grid_row": null,
            "max_height": null,
            "align_content": null,
            "visibility": null,
            "align_self": null,
            "height": null,
            "min_height": null,
            "padding": null,
            "grid_auto_rows": null,
            "grid_gap": null,
            "max_width": null,
            "order": null,
            "_view_module_version": "1.2.0",
            "grid_template_areas": null,
            "object_position": null,
            "object_fit": null,
            "grid_auto_columns": null,
            "margin": null,
            "display": null,
            "left": null
          }
        },
        "dce14be808ca4cc58a184c4a331032c3": {
          "model_module": "@jupyter-widgets/controls",
          "model_name": "HBoxModel",
          "state": {
            "_view_name": "HBoxView",
            "_dom_classes": [],
            "_model_name": "HBoxModel",
            "_view_module": "@jupyter-widgets/controls",
            "_model_module_version": "1.5.0",
            "_view_count": null,
            "_view_module_version": "1.5.0",
            "box_style": "",
            "layout": "IPY_MODEL_a23f2d1032f5443480e0cb5ce173d291",
            "_model_module": "@jupyter-widgets/controls",
            "children": [
              "IPY_MODEL_8b7d002bf93c453c805febdcb2d88284",
              "IPY_MODEL_7ab63b5d7773427ca92cc52643bdc550"
            ]
          }
        },
        "a23f2d1032f5443480e0cb5ce173d291": {
          "model_module": "@jupyter-widgets/base",
          "model_name": "LayoutModel",
          "state": {
            "_view_name": "LayoutView",
            "grid_template_rows": null,
            "right": null,
            "justify_content": null,
            "_view_module": "@jupyter-widgets/base",
            "overflow": null,
            "_model_module_version": "1.2.0",
            "_view_count": null,
            "flex_flow": null,
            "width": null,
            "min_width": null,
            "border": null,
            "align_items": null,
            "bottom": null,
            "_model_module": "@jupyter-widgets/base",
            "top": null,
            "grid_column": null,
            "overflow_y": null,
            "overflow_x": null,
            "grid_auto_flow": null,
            "grid_area": null,
            "grid_template_columns": null,
            "flex": null,
            "_model_name": "LayoutModel",
            "justify_items": null,
            "grid_row": null,
            "max_height": null,
            "align_content": null,
            "visibility": null,
            "align_self": null,
            "height": null,
            "min_height": null,
            "padding": null,
            "grid_auto_rows": null,
            "grid_gap": null,
            "max_width": null,
            "order": null,
            "_view_module_version": "1.2.0",
            "grid_template_areas": null,
            "object_position": null,
            "object_fit": null,
            "grid_auto_columns": null,
            "margin": null,
            "display": null,
            "left": null
          }
        },
        "8b7d002bf93c453c805febdcb2d88284": {
          "model_module": "@jupyter-widgets/controls",
          "model_name": "FloatProgressModel",
          "state": {
            "_view_name": "ProgressView",
            "style": "IPY_MODEL_9c58b654b0fe441493f5b38143865697",
            "_dom_classes": [],
            "description": "100%",
            "_model_name": "FloatProgressModel",
            "bar_style": "success",
            "max": 12500,
            "_view_module": "@jupyter-widgets/controls",
            "_model_module_version": "1.5.0",
            "value": 12500,
            "_view_count": null,
            "_view_module_version": "1.5.0",
            "orientation": "horizontal",
            "min": 0,
            "description_tooltip": null,
            "_model_module": "@jupyter-widgets/controls",
            "layout": "IPY_MODEL_260996eb7eca412b92801321b984f143"
          }
        },
        "7ab63b5d7773427ca92cc52643bdc550": {
          "model_module": "@jupyter-widgets/controls",
          "model_name": "HTMLModel",
          "state": {
            "_view_name": "HTMLView",
            "style": "IPY_MODEL_3765140333f04824923b20c868207957",
            "_dom_classes": [],
            "description": "",
            "_model_name": "HTMLModel",
            "placeholder": "​",
            "_view_module": "@jupyter-widgets/controls",
            "_model_module_version": "1.5.0",
            "value": " 12500/12500 [08:31&lt;00:00, 24.43it/s]",
            "_view_count": null,
            "_view_module_version": "1.5.0",
            "description_tooltip": null,
            "_model_module": "@jupyter-widgets/controls",
            "layout": "IPY_MODEL_b8129ee0b2ed477fbddf770bde0d8459"
          }
        },
        "9c58b654b0fe441493f5b38143865697": {
          "model_module": "@jupyter-widgets/controls",
          "model_name": "ProgressStyleModel",
          "state": {
            "_view_name": "StyleView",
            "_model_name": "ProgressStyleModel",
            "description_width": "initial",
            "_view_module": "@jupyter-widgets/base",
            "_model_module_version": "1.5.0",
            "_view_count": null,
            "_view_module_version": "1.2.0",
            "bar_color": null,
            "_model_module": "@jupyter-widgets/controls"
          }
        },
        "260996eb7eca412b92801321b984f143": {
          "model_module": "@jupyter-widgets/base",
          "model_name": "LayoutModel",
          "state": {
            "_view_name": "LayoutView",
            "grid_template_rows": null,
            "right": null,
            "justify_content": null,
            "_view_module": "@jupyter-widgets/base",
            "overflow": null,
            "_model_module_version": "1.2.0",
            "_view_count": null,
            "flex_flow": null,
            "width": null,
            "min_width": null,
            "border": null,
            "align_items": null,
            "bottom": null,
            "_model_module": "@jupyter-widgets/base",
            "top": null,
            "grid_column": null,
            "overflow_y": null,
            "overflow_x": null,
            "grid_auto_flow": null,
            "grid_area": null,
            "grid_template_columns": null,
            "flex": null,
            "_model_name": "LayoutModel",
            "justify_items": null,
            "grid_row": null,
            "max_height": null,
            "align_content": null,
            "visibility": null,
            "align_self": null,
            "height": null,
            "min_height": null,
            "padding": null,
            "grid_auto_rows": null,
            "grid_gap": null,
            "max_width": null,
            "order": null,
            "_view_module_version": "1.2.0",
            "grid_template_areas": null,
            "object_position": null,
            "object_fit": null,
            "grid_auto_columns": null,
            "margin": null,
            "display": null,
            "left": null
          }
        },
        "3765140333f04824923b20c868207957": {
          "model_module": "@jupyter-widgets/controls",
          "model_name": "DescriptionStyleModel",
          "state": {
            "_view_name": "StyleView",
            "_model_name": "DescriptionStyleModel",
            "description_width": "",
            "_view_module": "@jupyter-widgets/base",
            "_model_module_version": "1.5.0",
            "_view_count": null,
            "_view_module_version": "1.2.0",
            "_model_module": "@jupyter-widgets/controls"
          }
        },
        "b8129ee0b2ed477fbddf770bde0d8459": {
          "model_module": "@jupyter-widgets/base",
          "model_name": "LayoutModel",
          "state": {
            "_view_name": "LayoutView",
            "grid_template_rows": null,
            "right": null,
            "justify_content": null,
            "_view_module": "@jupyter-widgets/base",
            "overflow": null,
            "_model_module_version": "1.2.0",
            "_view_count": null,
            "flex_flow": null,
            "width": null,
            "min_width": null,
            "border": null,
            "align_items": null,
            "bottom": null,
            "_model_module": "@jupyter-widgets/base",
            "top": null,
            "grid_column": null,
            "overflow_y": null,
            "overflow_x": null,
            "grid_auto_flow": null,
            "grid_area": null,
            "grid_template_columns": null,
            "flex": null,
            "_model_name": "LayoutModel",
            "justify_items": null,
            "grid_row": null,
            "max_height": null,
            "align_content": null,
            "visibility": null,
            "align_self": null,
            "height": null,
            "min_height": null,
            "padding": null,
            "grid_auto_rows": null,
            "grid_gap": null,
            "max_width": null,
            "order": null,
            "_view_module_version": "1.2.0",
            "grid_template_areas": null,
            "object_position": null,
            "object_fit": null,
            "grid_auto_columns": null,
            "margin": null,
            "display": null,
            "left": null
          }
        },
        "0572b4b0ede34836930204571885cd09": {
          "model_module": "@jupyter-widgets/controls",
          "model_name": "HBoxModel",
          "state": {
            "_view_name": "HBoxView",
            "_dom_classes": [],
            "_model_name": "HBoxModel",
            "_view_module": "@jupyter-widgets/controls",
            "_model_module_version": "1.5.0",
            "_view_count": null,
            "_view_module_version": "1.5.0",
            "box_style": "",
            "layout": "IPY_MODEL_19de72d588c24ecebd01ff6843e320fa",
            "_model_module": "@jupyter-widgets/controls",
            "children": [
              "IPY_MODEL_373b7aab3b474cd69f72324e0e9fd97b",
              "IPY_MODEL_505cf8a2c0ea4d67b7f813a79bdf1fc8"
            ]
          }
        },
        "19de72d588c24ecebd01ff6843e320fa": {
          "model_module": "@jupyter-widgets/base",
          "model_name": "LayoutModel",
          "state": {
            "_view_name": "LayoutView",
            "grid_template_rows": null,
            "right": null,
            "justify_content": null,
            "_view_module": "@jupyter-widgets/base",
            "overflow": null,
            "_model_module_version": "1.2.0",
            "_view_count": null,
            "flex_flow": null,
            "width": null,
            "min_width": null,
            "border": null,
            "align_items": null,
            "bottom": null,
            "_model_module": "@jupyter-widgets/base",
            "top": null,
            "grid_column": null,
            "overflow_y": null,
            "overflow_x": null,
            "grid_auto_flow": null,
            "grid_area": null,
            "grid_template_columns": null,
            "flex": null,
            "_model_name": "LayoutModel",
            "justify_items": null,
            "grid_row": null,
            "max_height": null,
            "align_content": null,
            "visibility": null,
            "align_self": null,
            "height": null,
            "min_height": null,
            "padding": null,
            "grid_auto_rows": null,
            "grid_gap": null,
            "max_width": null,
            "order": null,
            "_view_module_version": "1.2.0",
            "grid_template_areas": null,
            "object_position": null,
            "object_fit": null,
            "grid_auto_columns": null,
            "margin": null,
            "display": null,
            "left": null
          }
        },
        "373b7aab3b474cd69f72324e0e9fd97b": {
          "model_module": "@jupyter-widgets/controls",
          "model_name": "FloatProgressModel",
          "state": {
            "_view_name": "ProgressView",
            "style": "IPY_MODEL_3980a78a8b7a4dbdb61b924d04514b5b",
            "_dom_classes": [],
            "description": "100%",
            "_model_name": "FloatProgressModel",
            "bar_style": "success",
            "max": 12500,
            "_view_module": "@jupyter-widgets/controls",
            "_model_module_version": "1.5.0",
            "value": 12500,
            "_view_count": null,
            "_view_module_version": "1.5.0",
            "orientation": "horizontal",
            "min": 0,
            "description_tooltip": null,
            "_model_module": "@jupyter-widgets/controls",
            "layout": "IPY_MODEL_769a0dee7e7b450abfe9fe74bd25c3e4"
          }
        },
        "505cf8a2c0ea4d67b7f813a79bdf1fc8": {
          "model_module": "@jupyter-widgets/controls",
          "model_name": "HTMLModel",
          "state": {
            "_view_name": "HTMLView",
            "style": "IPY_MODEL_e6813a58374746c3adbed3aafaefbe95",
            "_dom_classes": [],
            "description": "",
            "_model_name": "HTMLModel",
            "placeholder": "​",
            "_view_module": "@jupyter-widgets/controls",
            "_model_module_version": "1.5.0",
            "value": " 12500/12500 [03:06&lt;00:00, 67.13it/s]",
            "_view_count": null,
            "_view_module_version": "1.5.0",
            "description_tooltip": null,
            "_model_module": "@jupyter-widgets/controls",
            "layout": "IPY_MODEL_f6269d5033aa47df916a4890f4466b69"
          }
        },
        "3980a78a8b7a4dbdb61b924d04514b5b": {
          "model_module": "@jupyter-widgets/controls",
          "model_name": "ProgressStyleModel",
          "state": {
            "_view_name": "StyleView",
            "_model_name": "ProgressStyleModel",
            "description_width": "initial",
            "_view_module": "@jupyter-widgets/base",
            "_model_module_version": "1.5.0",
            "_view_count": null,
            "_view_module_version": "1.2.0",
            "bar_color": null,
            "_model_module": "@jupyter-widgets/controls"
          }
        },
        "769a0dee7e7b450abfe9fe74bd25c3e4": {
          "model_module": "@jupyter-widgets/base",
          "model_name": "LayoutModel",
          "state": {
            "_view_name": "LayoutView",
            "grid_template_rows": null,
            "right": null,
            "justify_content": null,
            "_view_module": "@jupyter-widgets/base",
            "overflow": null,
            "_model_module_version": "1.2.0",
            "_view_count": null,
            "flex_flow": null,
            "width": null,
            "min_width": null,
            "border": null,
            "align_items": null,
            "bottom": null,
            "_model_module": "@jupyter-widgets/base",
            "top": null,
            "grid_column": null,
            "overflow_y": null,
            "overflow_x": null,
            "grid_auto_flow": null,
            "grid_area": null,
            "grid_template_columns": null,
            "flex": null,
            "_model_name": "LayoutModel",
            "justify_items": null,
            "grid_row": null,
            "max_height": null,
            "align_content": null,
            "visibility": null,
            "align_self": null,
            "height": null,
            "min_height": null,
            "padding": null,
            "grid_auto_rows": null,
            "grid_gap": null,
            "max_width": null,
            "order": null,
            "_view_module_version": "1.2.0",
            "grid_template_areas": null,
            "object_position": null,
            "object_fit": null,
            "grid_auto_columns": null,
            "margin": null,
            "display": null,
            "left": null
          }
        },
        "e6813a58374746c3adbed3aafaefbe95": {
          "model_module": "@jupyter-widgets/controls",
          "model_name": "DescriptionStyleModel",
          "state": {
            "_view_name": "StyleView",
            "_model_name": "DescriptionStyleModel",
            "description_width": "",
            "_view_module": "@jupyter-widgets/base",
            "_model_module_version": "1.5.0",
            "_view_count": null,
            "_view_module_version": "1.2.0",
            "_model_module": "@jupyter-widgets/controls"
          }
        },
        "f6269d5033aa47df916a4890f4466b69": {
          "model_module": "@jupyter-widgets/base",
          "model_name": "LayoutModel",
          "state": {
            "_view_name": "LayoutView",
            "grid_template_rows": null,
            "right": null,
            "justify_content": null,
            "_view_module": "@jupyter-widgets/base",
            "overflow": null,
            "_model_module_version": "1.2.0",
            "_view_count": null,
            "flex_flow": null,
            "width": null,
            "min_width": null,
            "border": null,
            "align_items": null,
            "bottom": null,
            "_model_module": "@jupyter-widgets/base",
            "top": null,
            "grid_column": null,
            "overflow_y": null,
            "overflow_x": null,
            "grid_auto_flow": null,
            "grid_area": null,
            "grid_template_columns": null,
            "flex": null,
            "_model_name": "LayoutModel",
            "justify_items": null,
            "grid_row": null,
            "max_height": null,
            "align_content": null,
            "visibility": null,
            "align_self": null,
            "height": null,
            "min_height": null,
            "padding": null,
            "grid_auto_rows": null,
            "grid_gap": null,
            "max_width": null,
            "order": null,
            "_view_module_version": "1.2.0",
            "grid_template_areas": null,
            "object_position": null,
            "object_fit": null,
            "grid_auto_columns": null,
            "margin": null,
            "display": null,
            "left": null
          }
        },
        "a19f74453ee5408fa970e1fd37fdd54f": {
          "model_module": "@jupyter-widgets/controls",
          "model_name": "HBoxModel",
          "state": {
            "_view_name": "HBoxView",
            "_dom_classes": [],
            "_model_name": "HBoxModel",
            "_view_module": "@jupyter-widgets/controls",
            "_model_module_version": "1.5.0",
            "_view_count": null,
            "_view_module_version": "1.5.0",
            "box_style": "",
            "layout": "IPY_MODEL_30641408b45c4ab2ae69d08c35232f28",
            "_model_module": "@jupyter-widgets/controls",
            "children": [
              "IPY_MODEL_4c3c2858b16241af9818087032e8366e",
              "IPY_MODEL_c48b7656212f4f68ad032889910e8230"
            ]
          }
        },
        "30641408b45c4ab2ae69d08c35232f28": {
          "model_module": "@jupyter-widgets/base",
          "model_name": "LayoutModel",
          "state": {
            "_view_name": "LayoutView",
            "grid_template_rows": null,
            "right": null,
            "justify_content": null,
            "_view_module": "@jupyter-widgets/base",
            "overflow": null,
            "_model_module_version": "1.2.0",
            "_view_count": null,
            "flex_flow": null,
            "width": null,
            "min_width": null,
            "border": null,
            "align_items": null,
            "bottom": null,
            "_model_module": "@jupyter-widgets/base",
            "top": null,
            "grid_column": null,
            "overflow_y": null,
            "overflow_x": null,
            "grid_auto_flow": null,
            "grid_area": null,
            "grid_template_columns": null,
            "flex": null,
            "_model_name": "LayoutModel",
            "justify_items": null,
            "grid_row": null,
            "max_height": null,
            "align_content": null,
            "visibility": null,
            "align_self": null,
            "height": null,
            "min_height": null,
            "padding": null,
            "grid_auto_rows": null,
            "grid_gap": null,
            "max_width": null,
            "order": null,
            "_view_module_version": "1.2.0",
            "grid_template_areas": null,
            "object_position": null,
            "object_fit": null,
            "grid_auto_columns": null,
            "margin": null,
            "display": null,
            "left": null
          }
        },
        "4c3c2858b16241af9818087032e8366e": {
          "model_module": "@jupyter-widgets/controls",
          "model_name": "FloatProgressModel",
          "state": {
            "_view_name": "ProgressView",
            "style": "IPY_MODEL_8bf0a22b31814022b99b31b76bedcaa6",
            "_dom_classes": [],
            "description": "100%",
            "_model_name": "FloatProgressModel",
            "bar_style": "success",
            "max": 10,
            "_view_module": "@jupyter-widgets/controls",
            "_model_module_version": "1.5.0",
            "value": 10,
            "_view_count": null,
            "_view_module_version": "1.5.0",
            "orientation": "horizontal",
            "min": 0,
            "description_tooltip": null,
            "_model_module": "@jupyter-widgets/controls",
            "layout": "IPY_MODEL_e9b34054298a4135a680aee45218e22b"
          }
        },
        "c48b7656212f4f68ad032889910e8230": {
          "model_module": "@jupyter-widgets/controls",
          "model_name": "HTMLModel",
          "state": {
            "_view_name": "HTMLView",
            "style": "IPY_MODEL_7773acd43be741988cb3a1d0e9fb7317",
            "_dom_classes": [],
            "description": "",
            "_model_name": "HTMLModel",
            "placeholder": "​",
            "_view_module": "@jupyter-widgets/controls",
            "_model_module_version": "1.5.0",
            "value": " 10/10 [12:26&lt;00:00, 74.64s/it]",
            "_view_count": null,
            "_view_module_version": "1.5.0",
            "description_tooltip": null,
            "_model_module": "@jupyter-widgets/controls",
            "layout": "IPY_MODEL_f82b1e3d3ea845a6a13ce28c1722e2e8"
          }
        },
        "8bf0a22b31814022b99b31b76bedcaa6": {
          "model_module": "@jupyter-widgets/controls",
          "model_name": "ProgressStyleModel",
          "state": {
            "_view_name": "StyleView",
            "_model_name": "ProgressStyleModel",
            "description_width": "initial",
            "_view_module": "@jupyter-widgets/base",
            "_model_module_version": "1.5.0",
            "_view_count": null,
            "_view_module_version": "1.2.0",
            "bar_color": null,
            "_model_module": "@jupyter-widgets/controls"
          }
        },
        "e9b34054298a4135a680aee45218e22b": {
          "model_module": "@jupyter-widgets/base",
          "model_name": "LayoutModel",
          "state": {
            "_view_name": "LayoutView",
            "grid_template_rows": null,
            "right": null,
            "justify_content": null,
            "_view_module": "@jupyter-widgets/base",
            "overflow": null,
            "_model_module_version": "1.2.0",
            "_view_count": null,
            "flex_flow": null,
            "width": null,
            "min_width": null,
            "border": null,
            "align_items": null,
            "bottom": null,
            "_model_module": "@jupyter-widgets/base",
            "top": null,
            "grid_column": null,
            "overflow_y": null,
            "overflow_x": null,
            "grid_auto_flow": null,
            "grid_area": null,
            "grid_template_columns": null,
            "flex": null,
            "_model_name": "LayoutModel",
            "justify_items": null,
            "grid_row": null,
            "max_height": null,
            "align_content": null,
            "visibility": null,
            "align_self": null,
            "height": null,
            "min_height": null,
            "padding": null,
            "grid_auto_rows": null,
            "grid_gap": null,
            "max_width": null,
            "order": null,
            "_view_module_version": "1.2.0",
            "grid_template_areas": null,
            "object_position": null,
            "object_fit": null,
            "grid_auto_columns": null,
            "margin": null,
            "display": null,
            "left": null
          }
        },
        "7773acd43be741988cb3a1d0e9fb7317": {
          "model_module": "@jupyter-widgets/controls",
          "model_name": "DescriptionStyleModel",
          "state": {
            "_view_name": "StyleView",
            "_model_name": "DescriptionStyleModel",
            "description_width": "",
            "_view_module": "@jupyter-widgets/base",
            "_model_module_version": "1.5.0",
            "_view_count": null,
            "_view_module_version": "1.2.0",
            "_model_module": "@jupyter-widgets/controls"
          }
        },
        "f82b1e3d3ea845a6a13ce28c1722e2e8": {
          "model_module": "@jupyter-widgets/base",
          "model_name": "LayoutModel",
          "state": {
            "_view_name": "LayoutView",
            "grid_template_rows": null,
            "right": null,
            "justify_content": null,
            "_view_module": "@jupyter-widgets/base",
            "overflow": null,
            "_model_module_version": "1.2.0",
            "_view_count": null,
            "flex_flow": null,
            "width": null,
            "min_width": null,
            "border": null,
            "align_items": null,
            "bottom": null,
            "_model_module": "@jupyter-widgets/base",
            "top": null,
            "grid_column": null,
            "overflow_y": null,
            "overflow_x": null,
            "grid_auto_flow": null,
            "grid_area": null,
            "grid_template_columns": null,
            "flex": null,
            "_model_name": "LayoutModel",
            "justify_items": null,
            "grid_row": null,
            "max_height": null,
            "align_content": null,
            "visibility": null,
            "align_self": null,
            "height": null,
            "min_height": null,
            "padding": null,
            "grid_auto_rows": null,
            "grid_gap": null,
            "max_width": null,
            "order": null,
            "_view_module_version": "1.2.0",
            "grid_template_areas": null,
            "object_position": null,
            "object_fit": null,
            "grid_auto_columns": null,
            "margin": null,
            "display": null,
            "left": null
          }
        },
        "116314742c7342819a84e2c1e9878449": {
          "model_module": "@jupyter-widgets/controls",
          "model_name": "HBoxModel",
          "state": {
            "_view_name": "HBoxView",
            "_dom_classes": [],
            "_model_name": "HBoxModel",
            "_view_module": "@jupyter-widgets/controls",
            "_model_module_version": "1.5.0",
            "_view_count": null,
            "_view_module_version": "1.5.0",
            "box_style": "",
            "layout": "IPY_MODEL_ff574ddce13a4e5084138cc82da335e8",
            "_model_module": "@jupyter-widgets/controls",
            "children": [
              "IPY_MODEL_30a761b80e1e436dade61873c8fe94b0",
              "IPY_MODEL_989e0911273b4e39829459cada30a8e0"
            ]
          }
        },
        "ff574ddce13a4e5084138cc82da335e8": {
          "model_module": "@jupyter-widgets/base",
          "model_name": "LayoutModel",
          "state": {
            "_view_name": "LayoutView",
            "grid_template_rows": null,
            "right": null,
            "justify_content": null,
            "_view_module": "@jupyter-widgets/base",
            "overflow": null,
            "_model_module_version": "1.2.0",
            "_view_count": null,
            "flex_flow": null,
            "width": null,
            "min_width": null,
            "border": null,
            "align_items": null,
            "bottom": null,
            "_model_module": "@jupyter-widgets/base",
            "top": null,
            "grid_column": null,
            "overflow_y": null,
            "overflow_x": null,
            "grid_auto_flow": null,
            "grid_area": null,
            "grid_template_columns": null,
            "flex": null,
            "_model_name": "LayoutModel",
            "justify_items": null,
            "grid_row": null,
            "max_height": null,
            "align_content": null,
            "visibility": null,
            "align_self": null,
            "height": null,
            "min_height": null,
            "padding": null,
            "grid_auto_rows": null,
            "grid_gap": null,
            "max_width": null,
            "order": null,
            "_view_module_version": "1.2.0",
            "grid_template_areas": null,
            "object_position": null,
            "object_fit": null,
            "grid_auto_columns": null,
            "margin": null,
            "display": null,
            "left": null
          }
        },
        "30a761b80e1e436dade61873c8fe94b0": {
          "model_module": "@jupyter-widgets/controls",
          "model_name": "FloatProgressModel",
          "state": {
            "_view_name": "ProgressView",
            "style": "IPY_MODEL_daab4e2a2e9a4e4987b8111f78b3495d",
            "_dom_classes": [],
            "description": "100%",
            "_model_name": "FloatProgressModel",
            "bar_style": "success",
            "max": 10000,
            "_view_module": "@jupyter-widgets/controls",
            "_model_module_version": "1.5.0",
            "value": 10000,
            "_view_count": null,
            "_view_module_version": "1.5.0",
            "orientation": "horizontal",
            "min": 0,
            "description_tooltip": null,
            "_model_module": "@jupyter-widgets/controls",
            "layout": "IPY_MODEL_4bf3609fb8fe4c9289199fe85dbd05a8"
          }
        },
        "989e0911273b4e39829459cada30a8e0": {
          "model_module": "@jupyter-widgets/controls",
          "model_name": "HTMLModel",
          "state": {
            "_view_name": "HTMLView",
            "style": "IPY_MODEL_9b1c84cac04841c796d5d87ce5d089f7",
            "_dom_classes": [],
            "description": "",
            "_model_name": "HTMLModel",
            "placeholder": "​",
            "_view_module": "@jupyter-widgets/controls",
            "_model_module_version": "1.5.0",
            "value": " 10000/10000 [01:20&lt;00:00, 123.76it/s]",
            "_view_count": null,
            "_view_module_version": "1.5.0",
            "description_tooltip": null,
            "_model_module": "@jupyter-widgets/controls",
            "layout": "IPY_MODEL_eb2832a6158f4adb88814632b4e45c55"
          }
        },
        "daab4e2a2e9a4e4987b8111f78b3495d": {
          "model_module": "@jupyter-widgets/controls",
          "model_name": "ProgressStyleModel",
          "state": {
            "_view_name": "StyleView",
            "_model_name": "ProgressStyleModel",
            "description_width": "initial",
            "_view_module": "@jupyter-widgets/base",
            "_model_module_version": "1.5.0",
            "_view_count": null,
            "_view_module_version": "1.2.0",
            "bar_color": null,
            "_model_module": "@jupyter-widgets/controls"
          }
        },
        "4bf3609fb8fe4c9289199fe85dbd05a8": {
          "model_module": "@jupyter-widgets/base",
          "model_name": "LayoutModel",
          "state": {
            "_view_name": "LayoutView",
            "grid_template_rows": null,
            "right": null,
            "justify_content": null,
            "_view_module": "@jupyter-widgets/base",
            "overflow": null,
            "_model_module_version": "1.2.0",
            "_view_count": null,
            "flex_flow": null,
            "width": null,
            "min_width": null,
            "border": null,
            "align_items": null,
            "bottom": null,
            "_model_module": "@jupyter-widgets/base",
            "top": null,
            "grid_column": null,
            "overflow_y": null,
            "overflow_x": null,
            "grid_auto_flow": null,
            "grid_area": null,
            "grid_template_columns": null,
            "flex": null,
            "_model_name": "LayoutModel",
            "justify_items": null,
            "grid_row": null,
            "max_height": null,
            "align_content": null,
            "visibility": null,
            "align_self": null,
            "height": null,
            "min_height": null,
            "padding": null,
            "grid_auto_rows": null,
            "grid_gap": null,
            "max_width": null,
            "order": null,
            "_view_module_version": "1.2.0",
            "grid_template_areas": null,
            "object_position": null,
            "object_fit": null,
            "grid_auto_columns": null,
            "margin": null,
            "display": null,
            "left": null
          }
        },
        "9b1c84cac04841c796d5d87ce5d089f7": {
          "model_module": "@jupyter-widgets/controls",
          "model_name": "DescriptionStyleModel",
          "state": {
            "_view_name": "StyleView",
            "_model_name": "DescriptionStyleModel",
            "description_width": "",
            "_view_module": "@jupyter-widgets/base",
            "_model_module_version": "1.5.0",
            "_view_count": null,
            "_view_module_version": "1.2.0",
            "_model_module": "@jupyter-widgets/controls"
          }
        },
        "eb2832a6158f4adb88814632b4e45c55": {
          "model_module": "@jupyter-widgets/base",
          "model_name": "LayoutModel",
          "state": {
            "_view_name": "LayoutView",
            "grid_template_rows": null,
            "right": null,
            "justify_content": null,
            "_view_module": "@jupyter-widgets/base",
            "overflow": null,
            "_model_module_version": "1.2.0",
            "_view_count": null,
            "flex_flow": null,
            "width": null,
            "min_width": null,
            "border": null,
            "align_items": null,
            "bottom": null,
            "_model_module": "@jupyter-widgets/base",
            "top": null,
            "grid_column": null,
            "overflow_y": null,
            "overflow_x": null,
            "grid_auto_flow": null,
            "grid_area": null,
            "grid_template_columns": null,
            "flex": null,
            "_model_name": "LayoutModel",
            "justify_items": null,
            "grid_row": null,
            "max_height": null,
            "align_content": null,
            "visibility": null,
            "align_self": null,
            "height": null,
            "min_height": null,
            "padding": null,
            "grid_auto_rows": null,
            "grid_gap": null,
            "max_width": null,
            "order": null,
            "_view_module_version": "1.2.0",
            "grid_template_areas": null,
            "object_position": null,
            "object_fit": null,
            "grid_auto_columns": null,
            "margin": null,
            "display": null,
            "left": null
          }
        },
        "9ef28cc3031f4ea68ed33a6de9c5e6a9": {
          "model_module": "@jupyter-widgets/controls",
          "model_name": "HBoxModel",
          "state": {
            "_view_name": "HBoxView",
            "_dom_classes": [],
            "_model_name": "HBoxModel",
            "_view_module": "@jupyter-widgets/controls",
            "_model_module_version": "1.5.0",
            "_view_count": null,
            "_view_module_version": "1.5.0",
            "box_style": "",
            "layout": "IPY_MODEL_88202245690548d7abdff6767f2d74f2",
            "_model_module": "@jupyter-widgets/controls",
            "children": [
              "IPY_MODEL_4f9f11eed7564b9f99fdb53b3bb542ae",
              "IPY_MODEL_d9c2f23ef07046cabc89ce12184f2fb3"
            ]
          }
        },
        "88202245690548d7abdff6767f2d74f2": {
          "model_module": "@jupyter-widgets/base",
          "model_name": "LayoutModel",
          "state": {
            "_view_name": "LayoutView",
            "grid_template_rows": null,
            "right": null,
            "justify_content": null,
            "_view_module": "@jupyter-widgets/base",
            "overflow": null,
            "_model_module_version": "1.2.0",
            "_view_count": null,
            "flex_flow": null,
            "width": null,
            "min_width": null,
            "border": null,
            "align_items": null,
            "bottom": null,
            "_model_module": "@jupyter-widgets/base",
            "top": null,
            "grid_column": null,
            "overflow_y": null,
            "overflow_x": null,
            "grid_auto_flow": null,
            "grid_area": null,
            "grid_template_columns": null,
            "flex": null,
            "_model_name": "LayoutModel",
            "justify_items": null,
            "grid_row": null,
            "max_height": null,
            "align_content": null,
            "visibility": null,
            "align_self": null,
            "height": null,
            "min_height": null,
            "padding": null,
            "grid_auto_rows": null,
            "grid_gap": null,
            "max_width": null,
            "order": null,
            "_view_module_version": "1.2.0",
            "grid_template_areas": null,
            "object_position": null,
            "object_fit": null,
            "grid_auto_columns": null,
            "margin": null,
            "display": null,
            "left": null
          }
        },
        "4f9f11eed7564b9f99fdb53b3bb542ae": {
          "model_module": "@jupyter-widgets/controls",
          "model_name": "FloatProgressModel",
          "state": {
            "_view_name": "ProgressView",
            "style": "IPY_MODEL_0525defa6add40deb84b148a56b465c5",
            "_dom_classes": [],
            "description": "100%",
            "_model_name": "FloatProgressModel",
            "bar_style": "success",
            "max": 10000,
            "_view_module": "@jupyter-widgets/controls",
            "_model_module_version": "1.5.0",
            "value": 10000,
            "_view_count": null,
            "_view_module_version": "1.5.0",
            "orientation": "horizontal",
            "min": 0,
            "description_tooltip": null,
            "_model_module": "@jupyter-widgets/controls",
            "layout": "IPY_MODEL_643bcdaedf234154a6d7358b8dba40e6"
          }
        },
        "d9c2f23ef07046cabc89ce12184f2fb3": {
          "model_module": "@jupyter-widgets/controls",
          "model_name": "HTMLModel",
          "state": {
            "_view_name": "HTMLView",
            "style": "IPY_MODEL_95a20136a0ec4916918d649980861953",
            "_dom_classes": [],
            "description": "",
            "_model_name": "HTMLModel",
            "placeholder": "​",
            "_view_module": "@jupyter-widgets/controls",
            "_model_module_version": "1.5.0",
            "value": " 10000/10000 [01:15&lt;00:00, 132.08it/s]",
            "_view_count": null,
            "_view_module_version": "1.5.0",
            "description_tooltip": null,
            "_model_module": "@jupyter-widgets/controls",
            "layout": "IPY_MODEL_c9ec9339e7e4488197c03938678ec472"
          }
        },
        "0525defa6add40deb84b148a56b465c5": {
          "model_module": "@jupyter-widgets/controls",
          "model_name": "ProgressStyleModel",
          "state": {
            "_view_name": "StyleView",
            "_model_name": "ProgressStyleModel",
            "description_width": "initial",
            "_view_module": "@jupyter-widgets/base",
            "_model_module_version": "1.5.0",
            "_view_count": null,
            "_view_module_version": "1.2.0",
            "bar_color": null,
            "_model_module": "@jupyter-widgets/controls"
          }
        },
        "643bcdaedf234154a6d7358b8dba40e6": {
          "model_module": "@jupyter-widgets/base",
          "model_name": "LayoutModel",
          "state": {
            "_view_name": "LayoutView",
            "grid_template_rows": null,
            "right": null,
            "justify_content": null,
            "_view_module": "@jupyter-widgets/base",
            "overflow": null,
            "_model_module_version": "1.2.0",
            "_view_count": null,
            "flex_flow": null,
            "width": null,
            "min_width": null,
            "border": null,
            "align_items": null,
            "bottom": null,
            "_model_module": "@jupyter-widgets/base",
            "top": null,
            "grid_column": null,
            "overflow_y": null,
            "overflow_x": null,
            "grid_auto_flow": null,
            "grid_area": null,
            "grid_template_columns": null,
            "flex": null,
            "_model_name": "LayoutModel",
            "justify_items": null,
            "grid_row": null,
            "max_height": null,
            "align_content": null,
            "visibility": null,
            "align_self": null,
            "height": null,
            "min_height": null,
            "padding": null,
            "grid_auto_rows": null,
            "grid_gap": null,
            "max_width": null,
            "order": null,
            "_view_module_version": "1.2.0",
            "grid_template_areas": null,
            "object_position": null,
            "object_fit": null,
            "grid_auto_columns": null,
            "margin": null,
            "display": null,
            "left": null
          }
        },
        "95a20136a0ec4916918d649980861953": {
          "model_module": "@jupyter-widgets/controls",
          "model_name": "DescriptionStyleModel",
          "state": {
            "_view_name": "StyleView",
            "_model_name": "DescriptionStyleModel",
            "description_width": "",
            "_view_module": "@jupyter-widgets/base",
            "_model_module_version": "1.5.0",
            "_view_count": null,
            "_view_module_version": "1.2.0",
            "_model_module": "@jupyter-widgets/controls"
          }
        },
        "c9ec9339e7e4488197c03938678ec472": {
          "model_module": "@jupyter-widgets/base",
          "model_name": "LayoutModel",
          "state": {
            "_view_name": "LayoutView",
            "grid_template_rows": null,
            "right": null,
            "justify_content": null,
            "_view_module": "@jupyter-widgets/base",
            "overflow": null,
            "_model_module_version": "1.2.0",
            "_view_count": null,
            "flex_flow": null,
            "width": null,
            "min_width": null,
            "border": null,
            "align_items": null,
            "bottom": null,
            "_model_module": "@jupyter-widgets/base",
            "top": null,
            "grid_column": null,
            "overflow_y": null,
            "overflow_x": null,
            "grid_auto_flow": null,
            "grid_area": null,
            "grid_template_columns": null,
            "flex": null,
            "_model_name": "LayoutModel",
            "justify_items": null,
            "grid_row": null,
            "max_height": null,
            "align_content": null,
            "visibility": null,
            "align_self": null,
            "height": null,
            "min_height": null,
            "padding": null,
            "grid_auto_rows": null,
            "grid_gap": null,
            "max_width": null,
            "order": null,
            "_view_module_version": "1.2.0",
            "grid_template_areas": null,
            "object_position": null,
            "object_fit": null,
            "grid_auto_columns": null,
            "margin": null,
            "display": null,
            "left": null
          }
        },
        "141747839917475795029bf84771617b": {
          "model_module": "@jupyter-widgets/controls",
          "model_name": "HBoxModel",
          "state": {
            "_view_name": "HBoxView",
            "_dom_classes": [],
            "_model_name": "HBoxModel",
            "_view_module": "@jupyter-widgets/controls",
            "_model_module_version": "1.5.0",
            "_view_count": null,
            "_view_module_version": "1.5.0",
            "box_style": "",
            "layout": "IPY_MODEL_fb3355ec56644312a8d1ae4f2763a616",
            "_model_module": "@jupyter-widgets/controls",
            "children": [
              "IPY_MODEL_46002bd62a3c498b9341ded7f55ca0fe",
              "IPY_MODEL_fc10fa2b40414d3ab56d37211ccc10d8"
            ]
          }
        },
        "fb3355ec56644312a8d1ae4f2763a616": {
          "model_module": "@jupyter-widgets/base",
          "model_name": "LayoutModel",
          "state": {
            "_view_name": "LayoutView",
            "grid_template_rows": null,
            "right": null,
            "justify_content": null,
            "_view_module": "@jupyter-widgets/base",
            "overflow": null,
            "_model_module_version": "1.2.0",
            "_view_count": null,
            "flex_flow": null,
            "width": null,
            "min_width": null,
            "border": null,
            "align_items": null,
            "bottom": null,
            "_model_module": "@jupyter-widgets/base",
            "top": null,
            "grid_column": null,
            "overflow_y": null,
            "overflow_x": null,
            "grid_auto_flow": null,
            "grid_area": null,
            "grid_template_columns": null,
            "flex": null,
            "_model_name": "LayoutModel",
            "justify_items": null,
            "grid_row": null,
            "max_height": null,
            "align_content": null,
            "visibility": null,
            "align_self": null,
            "height": null,
            "min_height": null,
            "padding": null,
            "grid_auto_rows": null,
            "grid_gap": null,
            "max_width": null,
            "order": null,
            "_view_module_version": "1.2.0",
            "grid_template_areas": null,
            "object_position": null,
            "object_fit": null,
            "grid_auto_columns": null,
            "margin": null,
            "display": null,
            "left": null
          }
        },
        "46002bd62a3c498b9341ded7f55ca0fe": {
          "model_module": "@jupyter-widgets/controls",
          "model_name": "FloatProgressModel",
          "state": {
            "_view_name": "ProgressView",
            "style": "IPY_MODEL_bce0658dafb444bdb85895a6ee5b704f",
            "_dom_classes": [],
            "description": "100%",
            "_model_name": "FloatProgressModel",
            "bar_style": "success",
            "max": 10000,
            "_view_module": "@jupyter-widgets/controls",
            "_model_module_version": "1.5.0",
            "value": 10000,
            "_view_count": null,
            "_view_module_version": "1.5.0",
            "orientation": "horizontal",
            "min": 0,
            "description_tooltip": null,
            "_model_module": "@jupyter-widgets/controls",
            "layout": "IPY_MODEL_c931585e458e4cb1ac00555901a663bd"
          }
        },
        "fc10fa2b40414d3ab56d37211ccc10d8": {
          "model_module": "@jupyter-widgets/controls",
          "model_name": "HTMLModel",
          "state": {
            "_view_name": "HTMLView",
            "style": "IPY_MODEL_8a6b1a81c8174271afd610ad05141508",
            "_dom_classes": [],
            "description": "",
            "_model_name": "HTMLModel",
            "placeholder": "​",
            "_view_module": "@jupyter-widgets/controls",
            "_model_module_version": "1.5.0",
            "value": " 10000/10000 [01:14&lt;00:00, 134.71it/s]",
            "_view_count": null,
            "_view_module_version": "1.5.0",
            "description_tooltip": null,
            "_model_module": "@jupyter-widgets/controls",
            "layout": "IPY_MODEL_b767ce5b04e34828a96c95ea3472a11d"
          }
        },
        "bce0658dafb444bdb85895a6ee5b704f": {
          "model_module": "@jupyter-widgets/controls",
          "model_name": "ProgressStyleModel",
          "state": {
            "_view_name": "StyleView",
            "_model_name": "ProgressStyleModel",
            "description_width": "initial",
            "_view_module": "@jupyter-widgets/base",
            "_model_module_version": "1.5.0",
            "_view_count": null,
            "_view_module_version": "1.2.0",
            "bar_color": null,
            "_model_module": "@jupyter-widgets/controls"
          }
        },
        "c931585e458e4cb1ac00555901a663bd": {
          "model_module": "@jupyter-widgets/base",
          "model_name": "LayoutModel",
          "state": {
            "_view_name": "LayoutView",
            "grid_template_rows": null,
            "right": null,
            "justify_content": null,
            "_view_module": "@jupyter-widgets/base",
            "overflow": null,
            "_model_module_version": "1.2.0",
            "_view_count": null,
            "flex_flow": null,
            "width": null,
            "min_width": null,
            "border": null,
            "align_items": null,
            "bottom": null,
            "_model_module": "@jupyter-widgets/base",
            "top": null,
            "grid_column": null,
            "overflow_y": null,
            "overflow_x": null,
            "grid_auto_flow": null,
            "grid_area": null,
            "grid_template_columns": null,
            "flex": null,
            "_model_name": "LayoutModel",
            "justify_items": null,
            "grid_row": null,
            "max_height": null,
            "align_content": null,
            "visibility": null,
            "align_self": null,
            "height": null,
            "min_height": null,
            "padding": null,
            "grid_auto_rows": null,
            "grid_gap": null,
            "max_width": null,
            "order": null,
            "_view_module_version": "1.2.0",
            "grid_template_areas": null,
            "object_position": null,
            "object_fit": null,
            "grid_auto_columns": null,
            "margin": null,
            "display": null,
            "left": null
          }
        },
        "8a6b1a81c8174271afd610ad05141508": {
          "model_module": "@jupyter-widgets/controls",
          "model_name": "DescriptionStyleModel",
          "state": {
            "_view_name": "StyleView",
            "_model_name": "DescriptionStyleModel",
            "description_width": "",
            "_view_module": "@jupyter-widgets/base",
            "_model_module_version": "1.5.0",
            "_view_count": null,
            "_view_module_version": "1.2.0",
            "_model_module": "@jupyter-widgets/controls"
          }
        },
        "b767ce5b04e34828a96c95ea3472a11d": {
          "model_module": "@jupyter-widgets/base",
          "model_name": "LayoutModel",
          "state": {
            "_view_name": "LayoutView",
            "grid_template_rows": null,
            "right": null,
            "justify_content": null,
            "_view_module": "@jupyter-widgets/base",
            "overflow": null,
            "_model_module_version": "1.2.0",
            "_view_count": null,
            "flex_flow": null,
            "width": null,
            "min_width": null,
            "border": null,
            "align_items": null,
            "bottom": null,
            "_model_module": "@jupyter-widgets/base",
            "top": null,
            "grid_column": null,
            "overflow_y": null,
            "overflow_x": null,
            "grid_auto_flow": null,
            "grid_area": null,
            "grid_template_columns": null,
            "flex": null,
            "_model_name": "LayoutModel",
            "justify_items": null,
            "grid_row": null,
            "max_height": null,
            "align_content": null,
            "visibility": null,
            "align_self": null,
            "height": null,
            "min_height": null,
            "padding": null,
            "grid_auto_rows": null,
            "grid_gap": null,
            "max_width": null,
            "order": null,
            "_view_module_version": "1.2.0",
            "grid_template_areas": null,
            "object_position": null,
            "object_fit": null,
            "grid_auto_columns": null,
            "margin": null,
            "display": null,
            "left": null
          }
        },
        "4762b11af9f8440dafb8af30d60051ea": {
          "model_module": "@jupyter-widgets/controls",
          "model_name": "HBoxModel",
          "state": {
            "_view_name": "HBoxView",
            "_dom_classes": [],
            "_model_name": "HBoxModel",
            "_view_module": "@jupyter-widgets/controls",
            "_model_module_version": "1.5.0",
            "_view_count": null,
            "_view_module_version": "1.5.0",
            "box_style": "",
            "layout": "IPY_MODEL_3ad613d6c5a443fc9a335ebf89f4fecf",
            "_model_module": "@jupyter-widgets/controls",
            "children": [
              "IPY_MODEL_e92eb55d226149ddb7122c5d4596effc",
              "IPY_MODEL_695b8ce1996a494682e2b9ffb4956426"
            ]
          }
        },
        "3ad613d6c5a443fc9a335ebf89f4fecf": {
          "model_module": "@jupyter-widgets/base",
          "model_name": "LayoutModel",
          "state": {
            "_view_name": "LayoutView",
            "grid_template_rows": null,
            "right": null,
            "justify_content": null,
            "_view_module": "@jupyter-widgets/base",
            "overflow": null,
            "_model_module_version": "1.2.0",
            "_view_count": null,
            "flex_flow": null,
            "width": null,
            "min_width": null,
            "border": null,
            "align_items": null,
            "bottom": null,
            "_model_module": "@jupyter-widgets/base",
            "top": null,
            "grid_column": null,
            "overflow_y": null,
            "overflow_x": null,
            "grid_auto_flow": null,
            "grid_area": null,
            "grid_template_columns": null,
            "flex": null,
            "_model_name": "LayoutModel",
            "justify_items": null,
            "grid_row": null,
            "max_height": null,
            "align_content": null,
            "visibility": null,
            "align_self": null,
            "height": null,
            "min_height": null,
            "padding": null,
            "grid_auto_rows": null,
            "grid_gap": null,
            "max_width": null,
            "order": null,
            "_view_module_version": "1.2.0",
            "grid_template_areas": null,
            "object_position": null,
            "object_fit": null,
            "grid_auto_columns": null,
            "margin": null,
            "display": null,
            "left": null
          }
        },
        "e92eb55d226149ddb7122c5d4596effc": {
          "model_module": "@jupyter-widgets/controls",
          "model_name": "FloatProgressModel",
          "state": {
            "_view_name": "ProgressView",
            "style": "IPY_MODEL_beeaf046ab014a518d26f49caf3d2160",
            "_dom_classes": [],
            "description": "100%",
            "_model_name": "FloatProgressModel",
            "bar_style": "success",
            "max": 10000,
            "_view_module": "@jupyter-widgets/controls",
            "_model_module_version": "1.5.0",
            "value": 10000,
            "_view_count": null,
            "_view_module_version": "1.5.0",
            "orientation": "horizontal",
            "min": 0,
            "description_tooltip": null,
            "_model_module": "@jupyter-widgets/controls",
            "layout": "IPY_MODEL_338cb8e884f74c3e8c02bc1ba2cbd2c8"
          }
        },
        "695b8ce1996a494682e2b9ffb4956426": {
          "model_module": "@jupyter-widgets/controls",
          "model_name": "HTMLModel",
          "state": {
            "_view_name": "HTMLView",
            "style": "IPY_MODEL_4df9249d36084f5eb7dc5fa2dbd95eea",
            "_dom_classes": [],
            "description": "",
            "_model_name": "HTMLModel",
            "placeholder": "​",
            "_view_module": "@jupyter-widgets/controls",
            "_model_module_version": "1.5.0",
            "value": " 10000/10000 [01:14&lt;00:00, 134.65it/s]",
            "_view_count": null,
            "_view_module_version": "1.5.0",
            "description_tooltip": null,
            "_model_module": "@jupyter-widgets/controls",
            "layout": "IPY_MODEL_8493df674eac40b98d31de02b91673b5"
          }
        },
        "beeaf046ab014a518d26f49caf3d2160": {
          "model_module": "@jupyter-widgets/controls",
          "model_name": "ProgressStyleModel",
          "state": {
            "_view_name": "StyleView",
            "_model_name": "ProgressStyleModel",
            "description_width": "initial",
            "_view_module": "@jupyter-widgets/base",
            "_model_module_version": "1.5.0",
            "_view_count": null,
            "_view_module_version": "1.2.0",
            "bar_color": null,
            "_model_module": "@jupyter-widgets/controls"
          }
        },
        "338cb8e884f74c3e8c02bc1ba2cbd2c8": {
          "model_module": "@jupyter-widgets/base",
          "model_name": "LayoutModel",
          "state": {
            "_view_name": "LayoutView",
            "grid_template_rows": null,
            "right": null,
            "justify_content": null,
            "_view_module": "@jupyter-widgets/base",
            "overflow": null,
            "_model_module_version": "1.2.0",
            "_view_count": null,
            "flex_flow": null,
            "width": null,
            "min_width": null,
            "border": null,
            "align_items": null,
            "bottom": null,
            "_model_module": "@jupyter-widgets/base",
            "top": null,
            "grid_column": null,
            "overflow_y": null,
            "overflow_x": null,
            "grid_auto_flow": null,
            "grid_area": null,
            "grid_template_columns": null,
            "flex": null,
            "_model_name": "LayoutModel",
            "justify_items": null,
            "grid_row": null,
            "max_height": null,
            "align_content": null,
            "visibility": null,
            "align_self": null,
            "height": null,
            "min_height": null,
            "padding": null,
            "grid_auto_rows": null,
            "grid_gap": null,
            "max_width": null,
            "order": null,
            "_view_module_version": "1.2.0",
            "grid_template_areas": null,
            "object_position": null,
            "object_fit": null,
            "grid_auto_columns": null,
            "margin": null,
            "display": null,
            "left": null
          }
        },
        "4df9249d36084f5eb7dc5fa2dbd95eea": {
          "model_module": "@jupyter-widgets/controls",
          "model_name": "DescriptionStyleModel",
          "state": {
            "_view_name": "StyleView",
            "_model_name": "DescriptionStyleModel",
            "description_width": "",
            "_view_module": "@jupyter-widgets/base",
            "_model_module_version": "1.5.0",
            "_view_count": null,
            "_view_module_version": "1.2.0",
            "_model_module": "@jupyter-widgets/controls"
          }
        },
        "8493df674eac40b98d31de02b91673b5": {
          "model_module": "@jupyter-widgets/base",
          "model_name": "LayoutModel",
          "state": {
            "_view_name": "LayoutView",
            "grid_template_rows": null,
            "right": null,
            "justify_content": null,
            "_view_module": "@jupyter-widgets/base",
            "overflow": null,
            "_model_module_version": "1.2.0",
            "_view_count": null,
            "flex_flow": null,
            "width": null,
            "min_width": null,
            "border": null,
            "align_items": null,
            "bottom": null,
            "_model_module": "@jupyter-widgets/base",
            "top": null,
            "grid_column": null,
            "overflow_y": null,
            "overflow_x": null,
            "grid_auto_flow": null,
            "grid_area": null,
            "grid_template_columns": null,
            "flex": null,
            "_model_name": "LayoutModel",
            "justify_items": null,
            "grid_row": null,
            "max_height": null,
            "align_content": null,
            "visibility": null,
            "align_self": null,
            "height": null,
            "min_height": null,
            "padding": null,
            "grid_auto_rows": null,
            "grid_gap": null,
            "max_width": null,
            "order": null,
            "_view_module_version": "1.2.0",
            "grid_template_areas": null,
            "object_position": null,
            "object_fit": null,
            "grid_auto_columns": null,
            "margin": null,
            "display": null,
            "left": null
          }
        },
        "d0ecfb96f60340c6ac23ca361982799f": {
          "model_module": "@jupyter-widgets/controls",
          "model_name": "HBoxModel",
          "state": {
            "_view_name": "HBoxView",
            "_dom_classes": [],
            "_model_name": "HBoxModel",
            "_view_module": "@jupyter-widgets/controls",
            "_model_module_version": "1.5.0",
            "_view_count": null,
            "_view_module_version": "1.5.0",
            "box_style": "",
            "layout": "IPY_MODEL_cad0794ce02a4ad3a8f4627a2fdec158",
            "_model_module": "@jupyter-widgets/controls",
            "children": [
              "IPY_MODEL_356ac5ac055444cf9f3a2344614c27a1",
              "IPY_MODEL_a8d8362a34b745b0b0e910ffb6f5a01d"
            ]
          }
        },
        "cad0794ce02a4ad3a8f4627a2fdec158": {
          "model_module": "@jupyter-widgets/base",
          "model_name": "LayoutModel",
          "state": {
            "_view_name": "LayoutView",
            "grid_template_rows": null,
            "right": null,
            "justify_content": null,
            "_view_module": "@jupyter-widgets/base",
            "overflow": null,
            "_model_module_version": "1.2.0",
            "_view_count": null,
            "flex_flow": null,
            "width": null,
            "min_width": null,
            "border": null,
            "align_items": null,
            "bottom": null,
            "_model_module": "@jupyter-widgets/base",
            "top": null,
            "grid_column": null,
            "overflow_y": null,
            "overflow_x": null,
            "grid_auto_flow": null,
            "grid_area": null,
            "grid_template_columns": null,
            "flex": null,
            "_model_name": "LayoutModel",
            "justify_items": null,
            "grid_row": null,
            "max_height": null,
            "align_content": null,
            "visibility": null,
            "align_self": null,
            "height": null,
            "min_height": null,
            "padding": null,
            "grid_auto_rows": null,
            "grid_gap": null,
            "max_width": null,
            "order": null,
            "_view_module_version": "1.2.0",
            "grid_template_areas": null,
            "object_position": null,
            "object_fit": null,
            "grid_auto_columns": null,
            "margin": null,
            "display": null,
            "left": null
          }
        },
        "356ac5ac055444cf9f3a2344614c27a1": {
          "model_module": "@jupyter-widgets/controls",
          "model_name": "FloatProgressModel",
          "state": {
            "_view_name": "ProgressView",
            "style": "IPY_MODEL_600d5025b11943c09af58405886d24f8",
            "_dom_classes": [],
            "description": "100%",
            "_model_name": "FloatProgressModel",
            "bar_style": "success",
            "max": 10000,
            "_view_module": "@jupyter-widgets/controls",
            "_model_module_version": "1.5.0",
            "value": 10000,
            "_view_count": null,
            "_view_module_version": "1.5.0",
            "orientation": "horizontal",
            "min": 0,
            "description_tooltip": null,
            "_model_module": "@jupyter-widgets/controls",
            "layout": "IPY_MODEL_426554692f334dc597953658c1ae0d24"
          }
        },
        "a8d8362a34b745b0b0e910ffb6f5a01d": {
          "model_module": "@jupyter-widgets/controls",
          "model_name": "HTMLModel",
          "state": {
            "_view_name": "HTMLView",
            "style": "IPY_MODEL_8c224ee716344e948160d36488eeadc8",
            "_dom_classes": [],
            "description": "",
            "_model_name": "HTMLModel",
            "placeholder": "​",
            "_view_module": "@jupyter-widgets/controls",
            "_model_module_version": "1.5.0",
            "value": " 10000/10000 [01:13&lt;00:00, 135.81it/s]",
            "_view_count": null,
            "_view_module_version": "1.5.0",
            "description_tooltip": null,
            "_model_module": "@jupyter-widgets/controls",
            "layout": "IPY_MODEL_c261f2796e6247d6b7a7386922a6e6ae"
          }
        },
        "600d5025b11943c09af58405886d24f8": {
          "model_module": "@jupyter-widgets/controls",
          "model_name": "ProgressStyleModel",
          "state": {
            "_view_name": "StyleView",
            "_model_name": "ProgressStyleModel",
            "description_width": "initial",
            "_view_module": "@jupyter-widgets/base",
            "_model_module_version": "1.5.0",
            "_view_count": null,
            "_view_module_version": "1.2.0",
            "bar_color": null,
            "_model_module": "@jupyter-widgets/controls"
          }
        },
        "426554692f334dc597953658c1ae0d24": {
          "model_module": "@jupyter-widgets/base",
          "model_name": "LayoutModel",
          "state": {
            "_view_name": "LayoutView",
            "grid_template_rows": null,
            "right": null,
            "justify_content": null,
            "_view_module": "@jupyter-widgets/base",
            "overflow": null,
            "_model_module_version": "1.2.0",
            "_view_count": null,
            "flex_flow": null,
            "width": null,
            "min_width": null,
            "border": null,
            "align_items": null,
            "bottom": null,
            "_model_module": "@jupyter-widgets/base",
            "top": null,
            "grid_column": null,
            "overflow_y": null,
            "overflow_x": null,
            "grid_auto_flow": null,
            "grid_area": null,
            "grid_template_columns": null,
            "flex": null,
            "_model_name": "LayoutModel",
            "justify_items": null,
            "grid_row": null,
            "max_height": null,
            "align_content": null,
            "visibility": null,
            "align_self": null,
            "height": null,
            "min_height": null,
            "padding": null,
            "grid_auto_rows": null,
            "grid_gap": null,
            "max_width": null,
            "order": null,
            "_view_module_version": "1.2.0",
            "grid_template_areas": null,
            "object_position": null,
            "object_fit": null,
            "grid_auto_columns": null,
            "margin": null,
            "display": null,
            "left": null
          }
        },
        "8c224ee716344e948160d36488eeadc8": {
          "model_module": "@jupyter-widgets/controls",
          "model_name": "DescriptionStyleModel",
          "state": {
            "_view_name": "StyleView",
            "_model_name": "DescriptionStyleModel",
            "description_width": "",
            "_view_module": "@jupyter-widgets/base",
            "_model_module_version": "1.5.0",
            "_view_count": null,
            "_view_module_version": "1.2.0",
            "_model_module": "@jupyter-widgets/controls"
          }
        },
        "c261f2796e6247d6b7a7386922a6e6ae": {
          "model_module": "@jupyter-widgets/base",
          "model_name": "LayoutModel",
          "state": {
            "_view_name": "LayoutView",
            "grid_template_rows": null,
            "right": null,
            "justify_content": null,
            "_view_module": "@jupyter-widgets/base",
            "overflow": null,
            "_model_module_version": "1.2.0",
            "_view_count": null,
            "flex_flow": null,
            "width": null,
            "min_width": null,
            "border": null,
            "align_items": null,
            "bottom": null,
            "_model_module": "@jupyter-widgets/base",
            "top": null,
            "grid_column": null,
            "overflow_y": null,
            "overflow_x": null,
            "grid_auto_flow": null,
            "grid_area": null,
            "grid_template_columns": null,
            "flex": null,
            "_model_name": "LayoutModel",
            "justify_items": null,
            "grid_row": null,
            "max_height": null,
            "align_content": null,
            "visibility": null,
            "align_self": null,
            "height": null,
            "min_height": null,
            "padding": null,
            "grid_auto_rows": null,
            "grid_gap": null,
            "max_width": null,
            "order": null,
            "_view_module_version": "1.2.0",
            "grid_template_areas": null,
            "object_position": null,
            "object_fit": null,
            "grid_auto_columns": null,
            "margin": null,
            "display": null,
            "left": null
          }
        },
        "f635346c26174fc8aa73fd97152cd180": {
          "model_module": "@jupyter-widgets/controls",
          "model_name": "HBoxModel",
          "state": {
            "_view_name": "HBoxView",
            "_dom_classes": [],
            "_model_name": "HBoxModel",
            "_view_module": "@jupyter-widgets/controls",
            "_model_module_version": "1.5.0",
            "_view_count": null,
            "_view_module_version": "1.5.0",
            "box_style": "",
            "layout": "IPY_MODEL_fe412fa053f8430b9fa41e40f9bcbe8f",
            "_model_module": "@jupyter-widgets/controls",
            "children": [
              "IPY_MODEL_a7e8bade70c04bf4a19da18afb87cf20",
              "IPY_MODEL_1d15e3b4fa744067be9d4d5354a23251"
            ]
          }
        },
        "fe412fa053f8430b9fa41e40f9bcbe8f": {
          "model_module": "@jupyter-widgets/base",
          "model_name": "LayoutModel",
          "state": {
            "_view_name": "LayoutView",
            "grid_template_rows": null,
            "right": null,
            "justify_content": null,
            "_view_module": "@jupyter-widgets/base",
            "overflow": null,
            "_model_module_version": "1.2.0",
            "_view_count": null,
            "flex_flow": null,
            "width": null,
            "min_width": null,
            "border": null,
            "align_items": null,
            "bottom": null,
            "_model_module": "@jupyter-widgets/base",
            "top": null,
            "grid_column": null,
            "overflow_y": null,
            "overflow_x": null,
            "grid_auto_flow": null,
            "grid_area": null,
            "grid_template_columns": null,
            "flex": null,
            "_model_name": "LayoutModel",
            "justify_items": null,
            "grid_row": null,
            "max_height": null,
            "align_content": null,
            "visibility": null,
            "align_self": null,
            "height": null,
            "min_height": null,
            "padding": null,
            "grid_auto_rows": null,
            "grid_gap": null,
            "max_width": null,
            "order": null,
            "_view_module_version": "1.2.0",
            "grid_template_areas": null,
            "object_position": null,
            "object_fit": null,
            "grid_auto_columns": null,
            "margin": null,
            "display": null,
            "left": null
          }
        },
        "a7e8bade70c04bf4a19da18afb87cf20": {
          "model_module": "@jupyter-widgets/controls",
          "model_name": "FloatProgressModel",
          "state": {
            "_view_name": "ProgressView",
            "style": "IPY_MODEL_8d427047c3254b64bf90a4ab863d315c",
            "_dom_classes": [],
            "description": "100%",
            "_model_name": "FloatProgressModel",
            "bar_style": "success",
            "max": 10000,
            "_view_module": "@jupyter-widgets/controls",
            "_model_module_version": "1.5.0",
            "value": 10000,
            "_view_count": null,
            "_view_module_version": "1.5.0",
            "orientation": "horizontal",
            "min": 0,
            "description_tooltip": null,
            "_model_module": "@jupyter-widgets/controls",
            "layout": "IPY_MODEL_70f403dd43b7424bb57057b9eb15a9a5"
          }
        },
        "1d15e3b4fa744067be9d4d5354a23251": {
          "model_module": "@jupyter-widgets/controls",
          "model_name": "HTMLModel",
          "state": {
            "_view_name": "HTMLView",
            "style": "IPY_MODEL_26d77feca9ae425eab42b78e800092e8",
            "_dom_classes": [],
            "description": "",
            "_model_name": "HTMLModel",
            "placeholder": "​",
            "_view_module": "@jupyter-widgets/controls",
            "_model_module_version": "1.5.0",
            "value": " 10000/10000 [01:12&lt;00:00, 137.51it/s]",
            "_view_count": null,
            "_view_module_version": "1.5.0",
            "description_tooltip": null,
            "_model_module": "@jupyter-widgets/controls",
            "layout": "IPY_MODEL_d237322eeede4cedaac2feacbcc73036"
          }
        },
        "8d427047c3254b64bf90a4ab863d315c": {
          "model_module": "@jupyter-widgets/controls",
          "model_name": "ProgressStyleModel",
          "state": {
            "_view_name": "StyleView",
            "_model_name": "ProgressStyleModel",
            "description_width": "initial",
            "_view_module": "@jupyter-widgets/base",
            "_model_module_version": "1.5.0",
            "_view_count": null,
            "_view_module_version": "1.2.0",
            "bar_color": null,
            "_model_module": "@jupyter-widgets/controls"
          }
        },
        "70f403dd43b7424bb57057b9eb15a9a5": {
          "model_module": "@jupyter-widgets/base",
          "model_name": "LayoutModel",
          "state": {
            "_view_name": "LayoutView",
            "grid_template_rows": null,
            "right": null,
            "justify_content": null,
            "_view_module": "@jupyter-widgets/base",
            "overflow": null,
            "_model_module_version": "1.2.0",
            "_view_count": null,
            "flex_flow": null,
            "width": null,
            "min_width": null,
            "border": null,
            "align_items": null,
            "bottom": null,
            "_model_module": "@jupyter-widgets/base",
            "top": null,
            "grid_column": null,
            "overflow_y": null,
            "overflow_x": null,
            "grid_auto_flow": null,
            "grid_area": null,
            "grid_template_columns": null,
            "flex": null,
            "_model_name": "LayoutModel",
            "justify_items": null,
            "grid_row": null,
            "max_height": null,
            "align_content": null,
            "visibility": null,
            "align_self": null,
            "height": null,
            "min_height": null,
            "padding": null,
            "grid_auto_rows": null,
            "grid_gap": null,
            "max_width": null,
            "order": null,
            "_view_module_version": "1.2.0",
            "grid_template_areas": null,
            "object_position": null,
            "object_fit": null,
            "grid_auto_columns": null,
            "margin": null,
            "display": null,
            "left": null
          }
        },
        "26d77feca9ae425eab42b78e800092e8": {
          "model_module": "@jupyter-widgets/controls",
          "model_name": "DescriptionStyleModel",
          "state": {
            "_view_name": "StyleView",
            "_model_name": "DescriptionStyleModel",
            "description_width": "",
            "_view_module": "@jupyter-widgets/base",
            "_model_module_version": "1.5.0",
            "_view_count": null,
            "_view_module_version": "1.2.0",
            "_model_module": "@jupyter-widgets/controls"
          }
        },
        "d237322eeede4cedaac2feacbcc73036": {
          "model_module": "@jupyter-widgets/base",
          "model_name": "LayoutModel",
          "state": {
            "_view_name": "LayoutView",
            "grid_template_rows": null,
            "right": null,
            "justify_content": null,
            "_view_module": "@jupyter-widgets/base",
            "overflow": null,
            "_model_module_version": "1.2.0",
            "_view_count": null,
            "flex_flow": null,
            "width": null,
            "min_width": null,
            "border": null,
            "align_items": null,
            "bottom": null,
            "_model_module": "@jupyter-widgets/base",
            "top": null,
            "grid_column": null,
            "overflow_y": null,
            "overflow_x": null,
            "grid_auto_flow": null,
            "grid_area": null,
            "grid_template_columns": null,
            "flex": null,
            "_model_name": "LayoutModel",
            "justify_items": null,
            "grid_row": null,
            "max_height": null,
            "align_content": null,
            "visibility": null,
            "align_self": null,
            "height": null,
            "min_height": null,
            "padding": null,
            "grid_auto_rows": null,
            "grid_gap": null,
            "max_width": null,
            "order": null,
            "_view_module_version": "1.2.0",
            "grid_template_areas": null,
            "object_position": null,
            "object_fit": null,
            "grid_auto_columns": null,
            "margin": null,
            "display": null,
            "left": null
          }
        },
        "d5b66e1b50f94a87ac6f518dbb3e4996": {
          "model_module": "@jupyter-widgets/controls",
          "model_name": "HBoxModel",
          "state": {
            "_view_name": "HBoxView",
            "_dom_classes": [],
            "_model_name": "HBoxModel",
            "_view_module": "@jupyter-widgets/controls",
            "_model_module_version": "1.5.0",
            "_view_count": null,
            "_view_module_version": "1.5.0",
            "box_style": "",
            "layout": "IPY_MODEL_a3cd882238714e7b9d17d65847dba731",
            "_model_module": "@jupyter-widgets/controls",
            "children": [
              "IPY_MODEL_f6dc617bf8e3484b847cdabe34c86d17",
              "IPY_MODEL_a435874af2334b10b4f32acee57e0c40"
            ]
          }
        },
        "a3cd882238714e7b9d17d65847dba731": {
          "model_module": "@jupyter-widgets/base",
          "model_name": "LayoutModel",
          "state": {
            "_view_name": "LayoutView",
            "grid_template_rows": null,
            "right": null,
            "justify_content": null,
            "_view_module": "@jupyter-widgets/base",
            "overflow": null,
            "_model_module_version": "1.2.0",
            "_view_count": null,
            "flex_flow": null,
            "width": null,
            "min_width": null,
            "border": null,
            "align_items": null,
            "bottom": null,
            "_model_module": "@jupyter-widgets/base",
            "top": null,
            "grid_column": null,
            "overflow_y": null,
            "overflow_x": null,
            "grid_auto_flow": null,
            "grid_area": null,
            "grid_template_columns": null,
            "flex": null,
            "_model_name": "LayoutModel",
            "justify_items": null,
            "grid_row": null,
            "max_height": null,
            "align_content": null,
            "visibility": null,
            "align_self": null,
            "height": null,
            "min_height": null,
            "padding": null,
            "grid_auto_rows": null,
            "grid_gap": null,
            "max_width": null,
            "order": null,
            "_view_module_version": "1.2.0",
            "grid_template_areas": null,
            "object_position": null,
            "object_fit": null,
            "grid_auto_columns": null,
            "margin": null,
            "display": null,
            "left": null
          }
        },
        "f6dc617bf8e3484b847cdabe34c86d17": {
          "model_module": "@jupyter-widgets/controls",
          "model_name": "FloatProgressModel",
          "state": {
            "_view_name": "ProgressView",
            "style": "IPY_MODEL_0b796093b5184df1939118eb14a077da",
            "_dom_classes": [],
            "description": "100%",
            "_model_name": "FloatProgressModel",
            "bar_style": "success",
            "max": 10000,
            "_view_module": "@jupyter-widgets/controls",
            "_model_module_version": "1.5.0",
            "value": 10000,
            "_view_count": null,
            "_view_module_version": "1.5.0",
            "orientation": "horizontal",
            "min": 0,
            "description_tooltip": null,
            "_model_module": "@jupyter-widgets/controls",
            "layout": "IPY_MODEL_1403549e1be54eadb3e5563052bb063d"
          }
        },
        "a435874af2334b10b4f32acee57e0c40": {
          "model_module": "@jupyter-widgets/controls",
          "model_name": "HTMLModel",
          "state": {
            "_view_name": "HTMLView",
            "style": "IPY_MODEL_82935614b09344a384ad1d3719647fee",
            "_dom_classes": [],
            "description": "",
            "_model_name": "HTMLModel",
            "placeholder": "​",
            "_view_module": "@jupyter-widgets/controls",
            "_model_module_version": "1.5.0",
            "value": " 10000/10000 [01:12&lt;00:00, 137.11it/s]",
            "_view_count": null,
            "_view_module_version": "1.5.0",
            "description_tooltip": null,
            "_model_module": "@jupyter-widgets/controls",
            "layout": "IPY_MODEL_974c40dd295946718219f2e432b7a50c"
          }
        },
        "0b796093b5184df1939118eb14a077da": {
          "model_module": "@jupyter-widgets/controls",
          "model_name": "ProgressStyleModel",
          "state": {
            "_view_name": "StyleView",
            "_model_name": "ProgressStyleModel",
            "description_width": "initial",
            "_view_module": "@jupyter-widgets/base",
            "_model_module_version": "1.5.0",
            "_view_count": null,
            "_view_module_version": "1.2.0",
            "bar_color": null,
            "_model_module": "@jupyter-widgets/controls"
          }
        },
        "1403549e1be54eadb3e5563052bb063d": {
          "model_module": "@jupyter-widgets/base",
          "model_name": "LayoutModel",
          "state": {
            "_view_name": "LayoutView",
            "grid_template_rows": null,
            "right": null,
            "justify_content": null,
            "_view_module": "@jupyter-widgets/base",
            "overflow": null,
            "_model_module_version": "1.2.0",
            "_view_count": null,
            "flex_flow": null,
            "width": null,
            "min_width": null,
            "border": null,
            "align_items": null,
            "bottom": null,
            "_model_module": "@jupyter-widgets/base",
            "top": null,
            "grid_column": null,
            "overflow_y": null,
            "overflow_x": null,
            "grid_auto_flow": null,
            "grid_area": null,
            "grid_template_columns": null,
            "flex": null,
            "_model_name": "LayoutModel",
            "justify_items": null,
            "grid_row": null,
            "max_height": null,
            "align_content": null,
            "visibility": null,
            "align_self": null,
            "height": null,
            "min_height": null,
            "padding": null,
            "grid_auto_rows": null,
            "grid_gap": null,
            "max_width": null,
            "order": null,
            "_view_module_version": "1.2.0",
            "grid_template_areas": null,
            "object_position": null,
            "object_fit": null,
            "grid_auto_columns": null,
            "margin": null,
            "display": null,
            "left": null
          }
        },
        "82935614b09344a384ad1d3719647fee": {
          "model_module": "@jupyter-widgets/controls",
          "model_name": "DescriptionStyleModel",
          "state": {
            "_view_name": "StyleView",
            "_model_name": "DescriptionStyleModel",
            "description_width": "",
            "_view_module": "@jupyter-widgets/base",
            "_model_module_version": "1.5.0",
            "_view_count": null,
            "_view_module_version": "1.2.0",
            "_model_module": "@jupyter-widgets/controls"
          }
        },
        "974c40dd295946718219f2e432b7a50c": {
          "model_module": "@jupyter-widgets/base",
          "model_name": "LayoutModel",
          "state": {
            "_view_name": "LayoutView",
            "grid_template_rows": null,
            "right": null,
            "justify_content": null,
            "_view_module": "@jupyter-widgets/base",
            "overflow": null,
            "_model_module_version": "1.2.0",
            "_view_count": null,
            "flex_flow": null,
            "width": null,
            "min_width": null,
            "border": null,
            "align_items": null,
            "bottom": null,
            "_model_module": "@jupyter-widgets/base",
            "top": null,
            "grid_column": null,
            "overflow_y": null,
            "overflow_x": null,
            "grid_auto_flow": null,
            "grid_area": null,
            "grid_template_columns": null,
            "flex": null,
            "_model_name": "LayoutModel",
            "justify_items": null,
            "grid_row": null,
            "max_height": null,
            "align_content": null,
            "visibility": null,
            "align_self": null,
            "height": null,
            "min_height": null,
            "padding": null,
            "grid_auto_rows": null,
            "grid_gap": null,
            "max_width": null,
            "order": null,
            "_view_module_version": "1.2.0",
            "grid_template_areas": null,
            "object_position": null,
            "object_fit": null,
            "grid_auto_columns": null,
            "margin": null,
            "display": null,
            "left": null
          }
        },
        "b613791374484a24a2a777b79975b207": {
          "model_module": "@jupyter-widgets/controls",
          "model_name": "HBoxModel",
          "state": {
            "_view_name": "HBoxView",
            "_dom_classes": [],
            "_model_name": "HBoxModel",
            "_view_module": "@jupyter-widgets/controls",
            "_model_module_version": "1.5.0",
            "_view_count": null,
            "_view_module_version": "1.5.0",
            "box_style": "",
            "layout": "IPY_MODEL_3dd226a7bf8746c6a7eaa583b648ddba",
            "_model_module": "@jupyter-widgets/controls",
            "children": [
              "IPY_MODEL_c4a7d90135a8441cbdc4e516925bf747",
              "IPY_MODEL_418c2c15b2de4837907a0806ae73cdec"
            ]
          }
        },
        "3dd226a7bf8746c6a7eaa583b648ddba": {
          "model_module": "@jupyter-widgets/base",
          "model_name": "LayoutModel",
          "state": {
            "_view_name": "LayoutView",
            "grid_template_rows": null,
            "right": null,
            "justify_content": null,
            "_view_module": "@jupyter-widgets/base",
            "overflow": null,
            "_model_module_version": "1.2.0",
            "_view_count": null,
            "flex_flow": null,
            "width": null,
            "min_width": null,
            "border": null,
            "align_items": null,
            "bottom": null,
            "_model_module": "@jupyter-widgets/base",
            "top": null,
            "grid_column": null,
            "overflow_y": null,
            "overflow_x": null,
            "grid_auto_flow": null,
            "grid_area": null,
            "grid_template_columns": null,
            "flex": null,
            "_model_name": "LayoutModel",
            "justify_items": null,
            "grid_row": null,
            "max_height": null,
            "align_content": null,
            "visibility": null,
            "align_self": null,
            "height": null,
            "min_height": null,
            "padding": null,
            "grid_auto_rows": null,
            "grid_gap": null,
            "max_width": null,
            "order": null,
            "_view_module_version": "1.2.0",
            "grid_template_areas": null,
            "object_position": null,
            "object_fit": null,
            "grid_auto_columns": null,
            "margin": null,
            "display": null,
            "left": null
          }
        },
        "c4a7d90135a8441cbdc4e516925bf747": {
          "model_module": "@jupyter-widgets/controls",
          "model_name": "FloatProgressModel",
          "state": {
            "_view_name": "ProgressView",
            "style": "IPY_MODEL_962e82fada9943a0a21ccfd2a045873f",
            "_dom_classes": [],
            "description": "100%",
            "_model_name": "FloatProgressModel",
            "bar_style": "success",
            "max": 10000,
            "_view_module": "@jupyter-widgets/controls",
            "_model_module_version": "1.5.0",
            "value": 10000,
            "_view_count": null,
            "_view_module_version": "1.5.0",
            "orientation": "horizontal",
            "min": 0,
            "description_tooltip": null,
            "_model_module": "@jupyter-widgets/controls",
            "layout": "IPY_MODEL_8d68f9b5c60e4cdcbb7ddb502195f4a5"
          }
        },
        "418c2c15b2de4837907a0806ae73cdec": {
          "model_module": "@jupyter-widgets/controls",
          "model_name": "HTMLModel",
          "state": {
            "_view_name": "HTMLView",
            "style": "IPY_MODEL_10055be138684c468acdbcf8acb85d23",
            "_dom_classes": [],
            "description": "",
            "_model_name": "HTMLModel",
            "placeholder": "​",
            "_view_module": "@jupyter-widgets/controls",
            "_model_module_version": "1.5.0",
            "value": " 10000/10000 [01:13&lt;00:00, 136.03it/s]",
            "_view_count": null,
            "_view_module_version": "1.5.0",
            "description_tooltip": null,
            "_model_module": "@jupyter-widgets/controls",
            "layout": "IPY_MODEL_419d02eefb7d4441ae81725bac478456"
          }
        },
        "962e82fada9943a0a21ccfd2a045873f": {
          "model_module": "@jupyter-widgets/controls",
          "model_name": "ProgressStyleModel",
          "state": {
            "_view_name": "StyleView",
            "_model_name": "ProgressStyleModel",
            "description_width": "initial",
            "_view_module": "@jupyter-widgets/base",
            "_model_module_version": "1.5.0",
            "_view_count": null,
            "_view_module_version": "1.2.0",
            "bar_color": null,
            "_model_module": "@jupyter-widgets/controls"
          }
        },
        "8d68f9b5c60e4cdcbb7ddb502195f4a5": {
          "model_module": "@jupyter-widgets/base",
          "model_name": "LayoutModel",
          "state": {
            "_view_name": "LayoutView",
            "grid_template_rows": null,
            "right": null,
            "justify_content": null,
            "_view_module": "@jupyter-widgets/base",
            "overflow": null,
            "_model_module_version": "1.2.0",
            "_view_count": null,
            "flex_flow": null,
            "width": null,
            "min_width": null,
            "border": null,
            "align_items": null,
            "bottom": null,
            "_model_module": "@jupyter-widgets/base",
            "top": null,
            "grid_column": null,
            "overflow_y": null,
            "overflow_x": null,
            "grid_auto_flow": null,
            "grid_area": null,
            "grid_template_columns": null,
            "flex": null,
            "_model_name": "LayoutModel",
            "justify_items": null,
            "grid_row": null,
            "max_height": null,
            "align_content": null,
            "visibility": null,
            "align_self": null,
            "height": null,
            "min_height": null,
            "padding": null,
            "grid_auto_rows": null,
            "grid_gap": null,
            "max_width": null,
            "order": null,
            "_view_module_version": "1.2.0",
            "grid_template_areas": null,
            "object_position": null,
            "object_fit": null,
            "grid_auto_columns": null,
            "margin": null,
            "display": null,
            "left": null
          }
        },
        "10055be138684c468acdbcf8acb85d23": {
          "model_module": "@jupyter-widgets/controls",
          "model_name": "DescriptionStyleModel",
          "state": {
            "_view_name": "StyleView",
            "_model_name": "DescriptionStyleModel",
            "description_width": "",
            "_view_module": "@jupyter-widgets/base",
            "_model_module_version": "1.5.0",
            "_view_count": null,
            "_view_module_version": "1.2.0",
            "_model_module": "@jupyter-widgets/controls"
          }
        },
        "419d02eefb7d4441ae81725bac478456": {
          "model_module": "@jupyter-widgets/base",
          "model_name": "LayoutModel",
          "state": {
            "_view_name": "LayoutView",
            "grid_template_rows": null,
            "right": null,
            "justify_content": null,
            "_view_module": "@jupyter-widgets/base",
            "overflow": null,
            "_model_module_version": "1.2.0",
            "_view_count": null,
            "flex_flow": null,
            "width": null,
            "min_width": null,
            "border": null,
            "align_items": null,
            "bottom": null,
            "_model_module": "@jupyter-widgets/base",
            "top": null,
            "grid_column": null,
            "overflow_y": null,
            "overflow_x": null,
            "grid_auto_flow": null,
            "grid_area": null,
            "grid_template_columns": null,
            "flex": null,
            "_model_name": "LayoutModel",
            "justify_items": null,
            "grid_row": null,
            "max_height": null,
            "align_content": null,
            "visibility": null,
            "align_self": null,
            "height": null,
            "min_height": null,
            "padding": null,
            "grid_auto_rows": null,
            "grid_gap": null,
            "max_width": null,
            "order": null,
            "_view_module_version": "1.2.0",
            "grid_template_areas": null,
            "object_position": null,
            "object_fit": null,
            "grid_auto_columns": null,
            "margin": null,
            "display": null,
            "left": null
          }
        },
        "81ca548141604df78824986a77eac8f0": {
          "model_module": "@jupyter-widgets/controls",
          "model_name": "HBoxModel",
          "state": {
            "_view_name": "HBoxView",
            "_dom_classes": [],
            "_model_name": "HBoxModel",
            "_view_module": "@jupyter-widgets/controls",
            "_model_module_version": "1.5.0",
            "_view_count": null,
            "_view_module_version": "1.5.0",
            "box_style": "",
            "layout": "IPY_MODEL_638c5eca219e480abab223a32df92865",
            "_model_module": "@jupyter-widgets/controls",
            "children": [
              "IPY_MODEL_a3511b4e05034d8ea116861d767657bc",
              "IPY_MODEL_e1d30c761a0e4a5daf5443c01ed6a6c6"
            ]
          }
        },
        "638c5eca219e480abab223a32df92865": {
          "model_module": "@jupyter-widgets/base",
          "model_name": "LayoutModel",
          "state": {
            "_view_name": "LayoutView",
            "grid_template_rows": null,
            "right": null,
            "justify_content": null,
            "_view_module": "@jupyter-widgets/base",
            "overflow": null,
            "_model_module_version": "1.2.0",
            "_view_count": null,
            "flex_flow": null,
            "width": null,
            "min_width": null,
            "border": null,
            "align_items": null,
            "bottom": null,
            "_model_module": "@jupyter-widgets/base",
            "top": null,
            "grid_column": null,
            "overflow_y": null,
            "overflow_x": null,
            "grid_auto_flow": null,
            "grid_area": null,
            "grid_template_columns": null,
            "flex": null,
            "_model_name": "LayoutModel",
            "justify_items": null,
            "grid_row": null,
            "max_height": null,
            "align_content": null,
            "visibility": null,
            "align_self": null,
            "height": null,
            "min_height": null,
            "padding": null,
            "grid_auto_rows": null,
            "grid_gap": null,
            "max_width": null,
            "order": null,
            "_view_module_version": "1.2.0",
            "grid_template_areas": null,
            "object_position": null,
            "object_fit": null,
            "grid_auto_columns": null,
            "margin": null,
            "display": null,
            "left": null
          }
        },
        "a3511b4e05034d8ea116861d767657bc": {
          "model_module": "@jupyter-widgets/controls",
          "model_name": "FloatProgressModel",
          "state": {
            "_view_name": "ProgressView",
            "style": "IPY_MODEL_09dccf7074a0407da758e8ad6cbe9cf7",
            "_dom_classes": [],
            "description": "100%",
            "_model_name": "FloatProgressModel",
            "bar_style": "success",
            "max": 10000,
            "_view_module": "@jupyter-widgets/controls",
            "_model_module_version": "1.5.0",
            "value": 10000,
            "_view_count": null,
            "_view_module_version": "1.5.0",
            "orientation": "horizontal",
            "min": 0,
            "description_tooltip": null,
            "_model_module": "@jupyter-widgets/controls",
            "layout": "IPY_MODEL_6677d4c539fe4307aec592c68b9021f0"
          }
        },
        "e1d30c761a0e4a5daf5443c01ed6a6c6": {
          "model_module": "@jupyter-widgets/controls",
          "model_name": "HTMLModel",
          "state": {
            "_view_name": "HTMLView",
            "style": "IPY_MODEL_6a04b3b856dc4ff6b1c62ce039bc09c3",
            "_dom_classes": [],
            "description": "",
            "_model_name": "HTMLModel",
            "placeholder": "​",
            "_view_module": "@jupyter-widgets/controls",
            "_model_module_version": "1.5.0",
            "value": " 10000/10000 [01:14&lt;00:00, 134.48it/s]",
            "_view_count": null,
            "_view_module_version": "1.5.0",
            "description_tooltip": null,
            "_model_module": "@jupyter-widgets/controls",
            "layout": "IPY_MODEL_d55b333f1b5b423e977dcb0e00a1351e"
          }
        },
        "09dccf7074a0407da758e8ad6cbe9cf7": {
          "model_module": "@jupyter-widgets/controls",
          "model_name": "ProgressStyleModel",
          "state": {
            "_view_name": "StyleView",
            "_model_name": "ProgressStyleModel",
            "description_width": "initial",
            "_view_module": "@jupyter-widgets/base",
            "_model_module_version": "1.5.0",
            "_view_count": null,
            "_view_module_version": "1.2.0",
            "bar_color": null,
            "_model_module": "@jupyter-widgets/controls"
          }
        },
        "6677d4c539fe4307aec592c68b9021f0": {
          "model_module": "@jupyter-widgets/base",
          "model_name": "LayoutModel",
          "state": {
            "_view_name": "LayoutView",
            "grid_template_rows": null,
            "right": null,
            "justify_content": null,
            "_view_module": "@jupyter-widgets/base",
            "overflow": null,
            "_model_module_version": "1.2.0",
            "_view_count": null,
            "flex_flow": null,
            "width": null,
            "min_width": null,
            "border": null,
            "align_items": null,
            "bottom": null,
            "_model_module": "@jupyter-widgets/base",
            "top": null,
            "grid_column": null,
            "overflow_y": null,
            "overflow_x": null,
            "grid_auto_flow": null,
            "grid_area": null,
            "grid_template_columns": null,
            "flex": null,
            "_model_name": "LayoutModel",
            "justify_items": null,
            "grid_row": null,
            "max_height": null,
            "align_content": null,
            "visibility": null,
            "align_self": null,
            "height": null,
            "min_height": null,
            "padding": null,
            "grid_auto_rows": null,
            "grid_gap": null,
            "max_width": null,
            "order": null,
            "_view_module_version": "1.2.0",
            "grid_template_areas": null,
            "object_position": null,
            "object_fit": null,
            "grid_auto_columns": null,
            "margin": null,
            "display": null,
            "left": null
          }
        },
        "6a04b3b856dc4ff6b1c62ce039bc09c3": {
          "model_module": "@jupyter-widgets/controls",
          "model_name": "DescriptionStyleModel",
          "state": {
            "_view_name": "StyleView",
            "_model_name": "DescriptionStyleModel",
            "description_width": "",
            "_view_module": "@jupyter-widgets/base",
            "_model_module_version": "1.5.0",
            "_view_count": null,
            "_view_module_version": "1.2.0",
            "_model_module": "@jupyter-widgets/controls"
          }
        },
        "d55b333f1b5b423e977dcb0e00a1351e": {
          "model_module": "@jupyter-widgets/base",
          "model_name": "LayoutModel",
          "state": {
            "_view_name": "LayoutView",
            "grid_template_rows": null,
            "right": null,
            "justify_content": null,
            "_view_module": "@jupyter-widgets/base",
            "overflow": null,
            "_model_module_version": "1.2.0",
            "_view_count": null,
            "flex_flow": null,
            "width": null,
            "min_width": null,
            "border": null,
            "align_items": null,
            "bottom": null,
            "_model_module": "@jupyter-widgets/base",
            "top": null,
            "grid_column": null,
            "overflow_y": null,
            "overflow_x": null,
            "grid_auto_flow": null,
            "grid_area": null,
            "grid_template_columns": null,
            "flex": null,
            "_model_name": "LayoutModel",
            "justify_items": null,
            "grid_row": null,
            "max_height": null,
            "align_content": null,
            "visibility": null,
            "align_self": null,
            "height": null,
            "min_height": null,
            "padding": null,
            "grid_auto_rows": null,
            "grid_gap": null,
            "max_width": null,
            "order": null,
            "_view_module_version": "1.2.0",
            "grid_template_areas": null,
            "object_position": null,
            "object_fit": null,
            "grid_auto_columns": null,
            "margin": null,
            "display": null,
            "left": null
          }
        },
        "4a1c1fca560349ab83ecbe7ff5397bce": {
          "model_module": "@jupyter-widgets/controls",
          "model_name": "HBoxModel",
          "state": {
            "_view_name": "HBoxView",
            "_dom_classes": [],
            "_model_name": "HBoxModel",
            "_view_module": "@jupyter-widgets/controls",
            "_model_module_version": "1.5.0",
            "_view_count": null,
            "_view_module_version": "1.5.0",
            "box_style": "",
            "layout": "IPY_MODEL_df2a7992dd744f6f8486c09db7d8bd8f",
            "_model_module": "@jupyter-widgets/controls",
            "children": [
              "IPY_MODEL_0124b5879b50451f9e1b4d2a1895de7b",
              "IPY_MODEL_421f615a3c0c45c3ac1920a810d4c349"
            ]
          }
        },
        "df2a7992dd744f6f8486c09db7d8bd8f": {
          "model_module": "@jupyter-widgets/base",
          "model_name": "LayoutModel",
          "state": {
            "_view_name": "LayoutView",
            "grid_template_rows": null,
            "right": null,
            "justify_content": null,
            "_view_module": "@jupyter-widgets/base",
            "overflow": null,
            "_model_module_version": "1.2.0",
            "_view_count": null,
            "flex_flow": null,
            "width": null,
            "min_width": null,
            "border": null,
            "align_items": null,
            "bottom": null,
            "_model_module": "@jupyter-widgets/base",
            "top": null,
            "grid_column": null,
            "overflow_y": null,
            "overflow_x": null,
            "grid_auto_flow": null,
            "grid_area": null,
            "grid_template_columns": null,
            "flex": null,
            "_model_name": "LayoutModel",
            "justify_items": null,
            "grid_row": null,
            "max_height": null,
            "align_content": null,
            "visibility": null,
            "align_self": null,
            "height": null,
            "min_height": null,
            "padding": null,
            "grid_auto_rows": null,
            "grid_gap": null,
            "max_width": null,
            "order": null,
            "_view_module_version": "1.2.0",
            "grid_template_areas": null,
            "object_position": null,
            "object_fit": null,
            "grid_auto_columns": null,
            "margin": null,
            "display": null,
            "left": null
          }
        },
        "0124b5879b50451f9e1b4d2a1895de7b": {
          "model_module": "@jupyter-widgets/controls",
          "model_name": "FloatProgressModel",
          "state": {
            "_view_name": "ProgressView",
            "style": "IPY_MODEL_fe50b9f21d594310bd9eaef49cbd9f8a",
            "_dom_classes": [],
            "description": "100%",
            "_model_name": "FloatProgressModel",
            "bar_style": "success",
            "max": 10000,
            "_view_module": "@jupyter-widgets/controls",
            "_model_module_version": "1.5.0",
            "value": 10000,
            "_view_count": null,
            "_view_module_version": "1.5.0",
            "orientation": "horizontal",
            "min": 0,
            "description_tooltip": null,
            "_model_module": "@jupyter-widgets/controls",
            "layout": "IPY_MODEL_fbf0f2e4bfc7474db1310f35681bef04"
          }
        },
        "421f615a3c0c45c3ac1920a810d4c349": {
          "model_module": "@jupyter-widgets/controls",
          "model_name": "HTMLModel",
          "state": {
            "_view_name": "HTMLView",
            "style": "IPY_MODEL_5e636fc9039d4cee9cf681fa5d29c879",
            "_dom_classes": [],
            "description": "",
            "_model_name": "HTMLModel",
            "placeholder": "​",
            "_view_module": "@jupyter-widgets/controls",
            "_model_module_version": "1.5.0",
            "value": " 10000/10000 [01:14&lt;00:00, 134.81it/s]",
            "_view_count": null,
            "_view_module_version": "1.5.0",
            "description_tooltip": null,
            "_model_module": "@jupyter-widgets/controls",
            "layout": "IPY_MODEL_0ee266f54b024dd898b20c3f4ba3b77d"
          }
        },
        "fe50b9f21d594310bd9eaef49cbd9f8a": {
          "model_module": "@jupyter-widgets/controls",
          "model_name": "ProgressStyleModel",
          "state": {
            "_view_name": "StyleView",
            "_model_name": "ProgressStyleModel",
            "description_width": "initial",
            "_view_module": "@jupyter-widgets/base",
            "_model_module_version": "1.5.0",
            "_view_count": null,
            "_view_module_version": "1.2.0",
            "bar_color": null,
            "_model_module": "@jupyter-widgets/controls"
          }
        },
        "fbf0f2e4bfc7474db1310f35681bef04": {
          "model_module": "@jupyter-widgets/base",
          "model_name": "LayoutModel",
          "state": {
            "_view_name": "LayoutView",
            "grid_template_rows": null,
            "right": null,
            "justify_content": null,
            "_view_module": "@jupyter-widgets/base",
            "overflow": null,
            "_model_module_version": "1.2.0",
            "_view_count": null,
            "flex_flow": null,
            "width": null,
            "min_width": null,
            "border": null,
            "align_items": null,
            "bottom": null,
            "_model_module": "@jupyter-widgets/base",
            "top": null,
            "grid_column": null,
            "overflow_y": null,
            "overflow_x": null,
            "grid_auto_flow": null,
            "grid_area": null,
            "grid_template_columns": null,
            "flex": null,
            "_model_name": "LayoutModel",
            "justify_items": null,
            "grid_row": null,
            "max_height": null,
            "align_content": null,
            "visibility": null,
            "align_self": null,
            "height": null,
            "min_height": null,
            "padding": null,
            "grid_auto_rows": null,
            "grid_gap": null,
            "max_width": null,
            "order": null,
            "_view_module_version": "1.2.0",
            "grid_template_areas": null,
            "object_position": null,
            "object_fit": null,
            "grid_auto_columns": null,
            "margin": null,
            "display": null,
            "left": null
          }
        },
        "5e636fc9039d4cee9cf681fa5d29c879": {
          "model_module": "@jupyter-widgets/controls",
          "model_name": "DescriptionStyleModel",
          "state": {
            "_view_name": "StyleView",
            "_model_name": "DescriptionStyleModel",
            "description_width": "",
            "_view_module": "@jupyter-widgets/base",
            "_model_module_version": "1.5.0",
            "_view_count": null,
            "_view_module_version": "1.2.0",
            "_model_module": "@jupyter-widgets/controls"
          }
        },
        "0ee266f54b024dd898b20c3f4ba3b77d": {
          "model_module": "@jupyter-widgets/base",
          "model_name": "LayoutModel",
          "state": {
            "_view_name": "LayoutView",
            "grid_template_rows": null,
            "right": null,
            "justify_content": null,
            "_view_module": "@jupyter-widgets/base",
            "overflow": null,
            "_model_module_version": "1.2.0",
            "_view_count": null,
            "flex_flow": null,
            "width": null,
            "min_width": null,
            "border": null,
            "align_items": null,
            "bottom": null,
            "_model_module": "@jupyter-widgets/base",
            "top": null,
            "grid_column": null,
            "overflow_y": null,
            "overflow_x": null,
            "grid_auto_flow": null,
            "grid_area": null,
            "grid_template_columns": null,
            "flex": null,
            "_model_name": "LayoutModel",
            "justify_items": null,
            "grid_row": null,
            "max_height": null,
            "align_content": null,
            "visibility": null,
            "align_self": null,
            "height": null,
            "min_height": null,
            "padding": null,
            "grid_auto_rows": null,
            "grid_gap": null,
            "max_width": null,
            "order": null,
            "_view_module_version": "1.2.0",
            "grid_template_areas": null,
            "object_position": null,
            "object_fit": null,
            "grid_auto_columns": null,
            "margin": null,
            "display": null,
            "left": null
          }
        }
      }
    }
  },
  "cells": [
    {
      "cell_type": "markdown",
      "metadata": {
        "id": "fqKI3PvQqk-x"
      },
      "source": [
        " ---"
      ]
    },
    {
      "cell_type": "markdown",
      "metadata": {
        "id": "0Q6NgIGBmvQH"
      },
      "source": [
        "In this notebook, we will learn how to write our own convolutional neural networks on the PyTorch framework, and test their work on the MNIST and CIFAR10 datasets.\n",
        "\n",
        "** ATTENTION: ** Considered *** task of image classification ***.\n",
        "\n",
        "(It is assumed that the reader is already familiar with a multilayer neural network.)\n",
        "\n",
        "*** Convolutional Neural Network (CNN) *** is a multilayer neural network that has in its architecture, in addition to * fully connected layers * (and sometimes they may not exist), ** Conv Layers ** and ** pooling-layers (Pool Layers) **.\n",
        "\n",
        "Actually, these networks got this name because their operation is based on the ** convolution ** operation.\n",
        "\n",
        "\n",
        "It should be said right away that convolutional neural networks ** were invented primarily for tasks related to pictures **, therefore, they also \"expect\" a picture at the input.\n",
        "\n",
        "Let's consider their device in more detail:\n",
        "\n",
        "* This is what a shallow convolutional neural network looks like with the following architecture:\n",
        "ʻInput -> Conv 5x5 -> Pool 2x2 -> Conv 5x5 -> Pool 2x2 -> FC -> Output`\n",
        "\n",
        "<Img src = \"https://camo.githubusercontent.com/269e3903f62eb2c4d13ac4c9ab979510010f8968/68747470733a2f2f7261772e6769746875622e636f6d2f746176677265656e2f6c616e647573655f636c617373696669636174696f6e2f6d61737465722f66696c652f636e6e2e706e673f7261773d74727565\" width = 800, height = 600>\n",
        "\n",
        "Convolutional neural networks (ordinary, there are also much more advanced ones) are almost always built according to the following rule:\n",
        "\n",
        "ʻINPUT -> [[CONV -> RELU] * N -> POOL?] * M -> [FC -> RELU] * K -> FC`\n",
        "\n",
        "i.e:\n",
        "\n",
        "1). *** Input layer *** (batch images `HxWxC`)\n",
        "\n",
        "2). $ M $ blocks (M $ \\ ge $ 0) from convolutions and poolings, and in exactly the same order as in the formula above. All these $ M $ blocks together are called the *** feature extractor *** of the convolutional neural network, because this part of the network is directly responsible for the formation of new, more complex features on top of those that are supplied (that is, by analogy with MLP, we again we move on to a new feature space, but here it is built more difficult than in conventional multilayer networks, since the convolution operation is used)\n",
        "\n",
        "3). $ K $ pieces of FullyConnected layers (with activations). This part of the $ K $ FC layers is called *** classificator ***, since these layers are directly responsible for predicting the class needs (now we are considering the problem of image classification)."
      ]
    },
    {
      "cell_type": "markdown",
      "metadata": {
        "id": "RUh08RELmvQI"
      },
      "source": [
        "<h3 style = \"text-align: center;\"> <b> Convolutional neural network on PyTorch </b> </h3>\n",
        "\n",
        "Let us recall the main components of a neural network once again:\n",
        "\n",
        "- directly, the ** architecture ** of the neural network itself (this includes the types of activation functions for each neuron);\n",
        "- initial ** initialization ** of the weights of each layer;\n",
        "- method ** optimization ** of a neural network (this also includes a method for changing the `learning_rate`);\n",
        "- size of ** batches ** (`batch_size`);\n",
        "- the number of training iterations (`num_epochs`);\n",
        "- ** loss function ** (`loss`);\n",
        "- type of ** regularization ** of a neural network (you can have your own for each layer);\n",
        "\n",
        "Something related to *** data and task ***:\n",
        "- the very ** quality ** of the sample (consistency, purity, correctness of the problem statement);\n",
        "- ** sample size **;\n",
        "\n",
        "Since we are now considering ** the CNN architecture **, in addition to these components, the following things can be configured in the convolutional neural network:\n",
        "\n",
        "- (in each ConvLayer) ** filter size (fold window) ** (`kernel_size`)\n",
        "- (in each ConvLayer) ** number of filters ** (ʻout_channels`)\n",
        "- (in each ConvLayer) ** stride size (stride) ** (`stride`)\n",
        "- (in each ConvLayer) ** padding type ** (`padding`)\n",
        "\n",
        "\n",
        "- (in each PoolLayer) ** pooling window size ** (`kernel_size`)\n",
        "- (in each PoolLayer) ** pooling window step ** (`stride`)\n",
        "- (in each PoolLayer) ** pooling type ** (`pool_type`)\n",
        "- (in each PoolLayer) ** padding type ** (`padding`)"
      ]
    },
    {
      "cell_type": "markdown",
      "metadata": {
        "id": "aPy6-6kpmvQK"
      },
      "source": [
        "What they are usually taken will be shown in the example below. At least you can start with these settings to understand what quality \"out of the box\" a simple model will have."
      ]
    },
    {
      "cell_type": "markdown",
      "metadata": {
        "id": "arl2FqAfmvQL"
      },
      "source": [
        "Let's see how CNN works on MNIST and CIFAR."
      ]
    },
    {
      "cell_type": "code",
      "metadata": {
        "id": "O1tqZNdWmvQN"
      },
      "source": [
        "import torch\n",
        "import torchvision\n",
        "from torchvision import transforms\n",
        "from torchsummary import summary\n",
        "import keras\n",
        "from torch.utils.data import DataLoader,Dataset\n",
        "from PIL import Image\n",
        "\n",
        "import numpy as np\n",
        "import matplotlib.pyplot as plt  # для отрисовки картиночек\n",
        "%matplotlib inline"
      ],
      "execution_count": 179,
      "outputs": []
    },
    {
      "cell_type": "markdown",
      "metadata": {
        "id": "ly4hPj7DmvQM"
      },
      "source": [
        "<img src=\"http://present5.com/presentation/20143288_415358496/image-8.jpg\" width=500, height=400>"
      ]
    },
    {
      "cell_type": "markdown",
      "metadata": {
        "id": "94s_K_pAmvQN"
      },
      "source": [
        "** MNIST: ** This is a set of 70k pictures of handwritten numbers from 0 to 9 written by humans, 60k of which are a training dataset (`train` dataset)), and another 10k are allocated for model testing (` test` dataset)."
      ]
    },
    {
      "cell_type": "markdown",
      "metadata": {
        "id": "kXXOvRS1mvQS"
      },
      "source": [
        "Download and upload to the loader:"
      ]
    },
    {
      "cell_type": "markdown",
      "metadata": {
        "id": "jmCjo8CjmvQT"
      },
      "source": [
        "** Pay attention to the `batch_size` argument: ** it will be responsible for the size of the batch that will be supplied when optimizing the neural network"
      ]
    },
    {
      "cell_type": "code",
      "metadata": {
        "id": "nrKAgwCWmnpB"
      },
      "source": [
        "from keras.datasets import mnist\n",
        "(x_train, y_train), (x_test, y_test) = mnist.load_data()"
      ],
      "execution_count": 180,
      "outputs": []
    },
    {
      "cell_type": "code",
      "metadata": {
        "colab": {
          "base_uri": "https://localhost:8080/",
          "height": 283
        },
        "id": "x_GWbjl2mnpC",
        "outputId": "27126b57-e44e-4f33-fc44-5469dafc9e40"
      },
      "source": [
        "plt.imshow(x_train[0], cmap='gray')"
      ],
      "execution_count": 181,
      "outputs": [
        {
          "output_type": "execute_result",
          "data": {
            "text/plain": [
              "<matplotlib.image.AxesImage at 0x7f0d243a2c50>"
            ]
          },
          "metadata": {
            "tags": []
          },
          "execution_count": 181
        },
        {
          "output_type": "display_data",
          "data": {
            "image/png": "[encoded data removed]",
            "text/plain": [
              "<Figure size 432x288 with 1 Axes>"
            ]
          },
          "metadata": {
            "tags": [],
            "needs_background": "light"
          }
        }
      ]
    },
    {
      "cell_type": "markdown",
      "metadata": {
        "id": "mqtRMMqwmvQa"
      },
      "source": [
        "Сами данные лежат в полях `trainloader.dataset.train_data` и `testloader.dataset.test_data`:"
      ]
    },
    {
      "cell_type": "code",
      "metadata": {
        "colab": {
          "base_uri": "https://localhost:8080/"
        },
        "id": "NxnQI-7FmvQc",
        "scrolled": true,
        "outputId": "550f4f40-1395-4624-dc1e-ee9a936e6389"
      },
      "source": [
        "x_train.shape"
      ],
      "execution_count": 182,
      "outputs": [
        {
          "output_type": "execute_result",
          "data": {
            "text/plain": [
              "(60000, 28, 28)"
            ]
          },
          "metadata": {
            "tags": []
          },
          "execution_count": 182
        }
      ]
    },
    {
      "cell_type": "code",
      "metadata": {
        "colab": {
          "base_uri": "https://localhost:8080/"
        },
        "id": "-rt0UBALmvQf",
        "scrolled": true,
        "outputId": "3335573b-c83a-4147-c5a8-9b9fb9d70c5d"
      },
      "source": [
        "x_test.shape"
      ],
      "execution_count": 183,
      "outputs": [
        {
          "output_type": "execute_result",
          "data": {
            "text/plain": [
              "(10000, 28, 28)"
            ]
          },
          "metadata": {
            "tags": []
          },
          "execution_count": 183
        }
      ]
    },
    {
      "cell_type": "markdown",
      "metadata": {
        "id": "aj4QmKwDmvQk"
      },
      "source": [
        "Display the first image:"
      ]
    },
    {
      "cell_type": "code",
      "metadata": {
        "colab": {
          "base_uri": "https://localhost:8080/"
        },
        "id": "nBAKbazhmvQm",
        "scrolled": true,
        "outputId": "6f8fa9e7-a1da-48ab-ccaf-644f33d66e3f"
      },
      "source": [
        "x_train[0]"
      ],
      "execution_count": 184,
      "outputs": [
        {
          "output_type": "execute_result",
          "data": {
            "text/plain": [
              "array([[  0,   0,   0,   0,   0,   0,   0,   0,   0,   0,   0,   0,   0,\n",
              "          0,   0,   0,   0,   0,   0,   0,   0,   0,   0,   0,   0,   0,\n",
              "          0,   0],\n",
              "       [  0,   0,   0,   0,   0,   0,   0,   0,   0,   0,   0,   0,   0,\n",
              "          0,   0,   0,   0,   0,   0,   0,   0,   0,   0,   0,   0,   0,\n",
              "          0,   0],\n",
              "       [  0,   0,   0,   0,   0,   0,   0,   0,   0,   0,   0,   0,   0,\n",
              "          0,   0,   0,   0,   0,   0,   0,   0,   0,   0,   0,   0,   0,\n",
              "          0,   0],\n",
              "       [  0,   0,   0,   0,   0,   0,   0,   0,   0,   0,   0,   0,   0,\n",
              "          0,   0,   0,   0,   0,   0,   0,   0,   0,   0,   0,   0,   0,\n",
              "          0,   0],\n",
              "       [  0,   0,   0,   0,   0,   0,   0,   0,   0,   0,   0,   0,   0,\n",
              "          0,   0,   0,   0,   0,   0,   0,   0,   0,   0,   0,   0,   0,\n",
              "          0,   0],\n",
              "       [  0,   0,   0,   0,   0,   0,   0,   0,   0,   0,   0,   0,   3,\n",
              "         18,  18,  18, 126, 136, 175,  26, 166, 255, 247, 127,   0,   0,\n",
              "          0,   0],\n",
              "       [  0,   0,   0,   0,   0,   0,   0,   0,  30,  36,  94, 154, 170,\n",
              "        253, 253, 253, 253, 253, 225, 172, 253, 242, 195,  64,   0,   0,\n",
              "          0,   0],\n",
              "       [  0,   0,   0,   0,   0,   0,   0,  49, 238, 253, 253, 253, 253,\n",
              "        253, 253, 253, 253, 251,  93,  82,  82,  56,  39,   0,   0,   0,\n",
              "          0,   0],\n",
              "       [  0,   0,   0,   0,   0,   0,   0,  18, 219, 253, 253, 253, 253,\n",
              "        253, 198, 182, 247, 241,   0,   0,   0,   0,   0,   0,   0,   0,\n",
              "          0,   0],\n",
              "       [  0,   0,   0,   0,   0,   0,   0,   0,  80, 156, 107, 253, 253,\n",
              "        205,  11,   0,  43, 154,   0,   0,   0,   0,   0,   0,   0,   0,\n",
              "          0,   0],\n",
              "       [  0,   0,   0,   0,   0,   0,   0,   0,   0,  14,   1, 154, 253,\n",
              "         90,   0,   0,   0,   0,   0,   0,   0,   0,   0,   0,   0,   0,\n",
              "          0,   0],\n",
              "       [  0,   0,   0,   0,   0,   0,   0,   0,   0,   0,   0, 139, 253,\n",
              "        190,   2,   0,   0,   0,   0,   0,   0,   0,   0,   0,   0,   0,\n",
              "          0,   0],\n",
              "       [  0,   0,   0,   0,   0,   0,   0,   0,   0,   0,   0,  11, 190,\n",
              "        253,  70,   0,   0,   0,   0,   0,   0,   0,   0,   0,   0,   0,\n",
              "          0,   0],\n",
              "       [  0,   0,   0,   0,   0,   0,   0,   0,   0,   0,   0,   0,  35,\n",
              "        241, 225, 160, 108,   1,   0,   0,   0,   0,   0,   0,   0,   0,\n",
              "          0,   0],\n",
              "       [  0,   0,   0,   0,   0,   0,   0,   0,   0,   0,   0,   0,   0,\n",
              "         81, 240, 253, 253, 119,  25,   0,   0,   0,   0,   0,   0,   0,\n",
              "          0,   0],\n",
              "       [  0,   0,   0,   0,   0,   0,   0,   0,   0,   0,   0,   0,   0,\n",
              "          0,  45, 186, 253, 253, 150,  27,   0,   0,   0,   0,   0,   0,\n",
              "          0,   0],\n",
              "       [  0,   0,   0,   0,   0,   0,   0,   0,   0,   0,   0,   0,   0,\n",
              "          0,   0,  16,  93, 252, 253, 187,   0,   0,   0,   0,   0,   0,\n",
              "          0,   0],\n",
              "       [  0,   0,   0,   0,   0,   0,   0,   0,   0,   0,   0,   0,   0,\n",
              "          0,   0,   0,   0, 249, 253, 249,  64,   0,   0,   0,   0,   0,\n",
              "          0,   0],\n",
              "       [  0,   0,   0,   0,   0,   0,   0,   0,   0,   0,   0,   0,   0,\n",
              "          0,  46, 130, 183, 253, 253, 207,   2,   0,   0,   0,   0,   0,\n",
              "          0,   0],\n",
              "       [  0,   0,   0,   0,   0,   0,   0,   0,   0,   0,   0,   0,  39,\n",
              "        148, 229, 253, 253, 253, 250, 182,   0,   0,   0,   0,   0,   0,\n",
              "          0,   0],\n",
              "       [  0,   0,   0,   0,   0,   0,   0,   0,   0,   0,  24, 114, 221,\n",
              "        253, 253, 253, 253, 201,  78,   0,   0,   0,   0,   0,   0,   0,\n",
              "          0,   0],\n",
              "       [  0,   0,   0,   0,   0,   0,   0,   0,  23,  66, 213, 253, 253,\n",
              "        253, 253, 198,  81,   2,   0,   0,   0,   0,   0,   0,   0,   0,\n",
              "          0,   0],\n",
              "       [  0,   0,   0,   0,   0,   0,  18, 171, 219, 253, 253, 253, 253,\n",
              "        195,  80,   9,   0,   0,   0,   0,   0,   0,   0,   0,   0,   0,\n",
              "          0,   0],\n",
              "       [  0,   0,   0,   0,  55, 172, 226, 253, 253, 253, 253, 244, 133,\n",
              "         11,   0,   0,   0,   0,   0,   0,   0,   0,   0,   0,   0,   0,\n",
              "          0,   0],\n",
              "       [  0,   0,   0,   0, 136, 253, 253, 253, 212, 135, 132,  16,   0,\n",
              "          0,   0,   0,   0,   0,   0,   0,   0,   0,   0,   0,   0,   0,\n",
              "          0,   0],\n",
              "       [  0,   0,   0,   0,   0,   0,   0,   0,   0,   0,   0,   0,   0,\n",
              "          0,   0,   0,   0,   0,   0,   0,   0,   0,   0,   0,   0,   0,\n",
              "          0,   0],\n",
              "       [  0,   0,   0,   0,   0,   0,   0,   0,   0,   0,   0,   0,   0,\n",
              "          0,   0,   0,   0,   0,   0,   0,   0,   0,   0,   0,   0,   0,\n",
              "          0,   0],\n",
              "       [  0,   0,   0,   0,   0,   0,   0,   0,   0,   0,   0,   0,   0,\n",
              "          0,   0,   0,   0,   0,   0,   0,   0,   0,   0,   0,   0,   0,\n",
              "          0,   0]], dtype=uint8)"
            ]
          },
          "metadata": {
            "tags": []
          },
          "execution_count": 184
        }
      ]
    },
    {
      "cell_type": "markdown",
      "metadata": {
        "id": "OW3JZteDmvQ7"
      },
      "source": [
        "Отрисовка заданной цифры:"
      ]
    },
    {
      "cell_type": "code",
      "metadata": {
        "id": "ca47VqZWmnpJ"
      },
      "source": [
        "class MyDataset(Dataset):\n",
        "    def __init__(self, data, targets, transform=None):\n",
        "        self.data = data\n",
        "        self.targets = torch.LongTensor(targets)\n",
        "        self.transform = transform\n",
        "\n",
        "    def __getitem__(self, index):\n",
        "        x = self.data[index]\n",
        "        y = self.targets[index]\n",
        "\n",
        "        if self.transform:\n",
        "            x = Image.fromarray(self.data[index].astype(np.uint8))\n",
        "            x = self.transform(x)\n",
        "\n",
        "        return x, y\n",
        "\n",
        "    def __len__(self):\n",
        "        return len(self.data)"
      ],
      "execution_count": 185,
      "outputs": []
    },
    {
      "cell_type": "code",
      "metadata": {
        "id": "jaANh5qGmnpK"
      },
      "source": [
        "transform = transforms.Compose([transforms.ToTensor()])\n",
        "dataset = MyDataset(x_train,y_train, transform=transform)\n",
        "trainloader = DataLoader(dataset, batch_size=5)\n",
        "\n",
        "testset = MyDataset(x_test,y_test, transform=transform)\n",
        "testloader = DataLoader(dataset, batch_size=5)"
      ],
      "execution_count": 191,
      "outputs": []
    },
    {
      "cell_type": "markdown",
      "metadata": {
        "id": "e9DOvlk1mvRB"
      },
      "source": [
        "Как итерироваться по данным с помощью `loader'`а? Очень просто:"
      ]
    },
    {
      "cell_type": "code",
      "metadata": {
        "colab": {
          "base_uri": "https://localhost:8080/"
        },
        "id": "V73spLIAmvRD",
        "scrolled": true,
        "outputId": "01e298b2-ae02-47a1-82b8-ccda761d17b0"
      },
      "source": [
        "for data in trainloader:\n",
        "    print(data)\n",
        "    break"
      ],
      "execution_count": 187,
      "outputs": [
        {
          "output_type": "stream",
          "text": [
            "[tensor([[[[0., 0., 0.,  ..., 0., 0., 0.],\n",
            "          [0., 0., 0.,  ..., 0., 0., 0.],\n",
            "          [0., 0., 0.,  ..., 0., 0., 0.],\n",
            "          ...,\n",
            "          [0., 0., 0.,  ..., 0., 0., 0.],\n",
            "          [0., 0., 0.,  ..., 0., 0., 0.],\n",
            "          [0., 0., 0.,  ..., 0., 0., 0.]]],\n",
            "\n",
            "\n",
            "        [[[0., 0., 0.,  ..., 0., 0., 0.],\n",
            "          [0., 0., 0.,  ..., 0., 0., 0.],\n",
            "          [0., 0., 0.,  ..., 0., 0., 0.],\n",
            "          ...,\n",
            "          [0., 0., 0.,  ..., 0., 0., 0.],\n",
            "          [0., 0., 0.,  ..., 0., 0., 0.],\n",
            "          [0., 0., 0.,  ..., 0., 0., 0.]]],\n",
            "\n",
            "\n",
            "        [[[0., 0., 0.,  ..., 0., 0., 0.],\n",
            "          [0., 0., 0.,  ..., 0., 0., 0.],\n",
            "          [0., 0., 0.,  ..., 0., 0., 0.],\n",
            "          ...,\n",
            "          [0., 0., 0.,  ..., 0., 0., 0.],\n",
            "          [0., 0., 0.,  ..., 0., 0., 0.],\n",
            "          [0., 0., 0.,  ..., 0., 0., 0.]]],\n",
            "\n",
            "\n",
            "        [[[0., 0., 0.,  ..., 0., 0., 0.],\n",
            "          [0., 0., 0.,  ..., 0., 0., 0.],\n",
            "          [0., 0., 0.,  ..., 0., 0., 0.],\n",
            "          ...,\n",
            "          [0., 0., 0.,  ..., 0., 0., 0.],\n",
            "          [0., 0., 0.,  ..., 0., 0., 0.],\n",
            "          [0., 0., 0.,  ..., 0., 0., 0.]]],\n",
            "\n",
            "\n",
            "        [[[0., 0., 0.,  ..., 0., 0., 0.],\n",
            "          [0., 0., 0.,  ..., 0., 0., 0.],\n",
            "          [0., 0., 0.,  ..., 0., 0., 0.],\n",
            "          ...,\n",
            "          [0., 0., 0.,  ..., 0., 0., 0.],\n",
            "          [0., 0., 0.,  ..., 0., 0., 0.],\n",
            "          [0., 0., 0.,  ..., 0., 0., 0.]]]]), tensor([5, 0, 4, 1, 9])]\n"
          ],
          "name": "stdout"
        }
      ]
    },
    {
      "cell_type": "markdown",
      "metadata": {
        "id": "5gLVfQsLmvRI"
      },
      "source": [
        "То есть мы имеем дело с кусочками данных размера batch_size (в данном случае = 4), причём в каждом батче есть как объекты, так и ответы на них (то есть и $X$, и $y$)."
      ]
    },
    {
      "cell_type": "markdown",
      "metadata": {
        "id": "sftGrFWvmvRK"
      },
      "source": [
        "Теперь вернёмся к тому, что в PyTorch есть две \"парадигмы\" построения нейросетей -- `Functional` и `Seuquential`. Со второй мы уже хорошенько разобрались в предыдущих ноутбуках по нейросетям, теперь мы испольузем именно `Functional` парадигму, потому что при построении свёрточных сетей это намного удобнее:"
      ]
    },
    {
      "cell_type": "code",
      "metadata": {
        "id": "JjaimqEhmvRM"
      },
      "source": [
        "import torch.nn as nn\n",
        "import torch.nn.functional as F  # Functional"
      ],
      "execution_count": 188,
      "outputs": []
    },
    {
      "cell_type": "code",
      "metadata": {
        "id": "JOY8j76OmvRP"
      },
      "source": [
        "# ЗАМЕТЬТЕ: КЛАСС НАСЛЕДУЕТСЯ ОТ nn.Module\n",
        "class SimpleConvNet(nn.Module):\n",
        "    def __init__(self):\n",
        "        # вызов конструктора предка\n",
        "        super(SimpleConvNet, self).__init__()\n",
        "        # необходмо заранее знать, сколько каналов у картинки (сейчас = 1),\n",
        "        # которую будем подавать в сеть, больше ничего\n",
        "        # про входящие картинки знать не нужно\n",
        "        self.conv1 = nn.Conv2d(in_channels=1, out_channels=6, kernel_size=5)\n",
        "        self.pool = nn.MaxPool2d(kernel_size=2, stride=2)\n",
        "        self.conv2 = nn.Conv2d(in_channels=6, out_channels=16, kernel_size=5)\n",
        "        self.fc1 = nn.Linear(4 * 4 * 16, 120)  # !!!\n",
        "        self.fc2 = nn.Linear(120, 84)\n",
        "        self.fc3 = nn.Linear(84, 10)\n",
        "\n",
        "    def forward(self, x):\n",
        "        x = self.pool(F.relu(self.conv1(x)))\n",
        "        x = self.pool(F.relu(self.conv2(x)))\n",
        "        #print(x.shape)\n",
        "        x = x.view(-1, 4 * 4 * 16)  # !!!\n",
        "        x = F.relu(self.fc1(x))\n",
        "        x = F.relu(self.fc2(x))\n",
        "        x = self.fc3(x)\n",
        "        return x"
      ],
      "execution_count": 194,
      "outputs": []
    },
    {
      "cell_type": "code",
      "metadata": {
        "colab": {
          "base_uri": "https://localhost:8080/"
        },
        "id": "ZdouPjeK_0c1",
        "outputId": "1b527359-ecb7-4638-c274-fb89d6335c54"
      },
      "source": [
        "# device = \"cuda\" if torch.cuda.is_available() else \"cpu\"\n",
        "\n",
        "net = SimpleConvNet()#.to(device)\n",
        "\n",
        "batch = []\n",
        "\n",
        "\n",
        "\n",
        "batch = next(iter(trainloader))\n",
        "\n",
        "net.forward(torch.FloatTensor(batch[0]))"
      ],
      "execution_count": 195,
      "outputs": [
        {
          "output_type": "execute_result",
          "data": {
            "text/plain": [
              "tensor([[ 0.1040, -0.0646, -0.0874, -0.0675,  0.0572,  0.0249,  0.0704, -0.0052,\n",
              "          0.0876,  0.0445],\n",
              "        [ 0.1135, -0.0686, -0.0819, -0.0680,  0.0587,  0.0277,  0.0695, -0.0024,\n",
              "          0.0939,  0.0403],\n",
              "        [ 0.1074, -0.0668, -0.0907, -0.0647,  0.0558,  0.0241,  0.0654, -0.0103,\n",
              "          0.0831,  0.0425],\n",
              "        [ 0.1002, -0.0704, -0.0839, -0.0609,  0.0528,  0.0203,  0.0707, -0.0108,\n",
              "          0.0789,  0.0530],\n",
              "        [ 0.1079, -0.0640, -0.0898, -0.0650,  0.0575,  0.0232,  0.0692, -0.0062,\n",
              "          0.0792,  0.0467]], grad_fn=<AddmmBackward>)"
            ]
          },
          "metadata": {
            "tags": []
          },
          "execution_count": 195
        }
      ]
    },
    {
      "cell_type": "code",
      "metadata": {
        "colab": {
          "base_uri": "https://localhost:8080/"
        },
        "id": "cexJWAPumnpP",
        "outputId": "fc242d1a-cc98-4838-82a2-8e49d9f628d9"
      },
      "source": [
        "summary(net.cuda(), (1,28, 28))"
      ],
      "execution_count": 196,
      "outputs": [
        {
          "output_type": "stream",
          "text": [
            "----------------------------------------------------------------\n",
            "        Layer (type)               Output Shape         Param #\n",
            "================================================================\n",
            "            Conv2d-1            [-1, 6, 24, 24]             156\n",
            "         MaxPool2d-2            [-1, 6, 12, 12]               0\n",
            "            Conv2d-3             [-1, 16, 8, 8]           2,416\n",
            "         MaxPool2d-4             [-1, 16, 4, 4]               0\n",
            "            Linear-5                  [-1, 120]          30,840\n",
            "            Linear-6                   [-1, 84]          10,164\n",
            "            Linear-7                   [-1, 10]             850\n",
            "================================================================\n",
            "Total params: 44,426\n",
            "Trainable params: 44,426\n",
            "Non-trainable params: 0\n",
            "----------------------------------------------------------------\n",
            "Input size (MB): 0.00\n",
            "Forward/backward pass size (MB): 0.04\n",
            "Params size (MB): 0.17\n",
            "Estimated Total Size (MB): 0.22\n",
            "----------------------------------------------------------------\n"
          ],
          "name": "stdout"
        }
      ]
    },
    {
      "cell_type": "markdown",
      "metadata": {
        "id": "RDc3BlhPmvRR"
      },
      "source": [
        "**Важное примечание:** Вы можете заметить, что в строчках с `#!!!` есть не очень понятный сходу 4 `*` 4 `*` 16. Это -- размерность картинки перед FC-слоями (H x W x C), тут её приходиться высчитывать вручную (в Keras, например, `.Flatten()` всё делает за Вас). Однако есть один *лайфхак* -- просто сделайте в `forward()` `print(x.shape)` (закомментированная строка). Вы увидите размер `(batch_size, C, H, W)` -- нужно перемножить все, кроме первого (batch_size), это и будет первая размерность `Linear()`, и именно в C * H * W нужно \"развернуть\" x перед подачей в `Linear()`.  \n",
        "\n",
        "То есть нужно будет запустить цикл с обучением первый раз с `print()` и сделать после него `break`, посчитать размер, вписать его в нужные места и стереть `print()` и `break`."
      ]
    },
    {
      "cell_type": "markdown",
      "metadata": {
        "id": "tyg446camvRS"
      },
      "source": [
        "Код обучения слоя:"
      ]
    },
    {
      "cell_type": "code",
      "metadata": {
        "id": "BtBorLrrmvRT"
      },
      "source": [
        "from tqdm import tqdm_notebook"
      ],
      "execution_count": 197,
      "outputs": []
    },
    {
      "cell_type": "code",
      "metadata": {
        "id": "LEiQSIKNG2xb"
      },
      "source": [
        "# объявляем сеть\n",
        "net = SimpleConvNet()"
      ],
      "execution_count": 198,
      "outputs": []
    },
    {
      "cell_type": "code",
      "metadata": {
        "id": "uwZ7GqreD4hU"
      },
      "source": [
        "# выбираем функцию потерь\n",
        "loss_fn = torch.nn.CrossEntropyLoss()\n",
        "\n",
        "# выбираем алгоритм оптимизации и learning_rate\n",
        "learning_rate = 1e-4\n",
        "optimizer = torch.optim.Adam(net.parameters(), lr=learning_rate)\n",
        "losses = []"
      ],
      "execution_count": 199,
      "outputs": []
    },
    {
      "cell_type": "code",
      "metadata": {
        "colab": {
          "base_uri": "https://localhost:8080/",
          "height": 136,
          "referenced_widgets": [
            "e31788b64e2d4c429bee13a12359f9a2",
            "5b4a47b2984646aa96ebf96b85152faf",
            "450f8279458c4917882cf3781be09cb3",
            "ba60414b434545419ef7efed9fc11904",
            "65a6b73e6ced4c449cd3f820c323cdb8",
            "8ab48385a50a47569784777d16c254c2",
            "1809542e081d42d590c114300c724a01",
            "43773548d62a49da8bdabceaaab93f1b"
          ]
        },
        "id": "g7xHXCy2uGzH",
        "outputId": "d1d46d07-6a15-4be7-fbdb-0f1ce0bdd7b5"
      },
      "source": [
        "cnt = 0\n",
        "temp = 0\n",
        "for i, batch in enumerate(tqdm_notebook(trainloader)):\n",
        "        # так получаем текущий батч\n",
        "        X_batch, y_batch = batch\n",
        "        cnt = i\n",
        "        if i % 2000 == 1999:\n",
        "            temp += 1 \n",
        "cnt,temp"
      ],
      "execution_count": 200,
      "outputs": [
        {
          "output_type": "stream",
          "text": [
            "/usr/local/lib/python3.7/dist-packages/ipykernel_launcher.py:3: TqdmDeprecationWarning: This function will be removed in tqdm==5.0.0\n",
            "Please use `tqdm.notebook.tqdm` instead of `tqdm.tqdm_notebook`\n",
            "  This is separate from the ipykernel package so we can avoid doing imports until\n"
          ],
          "name": "stderr"
        },
        {
          "output_type": "display_data",
          "data": {
            "application/vnd.jupyter.widget-view+json": {
              "model_id": "e31788b64e2d4c429bee13a12359f9a2",
              "version_minor": 0,
              "version_major": 2
            },
            "text/plain": [
              "HBox(children=(FloatProgress(value=0.0, max=12000.0), HTML(value='')))"
            ]
          },
          "metadata": {
            "tags": []
          }
        },
        {
          "output_type": "stream",
          "text": [
            "\n"
          ],
          "name": "stdout"
        },
        {
          "output_type": "execute_result",
          "data": {
            "text/plain": [
              "(11999, 6)"
            ]
          },
          "metadata": {
            "tags": []
          },
          "execution_count": 200
        }
      ]
    },
    {
      "cell_type": "code",
      "metadata": {
        "colab": {
          "base_uri": "https://localhost:8080/",
          "height": 1000
        },
        "id": "ja5vFAvWmvRY",
        "scrolled": true,
        "outputId": "2fefb444-7c4f-460d-8ef9-9d46afd7cacc"
      },
      "source": [
        "from tqdm import tqdm\n",
        "# итерируемся\n",
        "for epoch in tqdm(range(2)):\n",
        "\n",
        "    running_loss = 0.0\n",
        "    for i, batch in enumerate(tqdm(trainloader)):\n",
        "        # так получаем текущий батч\n",
        "        X_batch, y_batch = batch\n",
        "        \n",
        "        # обнуляем веса\n",
        "        optimizer.zero_grad()\n",
        "\n",
        "        # forward + backward + optimize\n",
        "        y_pred = net(X_batch)\n",
        "        loss = loss_fn(y_pred, y_batch)\n",
        "        loss.backward()\n",
        "        optimizer.step()\n",
        "\n",
        "        # выведем текущий loss\n",
        "        running_loss += loss.item()\n",
        "        # выведем качество каждые 2000 батчей\n",
        "        if i % 2000 == 1999:\n",
        "            print('[%d, %5d] loss: %.3f' %\n",
        "                  (epoch + 1, i + 1, running_loss / 2000))\n",
        "            losses.append(running_loss)\n",
        "            running_loss = 0.0\n",
        "\n",
        "    plt.figure(figsize=(10,7))\n",
        "    plt.plot(np.arange(len(losses)), losses)\n",
        "    plt.show()\n",
        "\n",
        "print('Обучение закончено')"
      ],
      "execution_count": null,
      "outputs": [
        {
          "output_type": "stream",
          "text": [
            "  0%|          | 0/2 [00:00<?, ?it/s]\n",
            "  0%|          | 0/12000 [00:00<?, ?it/s]\u001b[A\n",
            "  0%|          | 29/12000 [00:00<00:41, 285.94it/s]\u001b[A\n",
            "  0%|          | 56/12000 [00:00<00:42, 279.88it/s]\u001b[A\n",
            "  1%|          | 84/12000 [00:00<00:42, 279.70it/s]\u001b[A\n",
            "  1%|          | 113/12000 [00:00<00:42, 280.41it/s]\u001b[A\n",
            "  1%|          | 142/12000 [00:00<00:42, 281.67it/s]\u001b[A\n",
            "  1%|▏         | 168/12000 [00:00<00:43, 274.50it/s]\u001b[A\n",
            "  2%|▏         | 196/12000 [00:00<00:43, 273.46it/s]\u001b[A\n",
            "  2%|▏         | 224/12000 [00:00<00:43, 273.69it/s]\u001b[A\n",
            "  2%|▏         | 253/12000 [00:00<00:42, 277.14it/s]\u001b[A\n",
            "  2%|▏         | 281/12000 [00:01<00:42, 275.58it/s]\u001b[A\n",
            "  3%|▎         | 310/12000 [00:01<00:42, 278.12it/s]\u001b[A\n",
            "  3%|▎         | 338/12000 [00:01<00:42, 275.54it/s]\u001b[A\n",
            "  3%|▎         | 368/12000 [00:01<00:41, 281.86it/s]\u001b[A\n",
            "  3%|▎         | 397/12000 [00:01<00:40, 283.80it/s]\u001b[A\n",
            "  4%|▎         | 427/12000 [00:01<00:40, 285.89it/s]\u001b[A\n",
            "  4%|▍         | 456/12000 [00:01<00:40, 286.65it/s]\u001b[A\n",
            "  4%|▍         | 486/12000 [00:01<00:39, 288.60it/s]\u001b[A\n",
            "  4%|▍         | 516/12000 [00:01<00:39, 289.61it/s]\u001b[A\n",
            "  5%|▍         | 545/12000 [00:01<00:39, 287.83it/s]\u001b[A\n",
            "  5%|▍         | 574/12000 [00:02<00:40, 284.70it/s]\u001b[A\n",
            "  5%|▌         | 603/12000 [00:02<00:39, 285.46it/s]\u001b[A\n",
            "  5%|▌         | 632/12000 [00:02<00:40, 282.18it/s]\u001b[A\n",
            "  6%|▌         | 661/12000 [00:02<00:40, 282.10it/s]\u001b[A\n",
            "  6%|▌         | 691/12000 [00:02<00:39, 285.68it/s]\u001b[A\n",
            "  6%|▌         | 721/12000 [00:02<00:39, 287.98it/s]\u001b[A\n",
            "  6%|▋         | 750/12000 [00:02<00:40, 279.74it/s]\u001b[A\n",
            "  6%|▋         | 779/12000 [00:02<00:40, 279.63it/s]\u001b[A\n",
            "  7%|▋         | 808/12000 [00:02<00:40, 279.21it/s]\u001b[A\n",
            "  7%|▋         | 836/12000 [00:02<00:41, 269.16it/s]\u001b[A\n",
            "  7%|▋         | 864/12000 [00:03<00:40, 271.64it/s]\u001b[A\n",
            "  7%|▋         | 892/12000 [00:03<00:41, 268.34it/s]\u001b[A\n",
            "  8%|▊         | 919/12000 [00:03<00:41, 268.24it/s]\u001b[A\n",
            "  8%|▊         | 947/12000 [00:03<00:40, 270.92it/s]\u001b[A\n",
            "  8%|▊         | 975/12000 [00:03<00:40, 271.60it/s]\u001b[A\n",
            "  8%|▊         | 1003/12000 [00:03<00:40, 271.78it/s]\u001b[A\n",
            "  9%|▊         | 1031/12000 [00:03<00:40, 272.69it/s]\u001b[A\n",
            "  9%|▉         | 1059/12000 [00:03<00:40, 273.07it/s]\u001b[A\n",
            "  9%|▉         | 1087/12000 [00:03<00:40, 271.19it/s]\u001b[A\n",
            "  9%|▉         | 1115/12000 [00:04<00:40, 268.31it/s]\u001b[A\n",
            " 10%|▉         | 1142/12000 [00:04<00:40, 268.47it/s]\u001b[A\n",
            " 10%|▉         | 1169/12000 [00:04<00:41, 263.51it/s]\u001b[A\n",
            " 10%|▉         | 1196/12000 [00:04<00:40, 265.21it/s]\u001b[A\n",
            " 10%|█         | 1224/12000 [00:04<00:40, 267.78it/s]\u001b[A\n",
            " 10%|█         | 1252/12000 [00:04<00:39, 270.32it/s]\u001b[A\n",
            " 11%|█         | 1280/12000 [00:04<00:39, 269.48it/s]\u001b[A\n",
            " 11%|█         | 1308/12000 [00:04<00:39, 271.99it/s]\u001b[A\n",
            " 11%|█         | 1336/12000 [00:04<00:38, 274.09it/s]\u001b[A\n",
            " 11%|█▏        | 1364/12000 [00:04<00:39, 270.41it/s]\u001b[A\n",
            " 12%|█▏        | 1392/12000 [00:05<00:39, 271.67it/s]\u001b[A\n",
            " 12%|█▏        | 1420/12000 [00:05<00:38, 273.65it/s]\u001b[A\n",
            " 12%|█▏        | 1448/12000 [00:05<00:39, 270.37it/s]\u001b[A\n",
            " 12%|█▏        | 1476/12000 [00:05<00:39, 269.28it/s]\u001b[A\n",
            " 13%|█▎        | 1503/12000 [00:05<00:39, 269.15it/s]\u001b[A\n",
            " 13%|█▎        | 1531/12000 [00:05<00:38, 270.47it/s]\u001b[A\n",
            " 13%|█▎        | 1559/12000 [00:05<00:38, 270.97it/s]\u001b[A\n",
            " 13%|█▎        | 1587/12000 [00:05<00:38, 271.66it/s]\u001b[A\n",
            " 13%|█▎        | 1615/12000 [00:05<00:38, 272.85it/s]\u001b[A\n",
            " 14%|█▎        | 1644/12000 [00:05<00:37, 275.01it/s]\u001b[A\n",
            " 14%|█▍        | 1672/12000 [00:06<00:37, 274.52it/s]\u001b[A\n",
            " 14%|█▍        | 1700/12000 [00:06<00:37, 271.33it/s]\u001b[A\n",
            " 14%|█▍        | 1728/12000 [00:06<00:38, 266.71it/s]\u001b[A\n",
            " 15%|█▍        | 1756/12000 [00:06<00:38, 268.06it/s]\u001b[A\n",
            " 15%|█▍        | 1783/12000 [00:06<00:38, 265.80it/s]\u001b[A\n",
            " 15%|█▌        | 1810/12000 [00:06<00:38, 264.95it/s]\u001b[A\n",
            " 15%|█▌        | 1838/12000 [00:06<00:37, 267.88it/s]\u001b[A\n",
            " 16%|█▌        | 1865/12000 [00:06<00:37, 267.76it/s]\u001b[A\n",
            " 16%|█▌        | 1893/12000 [00:06<00:37, 268.96it/s]\u001b[A\n",
            " 16%|█▌        | 1920/12000 [00:07<00:38, 261.78it/s]\u001b[A\n",
            " 16%|█▌        | 1947/12000 [00:07<00:38, 260.65it/s]\u001b[A\n",
            " 16%|█▋        | 1974/12000 [00:07<00:38, 262.82it/s]\u001b[A\n",
            " 17%|█▋        | 2001/12000 [00:07<00:38, 259.11it/s]\u001b[A\n",
            " 17%|█▋        | 2029/12000 [00:07<00:37, 263.11it/s]\u001b[A"
          ],
          "name": "stderr"
        },
        {
          "output_type": "stream",
          "text": [
            "[1,  2000] loss: 0.885\n"
          ],
          "name": "stdout"
        },
        {
          "output_type": "stream",
          "text": [
            "\n",
            " 17%|█▋        | 2056/12000 [00:07<00:38, 258.15it/s]\u001b[A\n",
            " 17%|█▋        | 2084/12000 [00:07<00:37, 261.89it/s]\u001b[A\n",
            " 18%|█▊        | 2112/12000 [00:07<00:37, 266.63it/s]\u001b[A\n",
            " 18%|█▊        | 2140/12000 [00:07<00:36, 269.37it/s]\u001b[A\n",
            " 18%|█▊        | 2168/12000 [00:07<00:36, 270.14it/s]\u001b[A\n",
            " 18%|█▊        | 2196/12000 [00:08<00:36, 269.62it/s]\u001b[A\n",
            " 19%|█▊        | 2224/12000 [00:08<00:36, 270.10it/s]\u001b[A\n",
            " 19%|█▉        | 2252/12000 [00:08<00:36, 267.65it/s]\u001b[A\n",
            " 19%|█▉        | 2279/12000 [00:08<00:36, 262.97it/s]\u001b[A\n",
            " 19%|█▉        | 2307/12000 [00:08<00:36, 265.18it/s]\u001b[A\n",
            " 19%|█▉        | 2334/12000 [00:08<00:36, 264.43it/s]\u001b[A\n",
            " 20%|█▉        | 2362/12000 [00:08<00:36, 266.67it/s]\u001b[A\n",
            " 20%|█▉        | 2390/12000 [00:08<00:35, 267.97it/s]\u001b[A\n",
            " 20%|██        | 2417/12000 [00:08<00:36, 265.66it/s]\u001b[A\n",
            " 20%|██        | 2445/12000 [00:08<00:35, 267.96it/s]\u001b[A\n",
            " 21%|██        | 2473/12000 [00:09<00:35, 269.47it/s]\u001b[A\n",
            " 21%|██        | 2500/12000 [00:09<00:35, 264.09it/s]\u001b[A\n",
            " 21%|██        | 2527/12000 [00:09<00:36, 261.05it/s]\u001b[A\n",
            " 21%|██▏       | 2555/12000 [00:09<00:35, 265.05it/s]\u001b[A\n",
            " 22%|██▏       | 2583/12000 [00:09<00:35, 266.64it/s]\u001b[A\n",
            " 22%|██▏       | 2610/12000 [00:09<00:35, 267.37it/s]\u001b[A\n",
            " 22%|██▏       | 2638/12000 [00:09<00:34, 269.40it/s]\u001b[A\n",
            " 22%|██▏       | 2665/12000 [00:09<00:35, 264.45it/s]\u001b[A\n",
            " 22%|██▏       | 2692/12000 [00:09<00:35, 260.19it/s]\u001b[A\n",
            " 23%|██▎       | 2719/12000 [00:10<00:35, 260.54it/s]\u001b[A\n",
            " 23%|██▎       | 2747/12000 [00:10<00:34, 264.40it/s]\u001b[A\n",
            " 23%|██▎       | 2774/12000 [00:10<00:35, 257.44it/s]\u001b[A\n",
            " 23%|██▎       | 2800/12000 [00:10<00:36, 254.20it/s]\u001b[A\n",
            " 24%|██▎       | 2827/12000 [00:10<00:35, 258.08it/s]\u001b[A\n",
            " 24%|██▍       | 2855/12000 [00:10<00:34, 263.50it/s]\u001b[A\n",
            " 24%|██▍       | 2882/12000 [00:10<00:34, 264.75it/s]\u001b[A\n",
            " 24%|██▍       | 2910/12000 [00:10<00:33, 267.98it/s]\u001b[A\n",
            " 24%|██▍       | 2939/12000 [00:10<00:33, 271.44it/s]\u001b[A\n",
            " 25%|██▍       | 2967/12000 [00:10<00:33, 269.92it/s]\u001b[A\n",
            " 25%|██▍       | 2995/12000 [00:11<00:33, 271.41it/s]\u001b[A\n",
            " 25%|██▌       | 3023/12000 [00:11<00:32, 272.35it/s]\u001b[A\n",
            " 25%|██▌       | 3051/12000 [00:11<00:33, 270.20it/s]\u001b[A\n",
            " 26%|██▌       | 3079/12000 [00:11<00:33, 266.80it/s]\u001b[A\n",
            " 26%|██▌       | 3107/12000 [00:11<00:33, 269.28it/s]\u001b[A\n",
            " 26%|██▌       | 3135/12000 [00:11<00:32, 271.15it/s]\u001b[A\n",
            " 26%|██▋       | 3163/12000 [00:11<00:33, 264.84it/s]\u001b[A\n",
            " 27%|██▋       | 3191/12000 [00:11<00:32, 267.21it/s]\u001b[A\n",
            " 27%|██▋       | 3219/12000 [00:11<00:32, 270.28it/s]\u001b[A\n",
            " 27%|██▋       | 3247/12000 [00:11<00:32, 271.73it/s]\u001b[A\n",
            " 27%|██▋       | 3275/12000 [00:12<00:32, 269.62it/s]\u001b[A\n",
            " 28%|██▊       | 3303/12000 [00:12<00:32, 270.21it/s]\u001b[A\n",
            " 28%|██▊       | 3331/12000 [00:12<00:31, 271.49it/s]\u001b[A\n",
            " 28%|██▊       | 3359/12000 [00:12<00:32, 262.90it/s]\u001b[A\n",
            " 28%|██▊       | 3387/12000 [00:12<00:32, 265.51it/s]\u001b[A\n",
            " 28%|██▊       | 3415/12000 [00:12<00:31, 268.93it/s]\u001b[A\n",
            " 29%|██▊       | 3443/12000 [00:12<00:31, 271.33it/s]\u001b[A\n",
            " 29%|██▉       | 3471/12000 [00:12<00:31, 272.17it/s]\u001b[A\n",
            " 29%|██▉       | 3499/12000 [00:12<00:31, 265.86it/s]\u001b[A\n",
            " 29%|██▉       | 3527/12000 [00:13<00:31, 268.68it/s]\u001b[A\n",
            " 30%|██▉       | 3555/12000 [00:13<00:31, 270.72it/s]\u001b[A\n",
            " 30%|██▉       | 3583/12000 [00:13<00:31, 269.36it/s]\u001b[A\n",
            " 30%|███       | 3610/12000 [00:13<00:31, 269.34it/s]\u001b[A\n",
            " 30%|███       | 3637/12000 [00:13<00:32, 255.53it/s]\u001b[A\n",
            " 31%|███       | 3664/12000 [00:13<00:32, 257.63it/s]\u001b[A\n",
            " 31%|███       | 3690/12000 [00:13<00:32, 257.45it/s]\u001b[A\n",
            " 31%|███       | 3718/12000 [00:13<00:31, 261.38it/s]\u001b[A\n",
            " 31%|███       | 3746/12000 [00:13<00:31, 264.51it/s]\u001b[A\n",
            " 31%|███▏      | 3773/12000 [00:13<00:31, 265.04it/s]\u001b[A\n",
            " 32%|███▏      | 3800/12000 [00:14<00:30, 266.42it/s]\u001b[A\n",
            " 32%|███▏      | 3827/12000 [00:14<00:30, 267.23it/s]\u001b[A\n",
            " 32%|███▏      | 3854/12000 [00:14<00:30, 263.28it/s]\u001b[A\n",
            " 32%|███▏      | 3881/12000 [00:14<00:31, 258.18it/s]\u001b[A\n",
            " 33%|███▎      | 3908/12000 [00:14<00:30, 261.49it/s]\u001b[A\n",
            " 33%|███▎      | 3935/12000 [00:14<00:30, 261.94it/s]\u001b[A\n",
            " 33%|███▎      | 3963/12000 [00:14<00:30, 265.30it/s]\u001b[A\n",
            " 33%|███▎      | 3991/12000 [00:14<00:29, 267.92it/s]\u001b[A\n",
            " 33%|███▎      | 4019/12000 [00:14<00:29, 269.32it/s]\u001b[A\n",
            " 34%|███▎      | 4046/12000 [00:15<00:30, 262.05it/s]\u001b[A"
          ],
          "name": "stderr"
        },
        {
          "output_type": "stream",
          "text": [
            "[1,  4000] loss: 0.322\n"
          ],
          "name": "stdout"
        },
        {
          "output_type": "stream",
          "text": [
            "\n",
            " 34%|███▍      | 4073/12000 [00:15<00:30, 262.65it/s]\u001b[A\n",
            " 34%|███▍      | 4100/12000 [00:15<00:30, 262.57it/s]\u001b[A\n",
            " 34%|███▍      | 4127/12000 [00:15<00:30, 261.21it/s]\u001b[A\n",
            " 35%|███▍      | 4154/12000 [00:15<00:30, 254.89it/s]\u001b[A\n",
            " 35%|███▍      | 4182/12000 [00:15<00:30, 259.65it/s]\u001b[A\n",
            " 35%|███▌      | 4210/12000 [00:15<00:29, 263.37it/s]\u001b[A\n",
            " 35%|███▌      | 4238/12000 [00:15<00:29, 266.11it/s]\u001b[A\n",
            " 36%|███▌      | 4266/12000 [00:15<00:28, 268.01it/s]\u001b[A\n",
            " 36%|███▌      | 4293/12000 [00:15<00:28, 266.22it/s]\u001b[A\n",
            " 36%|███▌      | 4321/12000 [00:16<00:28, 268.12it/s]\u001b[A\n",
            " 36%|███▌      | 4348/12000 [00:16<00:28, 268.58it/s]\u001b[A\n",
            " 36%|███▋      | 4376/12000 [00:16<00:28, 269.45it/s]\u001b[A\n",
            " 37%|███▋      | 4405/12000 [00:16<00:27, 273.41it/s]\u001b[A\n",
            " 37%|███▋      | 4433/12000 [00:16<00:28, 270.02it/s]\u001b[A\n",
            " 37%|███▋      | 4461/12000 [00:16<00:27, 271.35it/s]\u001b[A\n",
            " 37%|███▋      | 4490/12000 [00:16<00:27, 274.90it/s]\u001b[A\n",
            " 38%|███▊      | 4518/12000 [00:16<00:27, 276.37it/s]\u001b[A\n",
            " 38%|███▊      | 4546/12000 [00:16<00:27, 274.11it/s]\u001b[A\n",
            " 38%|███▊      | 4574/12000 [00:16<00:27, 274.53it/s]\u001b[A\n",
            " 38%|███▊      | 4602/12000 [00:17<00:26, 274.30it/s]\u001b[A\n",
            " 39%|███▊      | 4630/12000 [00:17<00:26, 273.78it/s]\u001b[A\n",
            " 39%|███▉      | 4658/12000 [00:17<00:27, 271.01it/s]\u001b[A\n",
            " 39%|███▉      | 4686/12000 [00:17<00:26, 272.03it/s]\u001b[A\n",
            " 39%|███▉      | 4714/12000 [00:17<00:27, 266.52it/s]\u001b[A\n",
            " 40%|███▉      | 4741/12000 [00:17<00:27, 267.51it/s]\u001b[A\n",
            " 40%|███▉      | 4768/12000 [00:17<00:27, 263.23it/s]\u001b[A\n",
            " 40%|███▉      | 4796/12000 [00:17<00:27, 265.44it/s]\u001b[A\n",
            " 40%|████      | 4823/12000 [00:17<00:27, 261.48it/s]\u001b[A\n",
            " 40%|████      | 4850/12000 [00:18<00:27, 263.71it/s]\u001b[A\n",
            " 41%|████      | 4878/12000 [00:18<00:26, 267.69it/s]\u001b[A\n",
            " 41%|████      | 4905/12000 [00:18<00:26, 266.90it/s]\u001b[A\n",
            " 41%|████      | 4933/12000 [00:18<00:26, 269.89it/s]\u001b[A\n",
            " 41%|████▏     | 4961/12000 [00:18<00:25, 272.18it/s]\u001b[A\n",
            " 42%|████▏     | 4989/12000 [00:18<00:26, 266.86it/s]\u001b[A\n",
            " 42%|████▏     | 5017/12000 [00:18<00:26, 268.52it/s]\u001b[A\n",
            " 42%|████▏     | 5045/12000 [00:18<00:25, 271.00it/s]\u001b[A\n",
            " 42%|████▏     | 5073/12000 [00:18<00:25, 270.19it/s]\u001b[A\n",
            " 43%|████▎     | 5101/12000 [00:18<00:25, 272.31it/s]\u001b[A\n",
            " 43%|████▎     | 5130/12000 [00:19<00:25, 274.73it/s]\u001b[A\n",
            " 43%|████▎     | 5158/12000 [00:19<00:25, 273.39it/s]\u001b[A\n",
            " 43%|████▎     | 5187/12000 [00:19<00:24, 275.93it/s]\u001b[A\n",
            " 43%|████▎     | 5215/12000 [00:19<00:24, 273.83it/s]\u001b[A\n",
            " 44%|████▎     | 5243/12000 [00:19<00:25, 270.07it/s]\u001b[A\n",
            " 44%|████▍     | 5271/12000 [00:19<00:25, 268.47it/s]\u001b[A\n",
            " 44%|████▍     | 5300/12000 [00:19<00:24, 272.28it/s]\u001b[A\n",
            " 44%|████▍     | 5328/12000 [00:19<00:24, 268.41it/s]\u001b[A\n",
            " 45%|████▍     | 5356/12000 [00:19<00:24, 269.73it/s]\u001b[A\n",
            " 45%|████▍     | 5384/12000 [00:19<00:24, 271.97it/s]\u001b[A\n",
            " 45%|████▌     | 5412/12000 [00:20<00:24, 273.03it/s]\u001b[A\n",
            " 45%|████▌     | 5440/12000 [00:20<00:24, 272.86it/s]\u001b[A\n",
            " 46%|████▌     | 5468/12000 [00:20<00:24, 265.44it/s]\u001b[A\n",
            " 46%|████▌     | 5495/12000 [00:20<00:24, 263.92it/s]\u001b[A\n",
            " 46%|████▌     | 5522/12000 [00:20<00:25, 252.54it/s]\u001b[A\n",
            " 46%|████▌     | 5548/12000 [00:20<00:25, 254.72it/s]\u001b[A\n",
            " 46%|████▋     | 5576/12000 [00:20<00:24, 260.17it/s]\u001b[A\n",
            " 47%|████▋     | 5604/12000 [00:20<00:24, 264.47it/s]\u001b[A\n",
            " 47%|████▋     | 5631/12000 [00:20<00:23, 265.65it/s]\u001b[A\n",
            " 47%|████▋     | 5659/12000 [00:21<00:23, 269.71it/s]\u001b[A\n",
            " 47%|████▋     | 5687/12000 [00:21<00:23, 272.59it/s]\u001b[A\n",
            " 48%|████▊     | 5715/12000 [00:21<00:23, 270.73it/s]\u001b[A\n",
            " 48%|████▊     | 5743/12000 [00:21<00:23, 270.45it/s]\u001b[A\n",
            " 48%|████▊     | 5771/12000 [00:21<00:22, 271.23it/s]\u001b[A\n",
            " 48%|████▊     | 5799/12000 [00:21<00:23, 266.24it/s]\u001b[A\n",
            " 49%|████▊     | 5826/12000 [00:21<00:23, 258.73it/s]\u001b[A\n",
            " 49%|████▉     | 5854/12000 [00:21<00:23, 262.68it/s]\u001b[A\n",
            " 49%|████▉     | 5881/12000 [00:21<00:23, 264.39it/s]\u001b[A\n",
            " 49%|████▉     | 5909/12000 [00:21<00:22, 267.40it/s]\u001b[A\n",
            " 49%|████▉     | 5936/12000 [00:22<00:23, 258.40it/s]\u001b[A\n",
            " 50%|████▉     | 5964/12000 [00:22<00:23, 262.04it/s]\u001b[A\n",
            " 50%|████▉     | 5992/12000 [00:22<00:22, 264.94it/s]\u001b[A\n",
            " 50%|█████     | 6019/12000 [00:22<00:22, 260.90it/s]\u001b[A\n",
            " 50%|█████     | 6046/12000 [00:22<00:22, 263.07it/s]\u001b[A"
          ],
          "name": "stderr"
        },
        {
          "output_type": "stream",
          "text": [
            "[1,  6000] loss: 0.252\n"
          ],
          "name": "stdout"
        },
        {
          "output_type": "stream",
          "text": [
            "\n",
            " 51%|█████     | 6073/12000 [00:22<00:22, 258.66it/s]\u001b[A\n",
            " 51%|█████     | 6100/12000 [00:22<00:22, 261.16it/s]\u001b[A\n",
            " 51%|█████     | 6127/12000 [00:22<00:22, 261.21it/s]\u001b[A\n",
            " 51%|█████▏    | 6155/12000 [00:22<00:22, 265.10it/s]\u001b[A\n",
            " 52%|█████▏    | 6183/12000 [00:22<00:21, 268.63it/s]\u001b[A\n",
            " 52%|█████▏    | 6210/12000 [00:23<00:21, 263.54it/s]\u001b[A\n",
            " 52%|█████▏    | 6237/12000 [00:23<00:21, 264.17it/s]\u001b[A\n",
            " 52%|█████▏    | 6265/12000 [00:23<00:21, 266.38it/s]\u001b[A\n",
            " 52%|█████▏    | 6292/12000 [00:23<00:21, 266.78it/s]\u001b[A\n",
            " 53%|█████▎    | 6320/12000 [00:23<00:21, 269.30it/s]\u001b[A\n",
            " 53%|█████▎    | 6347/12000 [00:23<00:21, 265.75it/s]\u001b[A\n",
            " 53%|█████▎    | 6375/12000 [00:23<00:20, 268.24it/s]\u001b[A\n",
            " 53%|█████▎    | 6403/12000 [00:23<00:20, 271.48it/s]\u001b[A\n",
            " 54%|█████▎    | 6431/12000 [00:23<00:20, 273.53it/s]\u001b[A\n",
            " 54%|█████▍    | 6459/12000 [00:24<00:20, 272.00it/s]\u001b[A\n",
            " 54%|█████▍    | 6487/12000 [00:24<00:20, 273.13it/s]\u001b[A\n",
            " 54%|█████▍    | 6515/12000 [00:24<00:20, 271.72it/s]\u001b[A\n",
            " 55%|█████▍    | 6543/12000 [00:24<00:20, 267.42it/s]\u001b[A\n",
            " 55%|█████▍    | 6570/12000 [00:24<00:20, 266.42it/s]\u001b[A\n",
            " 55%|█████▍    | 6598/12000 [00:24<00:20, 269.98it/s]\u001b[A\n",
            " 55%|█████▌    | 6626/12000 [00:24<00:20, 266.11it/s]\u001b[A\n",
            " 55%|█████▌    | 6654/12000 [00:24<00:19, 269.55it/s]\u001b[A\n",
            " 56%|█████▌    | 6683/12000 [00:24<00:19, 273.26it/s]\u001b[A\n",
            " 56%|█████▌    | 6711/12000 [00:24<00:19, 272.65it/s]\u001b[A\n",
            " 56%|█████▌    | 6739/12000 [00:25<00:19, 274.79it/s]\u001b[A\n",
            " 56%|█████▋    | 6768/12000 [00:25<00:18, 276.77it/s]\u001b[A\n",
            " 57%|█████▋    | 6796/12000 [00:25<00:18, 274.57it/s]\u001b[A\n",
            " 57%|█████▋    | 6824/12000 [00:25<00:18, 274.94it/s]\u001b[A\n",
            " 57%|█████▋    | 6852/12000 [00:25<00:18, 274.23it/s]\u001b[A\n",
            " 57%|█████▋    | 6880/12000 [00:25<00:19, 268.91it/s]\u001b[A\n",
            " 58%|█████▊    | 6907/12000 [00:25<00:19, 264.05it/s]\u001b[A\n",
            " 58%|█████▊    | 6935/12000 [00:25<00:18, 267.20it/s]\u001b[A\n",
            " 58%|█████▊    | 6963/12000 [00:25<00:18, 269.97it/s]\u001b[A\n",
            " 58%|█████▊    | 6991/12000 [00:25<00:18, 271.38it/s]\u001b[A\n",
            " 58%|█████▊    | 7020/12000 [00:26<00:18, 274.08it/s]\u001b[A\n",
            " 59%|█████▊    | 7048/12000 [00:26<00:18, 271.67it/s]\u001b[A\n",
            " 59%|█████▉    | 7076/12000 [00:26<00:18, 271.78it/s]\u001b[A\n",
            " 59%|█████▉    | 7104/12000 [00:26<00:18, 270.24it/s]\u001b[A\n",
            " 59%|█████▉    | 7132/12000 [00:26<00:18, 265.74it/s]\u001b[A\n",
            " 60%|█████▉    | 7159/12000 [00:26<00:18, 257.51it/s]\u001b[A\n",
            " 60%|█████▉    | 7186/12000 [00:26<00:18, 261.02it/s]\u001b[A\n",
            " 60%|██████    | 7214/12000 [00:26<00:18, 265.04it/s]\u001b[A\n",
            " 60%|██████    | 7241/12000 [00:26<00:17, 265.97it/s]\u001b[A\n",
            " 61%|██████    | 7269/12000 [00:27<00:17, 268.02it/s]\u001b[A\n",
            " 61%|██████    | 7297/12000 [00:27<00:17, 270.63it/s]\u001b[A\n",
            " 61%|██████    | 7325/12000 [00:27<00:17, 271.48it/s]\u001b[A\n",
            " 61%|██████▏   | 7353/12000 [00:27<00:17, 271.12it/s]\u001b[A\n",
            " 62%|██████▏   | 7381/12000 [00:27<00:16, 271.82it/s]\u001b[A\n",
            " 62%|██████▏   | 7409/12000 [00:27<00:17, 269.26it/s]\u001b[A\n",
            " 62%|██████▏   | 7436/12000 [00:27<00:17, 264.39it/s]\u001b[A\n",
            " 62%|██████▏   | 7464/12000 [00:27<00:16, 266.99it/s]\u001b[A\n",
            " 62%|██████▏   | 7492/12000 [00:27<00:16, 268.93it/s]\u001b[A\n",
            " 63%|██████▎   | 7520/12000 [00:27<00:16, 270.02it/s]\u001b[A\n",
            " 63%|██████▎   | 7548/12000 [00:28<00:16, 270.04it/s]\u001b[A\n",
            " 63%|██████▎   | 7576/12000 [00:28<00:16, 269.74it/s]\u001b[A\n",
            " 63%|██████▎   | 7603/12000 [00:28<00:16, 263.75it/s]\u001b[A\n",
            " 64%|██████▎   | 7630/12000 [00:28<00:16, 260.30it/s]\u001b[A\n",
            " 64%|██████▍   | 7657/12000 [00:28<00:16, 260.81it/s]\u001b[A\n",
            " 64%|██████▍   | 7684/12000 [00:28<00:16, 261.08it/s]\u001b[A\n",
            " 64%|██████▍   | 7711/12000 [00:28<00:16, 258.47it/s]\u001b[A\n",
            " 64%|██████▍   | 7738/12000 [00:28<00:16, 261.01it/s]\u001b[A\n",
            " 65%|██████▍   | 7765/12000 [00:28<00:16, 262.00it/s]\u001b[A\n",
            " 65%|██████▍   | 7792/12000 [00:29<00:15, 263.86it/s]\u001b[A\n",
            " 65%|██████▌   | 7819/12000 [00:29<00:15, 264.27it/s]\u001b[A\n",
            " 65%|██████▌   | 7847/12000 [00:29<00:15, 266.60it/s]\u001b[A\n",
            " 66%|██████▌   | 7875/12000 [00:29<00:15, 268.98it/s]\u001b[A\n",
            " 66%|██████▌   | 7902/12000 [00:29<00:15, 267.69it/s]\u001b[A\n",
            " 66%|██████▌   | 7930/12000 [00:29<00:15, 269.19it/s]\u001b[A\n",
            " 66%|██████▋   | 7958/12000 [00:29<00:14, 270.81it/s]\u001b[A\n",
            " 67%|██████▋   | 7986/12000 [00:29<00:15, 262.26it/s]\u001b[A\n",
            " 67%|██████▋   | 8014/12000 [00:29<00:14, 266.10it/s]\u001b[A\n",
            " 67%|██████▋   | 8041/12000 [00:29<00:14, 265.44it/s]\u001b[A"
          ],
          "name": "stderr"
        },
        {
          "output_type": "stream",
          "text": [
            "[1,  8000] loss: 0.206\n"
          ],
          "name": "stdout"
        },
        {
          "output_type": "stream",
          "text": [
            "\n",
            " 67%|██████▋   | 8068/12000 [00:30<00:15, 257.79it/s]\u001b[A\n",
            " 67%|██████▋   | 8095/12000 [00:30<00:15, 258.84it/s]\u001b[A\n",
            " 68%|██████▊   | 8122/12000 [00:30<00:14, 261.58it/s]\u001b[A\n",
            " 68%|██████▊   | 8150/12000 [00:30<00:14, 266.60it/s]\u001b[A\n",
            " 68%|██████▊   | 8178/12000 [00:30<00:14, 268.34it/s]\u001b[A\n",
            " 68%|██████▊   | 8206/12000 [00:30<00:13, 271.60it/s]\u001b[A\n",
            " 69%|██████▊   | 8234/12000 [00:30<00:13, 272.64it/s]\u001b[A\n",
            " 69%|██████▉   | 8262/12000 [00:30<00:13, 268.18it/s]\u001b[A\n",
            " 69%|██████▉   | 8290/12000 [00:30<00:13, 270.61it/s]\u001b[A\n",
            " 69%|██████▉   | 8318/12000 [00:30<00:13, 271.25it/s]\u001b[A\n",
            " 70%|██████▉   | 8346/12000 [00:31<00:13, 272.49it/s]\u001b[A\n",
            " 70%|██████▉   | 8374/12000 [00:31<00:13, 274.45it/s]\u001b[A\n",
            " 70%|███████   | 8402/12000 [00:31<00:13, 273.89it/s]\u001b[A\n",
            " 70%|███████   | 8430/12000 [00:31<00:12, 275.55it/s]\u001b[A\n",
            " 70%|███████   | 8458/12000 [00:31<00:12, 274.41it/s]\u001b[A\n",
            " 71%|███████   | 8486/12000 [00:31<00:12, 271.46it/s]\u001b[A\n",
            " 71%|███████   | 8514/12000 [00:31<00:12, 271.61it/s]\u001b[A\n",
            " 71%|███████   | 8542/12000 [00:31<00:12, 267.78it/s]\u001b[A\n",
            " 71%|███████▏  | 8569/12000 [00:31<00:12, 266.31it/s]\u001b[A\n",
            " 72%|███████▏  | 8596/12000 [00:31<00:12, 264.68it/s]\u001b[A\n",
            " 72%|███████▏  | 8624/12000 [00:32<00:12, 267.66it/s]\u001b[A\n",
            " 72%|███████▏  | 8652/12000 [00:32<00:12, 269.59it/s]\u001b[A\n",
            " 72%|███████▏  | 8679/12000 [00:32<00:12, 264.73it/s]\u001b[A\n",
            " 73%|███████▎  | 8707/12000 [00:32<00:12, 268.07it/s]\u001b[A\n",
            " 73%|███████▎  | 8736/12000 [00:32<00:12, 271.78it/s]\u001b[A\n",
            " 73%|███████▎  | 8764/12000 [00:32<00:11, 274.06it/s]\u001b[A\n",
            " 73%|███████▎  | 8792/12000 [00:32<00:11, 271.29it/s]\u001b[A\n",
            " 74%|███████▎  | 8820/12000 [00:32<00:11, 270.42it/s]\u001b[A\n",
            " 74%|███████▎  | 8849/12000 [00:32<00:11, 273.77it/s]\u001b[A\n",
            " 74%|███████▍  | 8877/12000 [00:33<00:11, 272.90it/s]\u001b[A\n",
            " 74%|███████▍  | 8905/12000 [00:33<00:11, 274.49it/s]\u001b[A\n",
            " 74%|███████▍  | 8933/12000 [00:33<00:11, 273.99it/s]\u001b[A\n",
            " 75%|███████▍  | 8961/12000 [00:33<00:11, 270.92it/s]\u001b[A\n",
            " 75%|███████▍  | 8989/12000 [00:33<00:11, 271.00it/s]\u001b[A\n",
            " 75%|███████▌  | 9017/12000 [00:33<00:11, 270.31it/s]\u001b[A\n",
            " 75%|███████▌  | 9045/12000 [00:33<00:10, 271.54it/s]\u001b[A\n",
            " 76%|███████▌  | 9073/12000 [00:33<00:10, 266.83it/s]\u001b[A\n",
            " 76%|███████▌  | 9100/12000 [00:33<00:10, 264.35it/s]\u001b[A\n",
            " 76%|███████▌  | 9127/12000 [00:33<00:10, 262.60it/s]\u001b[A\n",
            " 76%|███████▋  | 9155/12000 [00:34<00:10, 265.94it/s]\u001b[A\n",
            " 77%|███████▋  | 9182/12000 [00:34<00:10, 265.19it/s]\u001b[A\n",
            " 77%|███████▋  | 9210/12000 [00:34<00:10, 267.58it/s]\u001b[A\n",
            " 77%|███████▋  | 9237/12000 [00:34<00:10, 268.30it/s]\u001b[A\n",
            " 77%|███████▋  | 9265/12000 [00:34<00:10, 270.19it/s]\u001b[A\n",
            " 77%|███████▋  | 9293/12000 [00:34<00:09, 271.34it/s]\u001b[A\n",
            " 78%|███████▊  | 9321/12000 [00:34<00:10, 266.48it/s]\u001b[A\n",
            " 78%|███████▊  | 9348/12000 [00:34<00:10, 259.50it/s]\u001b[A\n",
            " 78%|███████▊  | 9376/12000 [00:34<00:09, 263.07it/s]\u001b[A\n",
            " 78%|███████▊  | 9403/12000 [00:35<00:09, 263.54it/s]\u001b[A\n",
            " 79%|███████▊  | 9431/12000 [00:35<00:09, 265.75it/s]\u001b[A\n",
            " 79%|███████▉  | 9459/12000 [00:35<00:09, 267.80it/s]\u001b[A\n",
            " 79%|███████▉  | 9486/12000 [00:35<00:09, 267.55it/s]\u001b[A\n",
            " 79%|███████▉  | 9513/12000 [00:35<00:09, 261.79it/s]\u001b[A\n",
            " 80%|███████▉  | 9540/12000 [00:35<00:09, 261.12it/s]\u001b[A\n",
            " 80%|███████▉  | 9567/12000 [00:35<00:09, 263.18it/s]\u001b[A\n",
            " 80%|███████▉  | 9594/12000 [00:35<00:09, 264.42it/s]\u001b[A\n",
            " 80%|████████  | 9621/12000 [00:35<00:09, 261.97it/s]\u001b[A\n",
            " 80%|████████  | 9649/12000 [00:35<00:08, 266.24it/s]\u001b[A\n",
            " 81%|████████  | 9676/12000 [00:36<00:08, 266.24it/s]\u001b[A\n",
            " 81%|████████  | 9704/12000 [00:36<00:08, 267.69it/s]\u001b[A\n",
            " 81%|████████  | 9731/12000 [00:36<00:08, 267.02it/s]\u001b[A\n",
            " 81%|████████▏ | 9759/12000 [00:36<00:08, 269.08it/s]\u001b[A\n",
            " 82%|████████▏ | 9787/12000 [00:36<00:08, 270.56it/s]\u001b[A\n",
            " 82%|████████▏ | 9815/12000 [00:36<00:08, 272.24it/s]\u001b[A\n",
            " 82%|████████▏ | 9843/12000 [00:36<00:07, 272.97it/s]\u001b[A\n",
            " 82%|████████▏ | 9871/12000 [00:36<00:07, 268.71it/s]\u001b[A\n",
            " 82%|████████▏ | 9898/12000 [00:36<00:08, 259.22it/s]\u001b[A\n",
            " 83%|████████▎ | 9925/12000 [00:36<00:07, 259.59it/s]\u001b[A\n",
            " 83%|████████▎ | 9952/12000 [00:37<00:07, 261.66it/s]\u001b[A\n",
            " 83%|████████▎ | 9979/12000 [00:37<00:07, 262.72it/s]\u001b[A\n",
            " 83%|████████▎ | 10007/12000 [00:37<00:07, 265.41it/s]\u001b[A\n",
            " 84%|████████▎ | 10035/12000 [00:37<00:07, 267.20it/s]\u001b[A"
          ],
          "name": "stderr"
        },
        {
          "output_type": "stream",
          "text": [
            "[1, 10000] loss: 0.186\n"
          ],
          "name": "stdout"
        },
        {
          "output_type": "stream",
          "text": [
            "\n",
            " 84%|████████▍ | 10062/12000 [00:37<00:07, 263.56it/s]\u001b[A\n",
            " 84%|████████▍ | 10090/12000 [00:37<00:07, 267.02it/s]\u001b[A\n",
            " 84%|████████▍ | 10118/12000 [00:37<00:06, 269.38it/s]\u001b[A\n",
            " 85%|████████▍ | 10145/12000 [00:37<00:06, 267.99it/s]\u001b[A\n",
            " 85%|████████▍ | 10172/12000 [00:37<00:06, 263.02it/s]\u001b[A\n",
            " 85%|████████▌ | 10200/12000 [00:37<00:06, 265.31it/s]\u001b[A\n",
            " 85%|████████▌ | 10228/12000 [00:38<00:06, 268.78it/s]\u001b[A\n",
            " 85%|████████▌ | 10255/12000 [00:38<00:06, 263.27it/s]\u001b[A\n",
            " 86%|████████▌ | 10283/12000 [00:38<00:06, 265.87it/s]\u001b[A\n",
            " 86%|████████▌ | 10311/12000 [00:38<00:06, 267.81it/s]\u001b[A\n",
            " 86%|████████▌ | 10339/12000 [00:38<00:06, 270.05it/s]\u001b[A\n",
            " 86%|████████▋ | 10367/12000 [00:38<00:06, 269.29it/s]\u001b[A\n",
            " 87%|████████▋ | 10395/12000 [00:38<00:05, 271.25it/s]\u001b[A\n",
            " 87%|████████▋ | 10423/12000 [00:38<00:05, 268.09it/s]\u001b[A\n",
            " 87%|████████▋ | 10450/12000 [00:38<00:05, 268.20it/s]\u001b[A\n",
            " 87%|████████▋ | 10477/12000 [00:39<00:05, 267.37it/s]\u001b[A\n",
            " 88%|████████▊ | 10505/12000 [00:39<00:05, 269.93it/s]\u001b[A\n",
            " 88%|████████▊ | 10533/12000 [00:39<00:05, 267.00it/s]\u001b[A\n",
            " 88%|████████▊ | 10560/12000 [00:39<00:05, 256.76it/s]\u001b[A\n",
            " 88%|████████▊ | 10588/12000 [00:39<00:05, 261.05it/s]\u001b[A\n",
            " 88%|████████▊ | 10615/12000 [00:39<00:05, 260.86it/s]\u001b[A\n",
            " 89%|████████▊ | 10643/12000 [00:39<00:05, 265.67it/s]\u001b[A\n",
            " 89%|████████▉ | 10671/12000 [00:39<00:04, 267.98it/s]\u001b[A\n",
            " 89%|████████▉ | 10698/12000 [00:39<00:05, 255.32it/s]\u001b[A\n",
            " 89%|████████▉ | 10724/12000 [00:39<00:04, 256.71it/s]\u001b[A\n",
            " 90%|████████▉ | 10752/12000 [00:40<00:04, 260.71it/s]\u001b[A\n",
            " 90%|████████▉ | 10779/12000 [00:40<00:04, 259.38it/s]\u001b[A\n",
            " 90%|█████████ | 10806/12000 [00:40<00:04, 261.50it/s]\u001b[A\n",
            " 90%|█████████ | 10833/12000 [00:40<00:04, 263.07it/s]\u001b[A\n",
            " 90%|█████████ | 10860/12000 [00:40<00:04, 264.32it/s]\u001b[A\n",
            " 91%|█████████ | 10888/12000 [00:40<00:04, 267.63it/s]\u001b[A\n",
            " 91%|█████████ | 10915/12000 [00:40<00:04, 268.16it/s]\u001b[A\n",
            " 91%|█████████ | 10943/12000 [00:40<00:03, 270.49it/s]\u001b[A\n",
            " 91%|█████████▏| 10971/12000 [00:40<00:03, 265.03it/s]\u001b[A\n",
            " 92%|█████████▏| 10998/12000 [00:41<00:03, 263.69it/s]\u001b[A\n",
            " 92%|█████████▏| 11025/12000 [00:41<00:03, 263.87it/s]\u001b[A\n",
            " 92%|█████████▏| 11052/12000 [00:41<00:03, 264.10it/s]\u001b[A\n",
            " 92%|█████████▏| 11079/12000 [00:41<00:03, 261.29it/s]\u001b[A\n",
            " 93%|█████████▎| 11106/12000 [00:41<00:03, 255.62it/s]\u001b[A\n",
            " 93%|█████████▎| 11133/12000 [00:41<00:03, 258.89it/s]\u001b[A\n",
            " 93%|█████████▎| 11161/12000 [00:41<00:03, 263.23it/s]\u001b[A\n",
            " 93%|█████████▎| 11188/12000 [00:41<00:03, 263.54it/s]\u001b[A\n",
            " 93%|█████████▎| 11216/12000 [00:41<00:02, 266.83it/s]\u001b[A\n",
            " 94%|█████████▎| 11243/12000 [00:41<00:02, 261.93it/s]\u001b[A\n",
            " 94%|█████████▍| 11270/12000 [00:42<00:02, 260.74it/s]\u001b[A\n",
            " 94%|█████████▍| 11297/12000 [00:42<00:02, 261.60it/s]\u001b[A\n",
            " 94%|█████████▍| 11324/12000 [00:42<00:02, 262.45it/s]\u001b[A\n",
            " 95%|█████████▍| 11352/12000 [00:42<00:02, 265.52it/s]\u001b[A\n",
            " 95%|█████████▍| 11380/12000 [00:42<00:02, 268.38it/s]\u001b[A\n",
            " 95%|█████████▌| 11408/12000 [00:42<00:02, 270.45it/s]\u001b[A\n",
            " 95%|█████████▌| 11436/12000 [00:42<00:02, 271.83it/s]\u001b[A\n",
            " 96%|█████████▌| 11464/12000 [00:42<00:02, 266.29it/s]\u001b[A\n",
            " 96%|█████████▌| 11492/12000 [00:42<00:01, 267.85it/s]\u001b[A\n",
            " 96%|█████████▌| 11519/12000 [00:42<00:01, 253.26it/s]\u001b[A\n",
            " 96%|█████████▌| 11545/12000 [00:43<00:01, 253.91it/s]\u001b[A\n",
            " 96%|█████████▋| 11572/12000 [00:43<00:01, 257.47it/s]\u001b[A\n",
            " 97%|█████████▋| 11598/12000 [00:43<00:01, 256.01it/s]\u001b[A\n",
            " 97%|█████████▋| 11624/12000 [00:43<00:01, 255.96it/s]\u001b[A\n",
            " 97%|█████████▋| 11652/12000 [00:43<00:01, 260.18it/s]\u001b[A\n",
            " 97%|█████████▋| 11679/12000 [00:43<00:01, 261.55it/s]\u001b[A\n",
            " 98%|█████████▊| 11706/12000 [00:43<00:01, 260.01it/s]\u001b[A\n",
            " 98%|█████████▊| 11734/12000 [00:43<00:01, 263.32it/s]\u001b[A\n",
            " 98%|█████████▊| 11761/12000 [00:43<00:00, 253.06it/s]\u001b[A\n",
            " 98%|█████████▊| 11788/12000 [00:44<00:00, 256.80it/s]\u001b[A\n",
            " 98%|█████████▊| 11815/12000 [00:44<00:00, 259.62it/s]\u001b[A\n",
            " 99%|█████████▊| 11842/12000 [00:44<00:00, 260.03it/s]\u001b[A\n",
            " 99%|█████████▉| 11869/12000 [00:44<00:00, 262.16it/s]\u001b[A\n",
            " 99%|█████████▉| 11896/12000 [00:44<00:00, 264.02it/s]\u001b[A\n",
            " 99%|█████████▉| 11923/12000 [00:44<00:00, 265.30it/s]\u001b[A\n",
            "100%|█████████▉| 11950/12000 [00:44<00:00, 262.72it/s]\u001b[A\n",
            "100%|██████████| 12000/12000 [00:44<00:00, 267.63it/s]\n"
          ],
          "name": "stderr"
        },
        {
          "output_type": "stream",
          "text": [
            "[1, 12000] loss: 0.139\n"
          ],
          "name": "stdout"
        },
        {
          "output_type": "display_data",
          "data": {
            "image/png": "[encoded data removed]",
            "text/plain": [
              "<Figure size 720x504 with 1 Axes>"
            ]
          },
          "metadata": {
            "tags": [],
            "needs_background": "light"
          }
        },
        {
          "output_type": "stream",
          "text": [
            " 50%|█████     | 1/2 [00:45<00:45, 45.01s/it]\n",
            "  0%|          | 0/12000 [00:00<?, ?it/s]\u001b[A\n",
            "  0%|          | 26/12000 [00:00<00:47, 252.59it/s]\u001b[A\n",
            "  0%|          | 51/12000 [00:00<00:47, 250.37it/s]\u001b[A\n",
            "  1%|          | 78/12000 [00:00<00:46, 254.95it/s]\u001b[A\n",
            "  1%|          | 106/12000 [00:00<00:45, 259.74it/s]\u001b[A\n",
            "  1%|          | 134/12000 [00:00<00:44, 263.98it/s]\u001b[A\n",
            "  1%|▏         | 161/12000 [00:00<00:44, 263.48it/s]\u001b[A\n",
            "  2%|▏         | 189/12000 [00:00<00:44, 265.71it/s]\u001b[A\n",
            "  2%|▏         | 215/12000 [00:00<00:44, 262.48it/s]\u001b[A\n",
            "  2%|▏         | 241/12000 [00:00<00:45, 261.00it/s]\u001b[A\n",
            "  2%|▏         | 267/12000 [00:01<00:46, 253.52it/s]\u001b[A\n",
            "  2%|▏         | 292/12000 [00:01<00:46, 251.46it/s]\u001b[A\n",
            "  3%|▎         | 319/12000 [00:01<00:45, 254.51it/s]\u001b[A\n",
            "  3%|▎         | 346/12000 [00:01<00:45, 257.35it/s]\u001b[A\n",
            "  3%|▎         | 374/12000 [00:01<00:44, 262.42it/s]\u001b[A\n",
            "  3%|▎         | 402/12000 [00:01<00:43, 264.94it/s]\u001b[A\n",
            "  4%|▎         | 430/12000 [00:01<00:43, 267.58it/s]\u001b[A\n",
            "  4%|▍         | 457/12000 [00:01<00:43, 264.29it/s]\u001b[A\n",
            "  4%|▍         | 484/12000 [00:01<00:43, 264.16it/s]\u001b[A\n",
            "  4%|▍         | 511/12000 [00:01<00:44, 259.77it/s]\u001b[A\n",
            "  4%|▍         | 538/12000 [00:02<00:43, 260.90it/s]\u001b[A\n",
            "  5%|▍         | 565/12000 [00:02<00:43, 262.26it/s]\u001b[A\n",
            "  5%|▍         | 592/12000 [00:02<00:44, 257.42it/s]\u001b[A\n",
            "  5%|▌         | 619/12000 [00:02<00:43, 258.81it/s]\u001b[A\n",
            "  5%|▌         | 646/12000 [00:02<00:43, 261.18it/s]\u001b[A\n",
            "  6%|▌         | 673/12000 [00:02<00:43, 261.98it/s]\u001b[A\n",
            "  6%|▌         | 700/12000 [00:02<00:43, 260.08it/s]\u001b[A\n",
            "  6%|▌         | 727/12000 [00:02<00:43, 261.85it/s]\u001b[A\n",
            "  6%|▋         | 754/12000 [00:02<00:42, 262.57it/s]\u001b[A\n",
            "  7%|▋         | 781/12000 [00:03<00:44, 251.77it/s]\u001b[A\n",
            "  7%|▋         | 807/12000 [00:03<00:44, 252.89it/s]\u001b[A\n",
            "  7%|▋         | 833/12000 [00:03<00:44, 253.67it/s]\u001b[A\n",
            "  7%|▋         | 859/12000 [00:03<00:45, 246.32it/s]\u001b[A\n",
            "  7%|▋         | 886/12000 [00:03<00:44, 250.77it/s]\u001b[A\n",
            "  8%|▊         | 913/12000 [00:03<00:43, 255.57it/s]\u001b[A\n",
            "  8%|▊         | 940/12000 [00:03<00:42, 258.68it/s]\u001b[A\n",
            "  8%|▊         | 966/12000 [00:03<00:42, 258.53it/s]\u001b[A\n",
            "  8%|▊         | 994/12000 [00:03<00:41, 262.26it/s]\u001b[A\n",
            "  9%|▊         | 1021/12000 [00:03<00:41, 263.35it/s]\u001b[A\n",
            "  9%|▊         | 1048/12000 [00:04<00:41, 260.91it/s]\u001b[A\n",
            "  9%|▉         | 1075/12000 [00:04<00:41, 261.98it/s]\u001b[A\n",
            "  9%|▉         | 1102/12000 [00:04<00:42, 258.82it/s]\u001b[A\n",
            "  9%|▉         | 1128/12000 [00:04<00:42, 258.06it/s]\u001b[A\n",
            " 10%|▉         | 1154/12000 [00:04<00:43, 251.69it/s]\u001b[A\n",
            " 10%|▉         | 1180/12000 [00:04<00:42, 253.00it/s]\u001b[A\n",
            " 10%|█         | 1207/12000 [00:04<00:41, 257.86it/s]\u001b[A\n",
            " 10%|█         | 1233/12000 [00:04<00:41, 257.90it/s]\u001b[A\n",
            " 10%|█         | 1260/12000 [00:04<00:41, 259.92it/s]\u001b[A\n",
            " 11%|█         | 1287/12000 [00:04<00:41, 259.24it/s]\u001b[A\n",
            " 11%|█         | 1313/12000 [00:05<00:41, 255.64it/s]\u001b[A\n",
            " 11%|█         | 1339/12000 [00:05<00:42, 251.27it/s]\u001b[A\n",
            " 11%|█▏        | 1366/12000 [00:05<00:41, 253.89it/s]\u001b[A\n",
            " 12%|█▏        | 1394/12000 [00:05<00:40, 259.01it/s]\u001b[A\n",
            " 12%|█▏        | 1422/12000 [00:05<00:39, 264.74it/s]\u001b[A\n",
            " 12%|█▏        | 1450/12000 [00:05<00:39, 268.24it/s]\u001b[A\n",
            " 12%|█▏        | 1477/12000 [00:05<00:39, 266.39it/s]\u001b[A\n",
            " 13%|█▎        | 1505/12000 [00:05<00:39, 267.87it/s]\u001b[A\n",
            " 13%|█▎        | 1532/12000 [00:05<00:39, 268.06it/s]\u001b[A\n",
            " 13%|█▎        | 1559/12000 [00:05<00:38, 268.36it/s]\u001b[A\n",
            " 13%|█▎        | 1586/12000 [00:06<00:40, 259.39it/s]\u001b[A\n",
            " 13%|█▎        | 1613/12000 [00:06<00:40, 257.80it/s]\u001b[A\n",
            " 14%|█▎        | 1640/12000 [00:06<00:39, 259.63it/s]\u001b[A\n",
            " 14%|█▍        | 1667/12000 [00:06<00:40, 258.22it/s]\u001b[A\n",
            " 14%|█▍        | 1693/12000 [00:06<00:40, 257.39it/s]\u001b[A\n",
            " 14%|█▍        | 1720/12000 [00:06<00:39, 260.78it/s]\u001b[A\n",
            " 15%|█▍        | 1747/12000 [00:06<00:39, 260.44it/s]\u001b[A\n",
            " 15%|█▍        | 1774/12000 [00:06<00:38, 262.40it/s]\u001b[A\n",
            " 15%|█▌        | 1801/12000 [00:06<00:38, 263.32it/s]\u001b[A\n",
            " 15%|█▌        | 1828/12000 [00:07<00:39, 255.15it/s]\u001b[A\n",
            " 15%|█▌        | 1855/12000 [00:07<00:39, 257.33it/s]\u001b[A\n",
            " 16%|█▌        | 1882/12000 [00:07<00:39, 259.43it/s]\u001b[A\n",
            " 16%|█▌        | 1908/12000 [00:07<00:39, 253.47it/s]\u001b[A\n",
            " 16%|█▌        | 1935/12000 [00:07<00:39, 256.90it/s]\u001b[A\n",
            " 16%|█▋        | 1962/12000 [00:07<00:38, 260.53it/s]\u001b[A\n",
            " 17%|█▋        | 1989/12000 [00:07<00:38, 263.06it/s]\u001b[A\n",
            " 17%|█▋        | 2016/12000 [00:07<00:38, 257.46it/s]\u001b[A\n",
            " 17%|█▋        | 2042/12000 [00:07<00:38, 256.05it/s]\u001b[A"
          ],
          "name": "stderr"
        },
        {
          "output_type": "stream",
          "text": [
            "[2,  2000] loss: 0.136\n"
          ],
          "name": "stdout"
        },
        {
          "output_type": "stream",
          "text": [
            "\n",
            " 17%|█▋        | 2068/12000 [00:07<00:38, 254.75it/s]\u001b[A\n",
            " 17%|█▋        | 2094/12000 [00:08<00:38, 254.12it/s]\u001b[A\n",
            " 18%|█▊        | 2122/12000 [00:08<00:38, 259.90it/s]\u001b[A\n",
            " 18%|█▊        | 2149/12000 [00:08<00:37, 260.42it/s]\u001b[A\n",
            " 18%|█▊        | 2176/12000 [00:08<00:37, 259.54it/s]\u001b[A\n",
            " 18%|█▊        | 2203/12000 [00:08<00:37, 261.27it/s]\u001b[A\n",
            " 19%|█▊        | 2230/12000 [00:08<00:38, 255.16it/s]\u001b[A\n",
            " 19%|█▉        | 2256/12000 [00:08<00:38, 251.91it/s]\u001b[A\n",
            " 19%|█▉        | 2283/12000 [00:08<00:38, 255.51it/s]\u001b[A\n",
            " 19%|█▉        | 2309/12000 [00:08<00:37, 255.42it/s]\u001b[A\n",
            " 19%|█▉        | 2336/12000 [00:09<00:37, 258.28it/s]\u001b[A\n",
            " 20%|█▉        | 2362/12000 [00:09<00:37, 254.64it/s]\u001b[A\n",
            " 20%|█▉        | 2388/12000 [00:09<00:37, 254.41it/s]\u001b[A\n",
            " 20%|██        | 2415/12000 [00:09<00:37, 257.18it/s]\u001b[A\n",
            " 20%|██        | 2441/12000 [00:09<00:37, 256.66it/s]\u001b[A\n",
            " 21%|██        | 2467/12000 [00:09<00:37, 255.36it/s]\u001b[A\n",
            " 21%|██        | 2494/12000 [00:09<00:36, 257.70it/s]\u001b[A\n",
            " 21%|██        | 2521/12000 [00:09<00:36, 260.37it/s]\u001b[A\n",
            " 21%|██        | 2548/12000 [00:09<00:36, 262.15it/s]\u001b[A\n",
            " 21%|██▏       | 2575/12000 [00:09<00:36, 260.98it/s]\u001b[A\n",
            " 22%|██▏       | 2602/12000 [00:10<00:35, 262.98it/s]\u001b[A\n",
            " 22%|██▏       | 2629/12000 [00:10<00:36, 259.08it/s]\u001b[A\n",
            " 22%|██▏       | 2655/12000 [00:10<00:36, 258.30it/s]\u001b[A\n",
            " 22%|██▏       | 2681/12000 [00:10<00:36, 257.51it/s]\u001b[A\n",
            " 23%|██▎       | 2707/12000 [00:10<00:36, 257.87it/s]\u001b[A\n",
            " 23%|██▎       | 2733/12000 [00:10<00:37, 249.53it/s]\u001b[A\n",
            " 23%|██▎       | 2759/12000 [00:10<00:36, 251.00it/s]\u001b[A\n",
            " 23%|██▎       | 2785/12000 [00:10<00:36, 251.20it/s]\u001b[A\n",
            " 23%|██▎       | 2812/12000 [00:10<00:36, 254.94it/s]\u001b[A\n",
            " 24%|██▎       | 2838/12000 [00:10<00:35, 255.06it/s]\u001b[A\n",
            " 24%|██▍       | 2865/12000 [00:11<00:35, 257.85it/s]\u001b[A\n",
            " 24%|██▍       | 2891/12000 [00:11<00:35, 254.58it/s]\u001b[A\n",
            " 24%|██▍       | 2917/12000 [00:11<00:35, 254.36it/s]\u001b[A\n",
            " 25%|██▍       | 2944/12000 [00:11<00:35, 257.16it/s]\u001b[A\n",
            " 25%|██▍       | 2970/12000 [00:11<00:35, 255.94it/s]\u001b[A\n",
            " 25%|██▍       | 2997/12000 [00:11<00:34, 258.25it/s]\u001b[A\n",
            " 25%|██▌       | 3023/12000 [00:11<00:34, 258.37it/s]\u001b[A\n",
            " 25%|██▌       | 3051/12000 [00:11<00:34, 261.90it/s]\u001b[A\n",
            " 26%|██▌       | 3078/12000 [00:11<00:33, 264.08it/s]\u001b[A\n",
            " 26%|██▌       | 3105/12000 [00:11<00:33, 262.73it/s]\u001b[A\n",
            " 26%|██▌       | 3132/12000 [00:12<00:33, 264.20it/s]\u001b[A\n",
            " 26%|██▋       | 3159/12000 [00:12<00:34, 259.33it/s]\u001b[A\n",
            " 27%|██▋       | 3185/12000 [00:12<00:34, 254.28it/s]\u001b[A\n",
            " 27%|██▋       | 3212/12000 [00:12<00:34, 258.06it/s]\u001b[A\n",
            " 27%|██▋       | 3240/12000 [00:12<00:33, 262.53it/s]\u001b[A\n",
            " 27%|██▋       | 3267/12000 [00:12<00:33, 260.07it/s]\u001b[A\n",
            " 27%|██▋       | 3294/12000 [00:12<00:33, 261.49it/s]\u001b[A\n",
            " 28%|██▊       | 3321/12000 [00:12<00:32, 263.86it/s]\u001b[A\n",
            " 28%|██▊       | 3348/12000 [00:12<00:33, 261.82it/s]\u001b[A\n",
            " 28%|██▊       | 3375/12000 [00:13<00:32, 262.32it/s]\u001b[A\n",
            " 28%|██▊       | 3402/12000 [00:13<00:32, 261.85it/s]\u001b[A\n",
            " 29%|██▊       | 3429/12000 [00:13<00:34, 248.81it/s]\u001b[A\n",
            " 29%|██▉       | 3456/12000 [00:13<00:33, 254.45it/s]\u001b[A\n",
            " 29%|██▉       | 3484/12000 [00:13<00:32, 259.17it/s]\u001b[A\n",
            " 29%|██▉       | 3511/12000 [00:13<00:32, 262.32it/s]\u001b[A\n",
            " 29%|██▉       | 3538/12000 [00:13<00:32, 259.58it/s]\u001b[A\n",
            " 30%|██▉       | 3565/12000 [00:13<00:32, 261.18it/s]\u001b[A\n",
            " 30%|██▉       | 3592/12000 [00:13<00:32, 262.54it/s]\u001b[A\n",
            " 30%|███       | 3619/12000 [00:13<00:31, 263.50it/s]\u001b[A\n",
            " 30%|███       | 3646/12000 [00:14<00:32, 260.80it/s]\u001b[A\n",
            " 31%|███       | 3673/12000 [00:14<00:32, 256.28it/s]\u001b[A\n",
            " 31%|███       | 3700/12000 [00:14<00:32, 258.99it/s]\u001b[A\n",
            " 31%|███       | 3727/12000 [00:14<00:31, 261.47it/s]\u001b[A\n",
            " 31%|███▏      | 3754/12000 [00:14<00:31, 261.44it/s]\u001b[A\n",
            " 32%|███▏      | 3782/12000 [00:14<00:31, 264.89it/s]\u001b[A\n",
            " 32%|███▏      | 3809/12000 [00:14<00:30, 265.76it/s]\u001b[A\n",
            " 32%|███▏      | 3836/12000 [00:14<00:31, 261.98it/s]\u001b[A\n",
            " 32%|███▏      | 3863/12000 [00:14<00:31, 256.94it/s]\u001b[A\n",
            " 32%|███▏      | 3891/12000 [00:15<00:31, 260.99it/s]\u001b[A\n",
            " 33%|███▎      | 3918/12000 [00:15<00:30, 262.49it/s]\u001b[A\n",
            " 33%|███▎      | 3945/12000 [00:15<00:31, 258.29it/s]\u001b[A\n",
            " 33%|███▎      | 3972/12000 [00:15<00:30, 261.46it/s]\u001b[A\n",
            " 33%|███▎      | 3999/12000 [00:15<00:30, 261.88it/s]\u001b[A\n",
            " 34%|███▎      | 4026/12000 [00:15<00:30, 263.37it/s]\u001b[A\n",
            " 34%|███▍      | 4053/12000 [00:15<00:30, 260.11it/s]\u001b[A"
          ],
          "name": "stderr"
        },
        {
          "output_type": "stream",
          "text": [
            "[2,  4000] loss: 0.122\n"
          ],
          "name": "stdout"
        },
        {
          "output_type": "stream",
          "text": [
            "\n",
            " 34%|███▍      | 4080/12000 [00:15<00:30, 257.37it/s]\u001b[A\n",
            " 34%|███▍      | 4107/12000 [00:15<00:30, 258.82it/s]\u001b[A\n",
            " 34%|███▍      | 4134/12000 [00:15<00:30, 259.72it/s]\u001b[A\n",
            " 35%|███▍      | 4161/12000 [00:16<00:29, 261.73it/s]\u001b[A\n",
            " 35%|███▍      | 4188/12000 [00:16<00:29, 262.95it/s]\u001b[A\n",
            " 35%|███▌      | 4215/12000 [00:16<00:30, 258.96it/s]\u001b[A\n",
            " 35%|███▌      | 4241/12000 [00:16<00:30, 258.56it/s]\u001b[A\n",
            " 36%|███▌      | 4267/12000 [00:16<00:30, 255.33it/s]\u001b[A\n",
            " 36%|███▌      | 4293/12000 [00:16<00:30, 254.86it/s]\u001b[A\n",
            " 36%|███▌      | 4319/12000 [00:16<00:30, 255.62it/s]\u001b[A\n",
            " 36%|███▌      | 4346/12000 [00:16<00:29, 259.39it/s]\u001b[A\n",
            " 36%|███▋      | 4373/12000 [00:16<00:29, 261.53it/s]\u001b[A\n",
            " 37%|███▋      | 4400/12000 [00:16<00:29, 257.45it/s]\u001b[A\n",
            " 37%|███▋      | 4427/12000 [00:17<00:29, 260.56it/s]\u001b[A\n",
            " 37%|███▋      | 4454/12000 [00:17<00:28, 260.81it/s]\u001b[A\n",
            " 37%|███▋      | 4481/12000 [00:17<00:29, 255.17it/s]\u001b[A\n",
            " 38%|███▊      | 4507/12000 [00:17<00:29, 253.02it/s]\u001b[A\n",
            " 38%|███▊      | 4533/12000 [00:17<00:29, 254.64it/s]\u001b[A\n",
            " 38%|███▊      | 4560/12000 [00:17<00:28, 258.43it/s]\u001b[A\n",
            " 38%|███▊      | 4587/12000 [00:17<00:28, 261.42it/s]\u001b[A\n",
            " 38%|███▊      | 4615/12000 [00:17<00:27, 265.58it/s]\u001b[A\n",
            " 39%|███▊      | 4643/12000 [00:17<00:27, 267.55it/s]\u001b[A\n",
            " 39%|███▉      | 4670/12000 [00:18<00:27, 266.62it/s]\u001b[A\n",
            " 39%|███▉      | 4698/12000 [00:18<00:27, 268.34it/s]\u001b[A\n",
            " 39%|███▉      | 4725/12000 [00:18<00:27, 261.00it/s]\u001b[A\n",
            " 40%|███▉      | 4752/12000 [00:18<00:28, 254.14it/s]\u001b[A\n",
            " 40%|███▉      | 4779/12000 [00:18<00:27, 258.36it/s]\u001b[A\n",
            " 40%|████      | 4806/12000 [00:18<00:27, 261.24it/s]\u001b[A\n",
            " 40%|████      | 4833/12000 [00:18<00:27, 260.91it/s]\u001b[A\n",
            " 40%|████      | 4860/12000 [00:18<00:27, 262.94it/s]\u001b[A\n",
            " 41%|████      | 4888/12000 [00:18<00:26, 265.60it/s]\u001b[A\n",
            " 41%|████      | 4915/12000 [00:18<00:27, 260.88it/s]\u001b[A\n",
            " 41%|████      | 4942/12000 [00:19<00:27, 260.07it/s]\u001b[A\n",
            " 41%|████▏     | 4969/12000 [00:19<00:27, 258.58it/s]\u001b[A\n",
            " 42%|████▏     | 4995/12000 [00:19<00:27, 253.12it/s]\u001b[A\n",
            " 42%|████▏     | 5022/12000 [00:19<00:27, 257.34it/s]\u001b[A\n",
            " 42%|████▏     | 5049/12000 [00:19<00:26, 259.13it/s]\u001b[A\n",
            " 42%|████▏     | 5075/12000 [00:19<00:26, 258.53it/s]\u001b[A\n",
            " 43%|████▎     | 5102/12000 [00:19<00:26, 260.58it/s]\u001b[A\n",
            " 43%|████▎     | 5129/12000 [00:19<00:26, 261.16it/s]\u001b[A\n",
            " 43%|████▎     | 5156/12000 [00:19<00:26, 261.61it/s]\u001b[A\n",
            " 43%|████▎     | 5183/12000 [00:19<00:26, 255.72it/s]\u001b[A\n",
            " 43%|████▎     | 5210/12000 [00:20<00:26, 258.02it/s]\u001b[A\n",
            " 44%|████▎     | 5237/12000 [00:20<00:26, 260.09it/s]\u001b[A\n",
            " 44%|████▍     | 5264/12000 [00:20<00:26, 256.48it/s]\u001b[A\n",
            " 44%|████▍     | 5291/12000 [00:20<00:25, 259.73it/s]\u001b[A\n",
            " 44%|████▍     | 5318/12000 [00:20<00:25, 257.56it/s]\u001b[A\n",
            " 45%|████▍     | 5345/12000 [00:20<00:25, 260.07it/s]\u001b[A\n",
            " 45%|████▍     | 5372/12000 [00:20<00:25, 256.65it/s]\u001b[A\n",
            " 45%|████▍     | 5398/12000 [00:20<00:25, 257.26it/s]\u001b[A\n",
            " 45%|████▌     | 5425/12000 [00:20<00:25, 258.32it/s]\u001b[A\n",
            " 45%|████▌     | 5452/12000 [00:21<00:25, 258.58it/s]\u001b[A\n",
            " 46%|████▌     | 5478/12000 [00:21<00:25, 253.91it/s]\u001b[A\n",
            " 46%|████▌     | 5504/12000 [00:21<00:25, 253.45it/s]\u001b[A\n",
            " 46%|████▌     | 5530/12000 [00:21<00:25, 251.35it/s]\u001b[A\n",
            " 46%|████▋     | 5556/12000 [00:21<00:25, 252.80it/s]\u001b[A\n",
            " 47%|████▋     | 5582/12000 [00:21<00:25, 252.78it/s]\u001b[A\n",
            " 47%|████▋     | 5609/12000 [00:21<00:24, 255.75it/s]\u001b[A\n",
            " 47%|████▋     | 5637/12000 [00:21<00:24, 260.88it/s]\u001b[A\n",
            " 47%|████▋     | 5665/12000 [00:21<00:23, 266.07it/s]\u001b[A\n",
            " 47%|████▋     | 5693/12000 [00:21<00:23, 267.94it/s]\u001b[A\n",
            " 48%|████▊     | 5720/12000 [00:22<00:23, 267.62it/s]\u001b[A\n",
            " 48%|████▊     | 5749/12000 [00:22<00:22, 271.86it/s]\u001b[A\n",
            " 48%|████▊     | 5777/12000 [00:22<00:23, 265.26it/s]\u001b[A\n",
            " 48%|████▊     | 5804/12000 [00:22<00:23, 259.19it/s]\u001b[A\n",
            " 49%|████▊     | 5830/12000 [00:22<00:23, 257.16it/s]\u001b[A\n",
            " 49%|████▉     | 5857/12000 [00:22<00:23, 260.65it/s]\u001b[A\n",
            " 49%|████▉     | 5884/12000 [00:22<00:23, 261.45it/s]\u001b[A\n",
            " 49%|████▉     | 5911/12000 [00:22<00:23, 261.50it/s]\u001b[A\n",
            " 49%|████▉     | 5938/12000 [00:22<00:23, 259.51it/s]\u001b[A\n",
            " 50%|████▉     | 5964/12000 [00:23<00:23, 255.69it/s]\u001b[A\n",
            " 50%|████▉     | 5990/12000 [00:23<00:23, 255.52it/s]\u001b[A\n",
            " 50%|█████     | 6017/12000 [00:23<00:23, 257.08it/s]\u001b[A\n",
            " 50%|█████     | 6043/12000 [00:23<00:23, 254.26it/s]\u001b[A"
          ],
          "name": "stderr"
        },
        {
          "output_type": "stream",
          "text": [
            "[2,  6000] loss: 0.112\n"
          ],
          "name": "stdout"
        },
        {
          "output_type": "stream",
          "text": [
            "\n",
            " 51%|█████     | 6069/12000 [00:23<00:23, 250.39it/s]\u001b[A\n",
            " 51%|█████     | 6096/12000 [00:23<00:23, 253.43it/s]\u001b[A\n",
            " 51%|█████     | 6122/12000 [00:23<00:23, 250.90it/s]\u001b[A\n",
            " 51%|█████     | 6149/12000 [00:23<00:22, 254.70it/s]\u001b[A\n",
            " 51%|█████▏    | 6176/12000 [00:23<00:22, 257.89it/s]\u001b[A\n",
            " 52%|█████▏    | 6203/12000 [00:23<00:22, 261.12it/s]\u001b[A\n",
            " 52%|█████▏    | 6230/12000 [00:24<00:22, 260.98it/s]\u001b[A\n",
            " 52%|█████▏    | 6257/12000 [00:24<00:21, 263.48it/s]\u001b[A\n",
            " 52%|█████▏    | 6284/12000 [00:24<00:21, 263.98it/s]\u001b[A\n",
            " 53%|█████▎    | 6311/12000 [00:24<00:21, 260.14it/s]\u001b[A\n",
            " 53%|█████▎    | 6338/12000 [00:24<00:21, 258.86it/s]\u001b[A\n",
            " 53%|█████▎    | 6364/12000 [00:24<00:21, 256.77it/s]\u001b[A\n",
            " 53%|█████▎    | 6391/12000 [00:24<00:21, 260.35it/s]\u001b[A\n",
            " 53%|█████▎    | 6419/12000 [00:24<00:21, 264.60it/s]\u001b[A\n",
            " 54%|█████▎    | 6446/12000 [00:24<00:21, 263.47it/s]\u001b[A\n",
            " 54%|█████▍    | 6473/12000 [00:24<00:20, 263.75it/s]\u001b[A\n",
            " 54%|█████▍    | 6500/12000 [00:25<00:21, 252.71it/s]\u001b[A\n",
            " 54%|█████▍    | 6526/12000 [00:25<00:21, 251.12it/s]\u001b[A\n",
            " 55%|█████▍    | 6552/12000 [00:25<00:21, 248.08it/s]\u001b[A\n",
            " 55%|█████▍    | 6577/12000 [00:25<00:22, 239.67it/s]\u001b[A\n",
            " 55%|█████▌    | 6604/12000 [00:25<00:21, 245.81it/s]\u001b[A\n",
            " 55%|█████▌    | 6631/12000 [00:25<00:21, 250.70it/s]\u001b[A\n",
            " 55%|█████▌    | 6657/12000 [00:25<00:21, 251.31it/s]\u001b[A\n",
            " 56%|█████▌    | 6684/12000 [00:25<00:20, 254.70it/s]\u001b[A\n",
            " 56%|█████▌    | 6712/12000 [00:25<00:20, 259.55it/s]\u001b[A\n",
            " 56%|█████▌    | 6740/12000 [00:26<00:19, 263.80it/s]\u001b[A\n",
            " 56%|█████▋    | 6767/12000 [00:26<00:20, 260.26it/s]\u001b[A\n",
            " 57%|█████▋    | 6794/12000 [00:26<00:20, 260.30it/s]\u001b[A\n",
            " 57%|█████▋    | 6821/12000 [00:26<00:19, 262.39it/s]\u001b[A\n",
            " 57%|█████▋    | 6848/12000 [00:26<00:19, 258.30it/s]\u001b[A\n",
            " 57%|█████▋    | 6874/12000 [00:26<00:20, 256.23it/s]\u001b[A\n",
            " 58%|█████▊    | 6901/12000 [00:26<00:19, 257.64it/s]\u001b[A\n",
            " 58%|█████▊    | 6928/12000 [00:26<00:19, 259.12it/s]\u001b[A\n",
            " 58%|█████▊    | 6954/12000 [00:26<00:19, 253.55it/s]\u001b[A\n",
            " 58%|█████▊    | 6981/12000 [00:26<00:19, 256.24it/s]\u001b[A\n",
            " 58%|█████▊    | 7008/12000 [00:27<00:19, 258.20it/s]\u001b[A\n",
            " 59%|█████▊    | 7034/12000 [00:27<00:19, 251.84it/s]\u001b[A\n",
            " 59%|█████▉    | 7060/12000 [00:27<00:19, 253.53it/s]\u001b[A\n",
            " 59%|█████▉    | 7086/12000 [00:27<00:19, 253.92it/s]\u001b[A\n",
            " 59%|█████▉    | 7112/12000 [00:27<00:19, 250.31it/s]\u001b[A\n",
            " 59%|█████▉    | 7138/12000 [00:27<00:19, 249.57it/s]\u001b[A\n",
            " 60%|█████▉    | 7164/12000 [00:27<00:19, 250.47it/s]\u001b[A\n",
            " 60%|█████▉    | 7191/12000 [00:27<00:18, 255.01it/s]\u001b[A\n",
            " 60%|██████    | 7218/12000 [00:27<00:18, 258.85it/s]\u001b[A\n",
            " 60%|██████    | 7244/12000 [00:28<00:18, 254.97it/s]\u001b[A\n",
            " 61%|██████    | 7271/12000 [00:28<00:18, 258.11it/s]\u001b[A\n",
            " 61%|██████    | 7297/12000 [00:28<00:18, 254.11it/s]\u001b[A\n",
            " 61%|██████    | 7324/12000 [00:28<00:18, 257.14it/s]\u001b[A\n",
            " 61%|██████▏   | 7350/12000 [00:28<00:18, 255.93it/s]\u001b[A\n",
            " 61%|██████▏   | 7378/12000 [00:28<00:17, 261.45it/s]\u001b[A\n",
            " 62%|██████▏   | 7405/12000 [00:28<00:17, 262.92it/s]\u001b[A\n",
            " 62%|██████▏   | 7432/12000 [00:28<00:17, 264.38it/s]\u001b[A\n",
            " 62%|██████▏   | 7459/12000 [00:28<00:17, 265.11it/s]\u001b[A\n",
            " 62%|██████▏   | 7486/12000 [00:28<00:17, 256.86it/s]\u001b[A\n",
            " 63%|██████▎   | 7512/12000 [00:29<00:17, 256.95it/s]\u001b[A\n",
            " 63%|██████▎   | 7538/12000 [00:29<00:17, 257.10it/s]\u001b[A\n",
            " 63%|██████▎   | 7564/12000 [00:29<00:17, 254.58it/s]\u001b[A\n",
            " 63%|██████▎   | 7591/12000 [00:29<00:17, 257.91it/s]\u001b[A\n",
            " 63%|██████▎   | 7617/12000 [00:29<00:17, 254.87it/s]\u001b[A\n",
            " 64%|██████▎   | 7643/12000 [00:29<00:17, 253.08it/s]\u001b[A\n",
            " 64%|██████▍   | 7669/12000 [00:29<00:17, 252.43it/s]\u001b[A\n",
            " 64%|██████▍   | 7696/12000 [00:29<00:16, 254.86it/s]\u001b[A\n",
            " 64%|██████▍   | 7722/12000 [00:29<00:16, 252.09it/s]\u001b[A\n",
            " 65%|██████▍   | 7748/12000 [00:29<00:16, 254.25it/s]\u001b[A\n",
            " 65%|██████▍   | 7775/12000 [00:30<00:16, 257.42it/s]\u001b[A\n",
            " 65%|██████▌   | 7801/12000 [00:30<00:16, 255.32it/s]\u001b[A\n",
            " 65%|██████▌   | 7827/12000 [00:30<00:16, 255.50it/s]\u001b[A\n",
            " 65%|██████▌   | 7853/12000 [00:30<00:16, 256.52it/s]\u001b[A\n",
            " 66%|██████▌   | 7879/12000 [00:30<00:16, 254.48it/s]\u001b[A\n",
            " 66%|██████▌   | 7906/12000 [00:30<00:15, 258.51it/s]\u001b[A\n",
            " 66%|██████▌   | 7933/12000 [00:30<00:15, 259.34it/s]\u001b[A\n",
            " 66%|██████▋   | 7959/12000 [00:30<00:15, 256.78it/s]\u001b[A\n",
            " 67%|██████▋   | 7985/12000 [00:30<00:15, 257.23it/s]\u001b[A\n",
            " 67%|██████▋   | 8011/12000 [00:30<00:15, 257.67it/s]\u001b[A\n",
            " 67%|██████▋   | 8038/12000 [00:31<00:15, 260.89it/s]\u001b[A"
          ],
          "name": "stderr"
        },
        {
          "output_type": "stream",
          "text": [
            "[2,  8000] loss: 0.107\n"
          ],
          "name": "stdout"
        },
        {
          "output_type": "stream",
          "text": [
            "\n",
            " 67%|██████▋   | 8065/12000 [00:31<00:15, 257.20it/s]\u001b[A\n",
            " 67%|██████▋   | 8092/12000 [00:31<00:15, 259.32it/s]\u001b[A\n",
            " 68%|██████▊   | 8120/12000 [00:31<00:14, 264.04it/s]\u001b[A\n",
            " 68%|██████▊   | 8147/12000 [00:31<00:15, 255.90it/s]\u001b[A\n",
            " 68%|██████▊   | 8175/12000 [00:31<00:14, 260.91it/s]\u001b[A\n",
            " 68%|██████▊   | 8203/12000 [00:31<00:14, 264.64it/s]\u001b[A\n",
            " 69%|██████▊   | 8230/12000 [00:31<00:14, 257.78it/s]\u001b[A\n",
            " 69%|██████▉   | 8258/12000 [00:31<00:14, 262.16it/s]\u001b[A\n",
            " 69%|██████▉   | 8285/12000 [00:32<00:14, 263.69it/s]\u001b[A\n",
            " 69%|██████▉   | 8312/12000 [00:32<00:13, 263.84it/s]\u001b[A\n",
            " 69%|██████▉   | 8339/12000 [00:32<00:14, 259.31it/s]\u001b[A\n",
            " 70%|██████▉   | 8366/12000 [00:32<00:13, 262.30it/s]\u001b[A\n",
            " 70%|██████▉   | 8393/12000 [00:32<00:13, 264.30it/s]\u001b[A\n",
            " 70%|███████   | 8420/12000 [00:32<00:13, 260.95it/s]\u001b[A\n",
            " 70%|███████   | 8447/12000 [00:32<00:13, 261.18it/s]\u001b[A\n",
            " 71%|███████   | 8475/12000 [00:32<00:13, 264.24it/s]\u001b[A\n",
            " 71%|███████   | 8502/12000 [00:32<00:13, 265.87it/s]\u001b[A\n",
            " 71%|███████   | 8529/12000 [00:32<00:13, 262.45it/s]\u001b[A\n",
            " 71%|███████▏  | 8556/12000 [00:33<00:13, 263.79it/s]\u001b[A\n",
            " 72%|███████▏  | 8584/12000 [00:33<00:12, 265.81it/s]\u001b[A\n",
            " 72%|███████▏  | 8611/12000 [00:33<00:12, 264.16it/s]\u001b[A\n",
            " 72%|███████▏  | 8639/12000 [00:33<00:12, 267.22it/s]\u001b[A\n",
            " 72%|███████▏  | 8666/12000 [00:33<00:12, 264.12it/s]\u001b[A\n",
            " 72%|███████▏  | 8693/12000 [00:33<00:12, 258.13it/s]\u001b[A\n",
            " 73%|███████▎  | 8719/12000 [00:33<00:12, 253.65it/s]\u001b[A\n",
            " 73%|███████▎  | 8745/12000 [00:33<00:12, 253.46it/s]\u001b[A\n",
            " 73%|███████▎  | 8772/12000 [00:33<00:12, 255.73it/s]\u001b[A\n",
            " 73%|███████▎  | 8798/12000 [00:33<00:12, 256.89it/s]\u001b[A\n",
            " 74%|███████▎  | 8825/12000 [00:34<00:12, 259.15it/s]\u001b[A\n",
            " 74%|███████▍  | 8852/12000 [00:34<00:12, 260.85it/s]\u001b[A\n",
            " 74%|███████▍  | 8879/12000 [00:34<00:11, 260.71it/s]\u001b[A\n",
            " 74%|███████▍  | 8906/12000 [00:34<00:12, 255.92it/s]\u001b[A\n",
            " 74%|███████▍  | 8932/12000 [00:34<00:11, 256.10it/s]\u001b[A\n",
            " 75%|███████▍  | 8958/12000 [00:34<00:12, 249.90it/s]\u001b[A\n",
            " 75%|███████▍  | 8985/12000 [00:34<00:11, 254.57it/s]\u001b[A\n",
            " 75%|███████▌  | 9012/12000 [00:34<00:11, 256.44it/s]\u001b[A\n",
            " 75%|███████▌  | 9039/12000 [00:34<00:11, 259.08it/s]\u001b[A\n",
            " 76%|███████▌  | 9066/12000 [00:35<00:11, 260.96it/s]\u001b[A\n",
            " 76%|███████▌  | 9093/12000 [00:35<00:11, 259.42it/s]\u001b[A\n",
            " 76%|███████▌  | 9120/12000 [00:35<00:11, 260.90it/s]\u001b[A\n",
            " 76%|███████▌  | 9147/12000 [00:35<00:10, 263.01it/s]\u001b[A\n",
            " 76%|███████▋  | 9174/12000 [00:35<00:10, 264.30it/s]\u001b[A\n",
            " 77%|███████▋  | 9201/12000 [00:35<00:10, 261.40it/s]\u001b[A\n",
            " 77%|███████▋  | 9228/12000 [00:35<00:10, 261.52it/s]\u001b[A\n",
            " 77%|███████▋  | 9255/12000 [00:35<00:10, 257.82it/s]\u001b[A\n",
            " 77%|███████▋  | 9282/12000 [00:35<00:10, 259.89it/s]\u001b[A\n",
            " 78%|███████▊  | 9309/12000 [00:35<00:10, 259.06it/s]\u001b[A\n",
            " 78%|███████▊  | 9336/12000 [00:36<00:10, 260.87it/s]\u001b[A\n",
            " 78%|███████▊  | 9363/12000 [00:36<00:10, 262.30it/s]\u001b[A\n",
            " 78%|███████▊  | 9390/12000 [00:36<00:09, 263.36it/s]\u001b[A\n",
            " 78%|███████▊  | 9417/12000 [00:36<00:09, 261.23it/s]\u001b[A\n",
            " 79%|███████▊  | 9444/12000 [00:36<00:09, 262.23it/s]\u001b[A\n",
            " 79%|███████▉  | 9471/12000 [00:36<00:09, 259.16it/s]\u001b[A\n",
            " 79%|███████▉  | 9497/12000 [00:36<00:10, 249.53it/s]\u001b[A\n",
            " 79%|███████▉  | 9524/12000 [00:36<00:09, 253.64it/s]\u001b[A\n",
            " 80%|███████▉  | 9550/12000 [00:36<00:09, 254.37it/s]\u001b[A\n",
            " 80%|███████▉  | 9577/12000 [00:37<00:09, 257.14it/s]\u001b[A\n",
            " 80%|████████  | 9603/12000 [00:37<00:09, 255.16it/s]\u001b[A\n",
            " 80%|████████  | 9629/12000 [00:37<00:09, 254.07it/s]\u001b[A\n",
            " 80%|████████  | 9655/12000 [00:37<00:09, 255.67it/s]\u001b[A\n",
            " 81%|████████  | 9682/12000 [00:37<00:08, 258.67it/s]\u001b[A\n",
            " 81%|████████  | 9708/12000 [00:37<00:08, 257.71it/s]\u001b[A\n",
            " 81%|████████  | 9734/12000 [00:37<00:08, 255.26it/s]\u001b[A\n",
            " 81%|████████▏ | 9760/12000 [00:37<00:08, 253.29it/s]\u001b[A\n",
            " 82%|████████▏ | 9786/12000 [00:37<00:08, 252.38it/s]\u001b[A\n",
            " 82%|████████▏ | 9814/12000 [00:37<00:08, 258.77it/s]\u001b[A\n",
            " 82%|████████▏ | 9840/12000 [00:38<00:08, 257.32it/s]\u001b[A\n",
            " 82%|████████▏ | 9866/12000 [00:38<00:08, 254.13it/s]\u001b[A\n",
            " 82%|████████▏ | 9893/12000 [00:38<00:08, 257.49it/s]\u001b[A\n",
            " 83%|████████▎ | 9919/12000 [00:38<00:08, 254.71it/s]\u001b[A\n",
            " 83%|████████▎ | 9945/12000 [00:38<00:08, 254.53it/s]\u001b[A\n",
            " 83%|████████▎ | 9973/12000 [00:38<00:07, 259.93it/s]\u001b[A\n",
            " 83%|████████▎ | 10000/12000 [00:38<00:07, 257.08it/s]\u001b[A\n",
            " 84%|████████▎ | 10026/12000 [00:38<00:07, 256.96it/s]\u001b[A"
          ],
          "name": "stderr"
        },
        {
          "output_type": "stream",
          "text": [
            "[2, 10000] loss: 0.112\n"
          ],
          "name": "stdout"
        },
        {
          "output_type": "stream",
          "text": [
            "\n",
            " 84%|████████▍ | 10054/12000 [00:38<00:07, 259.12it/s]\u001b[A\n",
            " 84%|████████▍ | 10080/12000 [00:38<00:07, 254.30it/s]\u001b[A\n",
            " 84%|████████▍ | 10106/12000 [00:39<00:07, 251.74it/s]\u001b[A\n",
            " 84%|████████▍ | 10132/12000 [00:39<00:07, 253.50it/s]\u001b[A\n",
            " 85%|████████▍ | 10159/12000 [00:39<00:07, 258.17it/s]\u001b[A\n",
            " 85%|████████▍ | 10185/12000 [00:39<00:07, 258.35it/s]\u001b[A\n",
            " 85%|████████▌ | 10212/12000 [00:39<00:06, 260.22it/s]\u001b[A\n",
            " 85%|████████▌ | 10239/12000 [00:39<00:06, 258.49it/s]\u001b[A\n",
            " 86%|████████▌ | 10265/12000 [00:39<00:06, 253.90it/s]\u001b[A\n",
            " 86%|████████▌ | 10292/12000 [00:39<00:06, 257.01it/s]\u001b[A\n",
            " 86%|████████▌ | 10318/12000 [00:39<00:06, 256.96it/s]\u001b[A\n",
            " 86%|████████▌ | 10345/12000 [00:40<00:06, 260.10it/s]\u001b[A\n",
            " 86%|████████▋ | 10372/12000 [00:40<00:06, 261.89it/s]\u001b[A\n",
            " 87%|████████▋ | 10399/12000 [00:40<00:06, 263.01it/s]\u001b[A\n",
            " 87%|████████▋ | 10426/12000 [00:40<00:06, 262.06it/s]\u001b[A\n",
            " 87%|████████▋ | 10453/12000 [00:40<00:05, 263.26it/s]\u001b[A\n",
            " 87%|████████▋ | 10480/12000 [00:40<00:05, 257.50it/s]\u001b[A\n",
            " 88%|████████▊ | 10507/12000 [00:40<00:05, 259.06it/s]\u001b[A\n",
            " 88%|████████▊ | 10533/12000 [00:40<00:05, 256.36it/s]\u001b[A\n",
            " 88%|████████▊ | 10560/12000 [00:40<00:05, 259.70it/s]\u001b[A\n",
            " 88%|████████▊ | 10587/12000 [00:40<00:05, 261.82it/s]\u001b[A\n",
            " 88%|████████▊ | 10614/12000 [00:41<00:05, 258.76it/s]\u001b[A\n",
            " 89%|████████▊ | 10640/12000 [00:41<00:05, 257.91it/s]\u001b[A\n",
            " 89%|████████▉ | 10667/12000 [00:41<00:05, 260.33it/s]\u001b[A\n",
            " 89%|████████▉ | 10694/12000 [00:41<00:05, 260.62it/s]\u001b[A\n",
            " 89%|████████▉ | 10721/12000 [00:41<00:05, 255.63it/s]\u001b[A\n",
            " 90%|████████▉ | 10747/12000 [00:41<00:04, 256.51it/s]\u001b[A\n",
            " 90%|████████▉ | 10773/12000 [00:41<00:05, 244.76it/s]\u001b[A\n",
            " 90%|█████████ | 10800/12000 [00:41<00:04, 250.84it/s]\u001b[A\n",
            " 90%|█████████ | 10827/12000 [00:41<00:04, 254.16it/s]\u001b[A\n",
            " 90%|█████████ | 10853/12000 [00:41<00:04, 255.71it/s]\u001b[A\n",
            " 91%|█████████ | 10880/12000 [00:42<00:04, 259.20it/s]\u001b[A\n",
            " 91%|█████████ | 10907/12000 [00:42<00:04, 260.27it/s]\u001b[A\n",
            " 91%|█████████ | 10934/12000 [00:42<00:04, 257.90it/s]\u001b[A\n",
            " 91%|█████████▏| 10961/12000 [00:42<00:03, 260.60it/s]\u001b[A\n",
            " 92%|█████████▏| 10988/12000 [00:42<00:03, 262.96it/s]\u001b[A\n",
            " 92%|█████████▏| 11016/12000 [00:42<00:03, 265.65it/s]\u001b[A\n",
            " 92%|█████████▏| 11043/12000 [00:42<00:03, 261.93it/s]\u001b[A\n",
            " 92%|█████████▏| 11070/12000 [00:42<00:03, 262.48it/s]\u001b[A\n",
            " 92%|█████████▏| 11097/12000 [00:42<00:03, 260.78it/s]\u001b[A\n",
            " 93%|█████████▎| 11124/12000 [00:43<00:03, 262.66it/s]\u001b[A\n",
            " 93%|█████████▎| 11151/12000 [00:43<00:03, 262.33it/s]\u001b[A\n",
            " 93%|█████████▎| 11178/12000 [00:43<00:03, 264.27it/s]\u001b[A\n",
            " 93%|█████████▎| 11205/12000 [00:43<00:02, 265.62it/s]\u001b[A\n",
            " 94%|█████████▎| 11232/12000 [00:43<00:02, 259.47it/s]\u001b[A\n",
            " 94%|█████████▍| 11258/12000 [00:43<00:02, 256.22it/s]\u001b[A\n",
            " 94%|█████████▍| 11286/12000 [00:43<00:02, 260.36it/s]\u001b[A\n",
            " 94%|█████████▍| 11313/12000 [00:43<00:02, 256.13it/s]\u001b[A\n",
            " 94%|█████████▍| 11340/12000 [00:43<00:02, 259.87it/s]\u001b[A\n",
            " 95%|█████████▍| 11367/12000 [00:43<00:02, 259.90it/s]\u001b[A\n",
            " 95%|█████████▍| 11394/12000 [00:44<00:02, 261.47it/s]\u001b[A\n",
            " 95%|█████████▌| 11421/12000 [00:44<00:02, 263.35it/s]\u001b[A\n",
            " 95%|█████████▌| 11448/12000 [00:44<00:02, 260.30it/s]\u001b[A\n",
            " 96%|█████████▌| 11475/12000 [00:44<00:02, 259.10it/s]\u001b[A\n",
            " 96%|█████████▌| 11502/12000 [00:44<00:01, 261.38it/s]\u001b[A\n",
            " 96%|█████████▌| 11529/12000 [00:44<00:01, 263.13it/s]\u001b[A\n",
            " 96%|█████████▋| 11556/12000 [00:44<00:01, 264.40it/s]\u001b[A\n",
            " 97%|█████████▋| 11583/12000 [00:44<00:01, 256.01it/s]\u001b[A\n",
            " 97%|█████████▋| 11609/12000 [00:44<00:01, 256.88it/s]\u001b[A\n",
            " 97%|█████████▋| 11635/12000 [00:44<00:01, 254.79it/s]\u001b[A\n",
            " 97%|█████████▋| 11662/12000 [00:45<00:01, 257.20it/s]\u001b[A\n",
            " 97%|█████████▋| 11689/12000 [00:45<00:01, 259.14it/s]\u001b[A\n",
            " 98%|█████████▊| 11715/12000 [00:45<00:01, 257.63it/s]\u001b[A\n",
            " 98%|█████████▊| 11741/12000 [00:45<00:01, 254.43it/s]\u001b[A\n",
            " 98%|█████████▊| 11767/12000 [00:45<00:00, 250.90it/s]\u001b[A\n",
            " 98%|█████████▊| 11793/12000 [00:45<00:00, 248.51it/s]\u001b[A\n",
            " 98%|█████████▊| 11820/12000 [00:45<00:00, 253.26it/s]\u001b[A\n",
            " 99%|█████████▊| 11846/12000 [00:45<00:00, 249.68it/s]\u001b[A\n",
            " 99%|█████████▉| 11872/12000 [00:45<00:00, 250.98it/s]\u001b[A\n",
            " 99%|█████████▉| 11899/12000 [00:46<00:00, 254.82it/s]\u001b[A\n",
            " 99%|█████████▉| 11925/12000 [00:46<00:00, 255.78it/s]\u001b[A\n",
            "100%|█████████▉| 11952/12000 [00:46<00:00, 257.58it/s]\u001b[A\n",
            "100%|██████████| 12000/12000 [00:46<00:00, 258.61it/s]\n"
          ],
          "name": "stderr"
        },
        {
          "output_type": "stream",
          "text": [
            "[2, 12000] loss: 0.087\n"
          ],
          "name": "stdout"
        },
        {
          "output_type": "display_data",
          "data": {
            "image/png": "[encoded data removed]",
            "text/plain": [
              "<Figure size 720x504 with 1 Axes>"
            ]
          },
          "metadata": {
            "tags": [],
            "needs_background": "light"
          }
        },
        {
          "output_type": "stream",
          "text": [
            "\r100%|██████████| 2/2 [01:31<00:00, 45.48s/it]"
          ],
          "name": "stderr"
        }
      ]
    },
    {
      "cell_type": "markdown",
      "metadata": {
        "id": "sJ8up_fZmvRc"
      },
      "source": [
        "Протестируем на всём тестовом датасете, используя метрику accuracy_score:"
      ]
    },
    {
      "cell_type": "code",
      "metadata": {
        "id": "RJc3Zea2mvRc"
      },
      "source": [
        "class_correct = list(0. for i in range(10))\n",
        "class_incorrect = list()\n",
        "class_total = list(0. for i in range(10))\n",
        "classes = list([i for i in range(10)])\n",
        "with torch.no_grad():\n",
        "    for data in testloader:\n",
        "        images, labels = data\n",
        "        y_pred = net(images)\n",
        "        _, predicted = torch.max(y_pred, 1)\n",
        "#         print(labels)\n",
        "#         print(predicted)\n",
        "        c = (predicted == labels)\n",
        "#         print(c)\n",
        "        break\n",
        "        for i in range(5):\n",
        "            label = labels[i]\n",
        "#             print(label)\n",
        "#             break\n",
        "#         break\n",
        "            if c[i].item():\n",
        "                class_correct[label] += c[i].item()\n",
        "                class_total[label] += 1\n",
        "            else:\n",
        "                class_incorrect.append([predicted[i].item(), labels[i].item()])\n",
        "                \n",
        "print(class_incorrect)\n",
        "# for i in range(10):\n",
        "#     print('Accuracy of %5s : %2d %%' % (\n",
        "#         classes[i], 100 * class_correct[i] / class_total[i]))"
      ],
      "execution_count": null,
      "outputs": []
    },
    {
      "cell_type": "markdown",
      "metadata": {
        "id": "TbHYsJ43mnpf"
      },
      "source": [
        "### Задача 1\n",
        "\n",
        "Написать код, который выводит те примеры где классификатор ошибся. Проанализировать ошибки и предложить улучшения (в виде research report, google it) классификатор для того чтобы поднять его качество."
      ]
    },
    {
      "cell_type": "markdown",
      "metadata": {
        "id": "nHGNl39Omnpf"
      },
      "source": [
        "### Show failures\n",
        "Initially, there were problems with `net.cuda()`, probobly because of devices cuda drivers are too old for pytorch to recognized. The problem was solved by removing `cuda()` part and using cpu instead.\n",
        "After, shapes of `labels` and `predicted` tensors were checked as well as tensor `c` to determine how they worked. \n",
        "If predicted tensor is [5,0,4,1,9] and labels tensor is [5,9,4,1,9] then tencor `c` will be [True, False, True, True, True]. Thus, it was determined that to show the incorrect results, it is requred to create an array of wrong answers to which tuples of predicted number and actual number will be appended. All left is to print `class_incorrect`."
      ]
    },
    {
      "cell_type": "markdown",
      "metadata": {
        "id": "ca7_nhaCmvRg"
      },
      "source": [
        "---"
      ]
    },
    {
      "cell_type": "markdown",
      "metadata": {
        "id": "LPxtwt8DmvRi"
      },
      "source": [
        "### Задача 2"
      ]
    },
    {
      "cell_type": "markdown",
      "metadata": {
        "id": "2TQgBg3KmvRm"
      },
      "source": [
        "Протестируйте эту нейросеть на отдельных картинках из тестового датасета: напишите функцию, которая принимает индекс картинки в тестовом датасете, отрисовывает её, потом запускает на ней модель (нейросеть) и выводит результат предсказания."
      ]
    },
    {
      "cell_type": "markdown",
      "metadata": {
        "id": "JUKgvCXhmvRq"
      },
      "source": [
        "---"
      ]
    },
    {
      "cell_type": "markdown",
      "metadata": {
        "id": "cr4ftiAGmvRq"
      },
      "source": [
        "<h3 style=\"text-align: center;\"><b>CIFAR10</b></h3>"
      ]
    },
    {
      "cell_type": "markdown",
      "metadata": {
        "id": "i5ndS6LomvRt"
      },
      "source": [
        "<img src=\"https://raw.githubusercontent.com/soumith/ex/gh-pages/assets/cifar10.png\" width=500, height=400>"
      ]
    },
    {
      "cell_type": "markdown",
      "metadata": {
        "id": "zxEQYnT9mvRt"
      },
      "source": [
        "**CIFAR10:** это набор из 60k картинок 32х32х3, 50k которых составляют обучающую выборку, и оставшиеся 10k - тестовую. Классов в этом датасете 10: `'plane', 'car', 'bird', 'cat', 'deer', 'dog', 'frog', 'horse', 'ship', 'truck'`.\n",
        "\n",
        "Скачаем и загрузим в `loader`'ы:\n",
        "\n",
        "**Обратите внимание на аргумент `batch_size`:** именно он будет отвечать за размер батча, который будет подаваться при оптимизации нейросети"
      ]
    },
    {
      "cell_type": "code",
      "metadata": {
        "colab": {
          "base_uri": "https://localhost:8080/"
        },
        "id": "KEH8UgeFmvRu",
        "outputId": "ccb9b619-7c12-4d1b-c419-a63321c5ab7b"
      },
      "source": [
        "transform = transforms.Compose(\n",
        "    [transforms.ToTensor(),\n",
        "    #  transforms.Grayscale(num_output_channels=1),\n",
        "    #  transforms.Normalize(mean=[0.485, 0.456, 0.406],\n",
        "                        #  std=[0.229, 0.224, 0.225] )])\n",
        "     transforms.Normalize((0.5, 0.5, 0.5), (0.5, 0.5, 0.5))])\n",
        "\n",
        "trainset = torchvision.datasets.CIFAR10(root='./data', train=True,\n",
        "                                        download=True, transform=transform)\n",
        "trainloader = torch.utils.data.DataLoader(trainset, batch_size=4,\n",
        "                                          shuffle=True, num_workers=2)\n",
        "\n",
        "testset = torchvision.datasets.CIFAR10(root='./data', train=False,\n",
        "                                       download=True, transform=transform)\n",
        "testloader = torch.utils.data.DataLoader(testset, batch_size=4,\n",
        "                                         shuffle=False, num_workers=2)\n",
        "\n",
        "classes = ('plane', 'car', 'bird', 'cat',\n",
        "           'deer', 'dog', 'frog', 'horse', 'ship', 'truck')"
      ],
      "execution_count": 112,
      "outputs": [
        {
          "output_type": "stream",
          "text": [
            "Files already downloaded and verified\n",
            "Files already downloaded and verified\n"
          ],
          "name": "stdout"
        }
      ]
    },
    {
      "cell_type": "code",
      "metadata": {
        "colab": {
          "base_uri": "https://localhost:8080/"
        },
        "id": "eoc1oV20mnpj",
        "outputId": "3e789e7c-dada-4d5c-9a7d-a6010a3d672f"
      },
      "source": [
        "trainset"
      ],
      "execution_count": 113,
      "outputs": [
        {
          "output_type": "execute_result",
          "data": {
            "text/plain": [
              "Dataset CIFAR10\n",
              "    Number of datapoints: 50000\n",
              "    Root location: ./data\n",
              "    Split: Train\n",
              "    StandardTransform\n",
              "Transform: Compose(\n",
              "               ToTensor()\n",
              "               Normalize(mean=(0.5, 0.5, 0.5), std=(0.5, 0.5, 0.5))\n",
              "           )"
            ]
          },
          "metadata": {
            "tags": []
          },
          "execution_count": 113
        }
      ]
    },
    {
      "cell_type": "code",
      "metadata": {
        "colab": {
          "base_uri": "https://localhost:8080/",
          "height": 612
        },
        "id": "-IxjpMXfmvRy",
        "outputId": "d28b6632-2844-43b1-a822-38f08cc2df2f"
      },
      "source": [
        "# import cv2\n",
        "# случайный индекс от 0 до размера тренировочной выборки\n",
        "i = np.random.randint(low=0, high=50000)\n",
        "\n",
        "plt.imshow(trainloader.dataset.data[i], cmap='gray');\n",
        "image = trainloader.dataset.data[i]\n",
        "image.shape\n",
        "y_pred = net(torch.Tensor(trainloader.dataset.data[i]))\n",
        "print(y_pred)"
      ],
      "execution_count": 114,
      "outputs": [
        {
          "output_type": "error",
          "ename": "RuntimeError",
          "evalue": "ignored",
          "traceback": [
            "\u001b[0;31m---------------------------------------------------------------------------\u001b[0m",
            "\u001b[0;31mRuntimeError\u001b[0m                              Traceback (most recent call last)",
            "\u001b[0;32m<ipython-input-114-f355f6587087>\u001b[0m in \u001b[0;36m<module>\u001b[0;34m()\u001b[0m\n\u001b[1;32m      6\u001b[0m \u001b[0mimage\u001b[0m \u001b[0;34m=\u001b[0m \u001b[0mtrainloader\u001b[0m\u001b[0;34m.\u001b[0m\u001b[0mdataset\u001b[0m\u001b[0;34m.\u001b[0m\u001b[0mdata\u001b[0m\u001b[0;34m[\u001b[0m\u001b[0mi\u001b[0m\u001b[0;34m]\u001b[0m\u001b[0;34m\u001b[0m\u001b[0;34m\u001b[0m\u001b[0m\n\u001b[1;32m      7\u001b[0m \u001b[0mimage\u001b[0m\u001b[0;34m.\u001b[0m\u001b[0mshape\u001b[0m\u001b[0;34m\u001b[0m\u001b[0;34m\u001b[0m\u001b[0m\n\u001b[0;32m----> 8\u001b[0;31m \u001b[0my_pred\u001b[0m \u001b[0;34m=\u001b[0m \u001b[0mnet\u001b[0m\u001b[0;34m(\u001b[0m\u001b[0mtorch\u001b[0m\u001b[0;34m.\u001b[0m\u001b[0mTensor\u001b[0m\u001b[0;34m(\u001b[0m\u001b[0mtrainloader\u001b[0m\u001b[0;34m.\u001b[0m\u001b[0mdataset\u001b[0m\u001b[0;34m.\u001b[0m\u001b[0mdata\u001b[0m\u001b[0;34m[\u001b[0m\u001b[0mi\u001b[0m\u001b[0;34m]\u001b[0m\u001b[0;34m)\u001b[0m\u001b[0;34m)\u001b[0m\u001b[0;34m\u001b[0m\u001b[0;34m\u001b[0m\u001b[0m\n\u001b[0m\u001b[1;32m      9\u001b[0m \u001b[0mprint\u001b[0m\u001b[0;34m(\u001b[0m\u001b[0my_pred\u001b[0m\u001b[0;34m)\u001b[0m\u001b[0;34m\u001b[0m\u001b[0;34m\u001b[0m\u001b[0m\n",
            "\u001b[0;32m/usr/local/lib/python3.7/dist-packages/torch/nn/modules/module.py\u001b[0m in \u001b[0;36m_call_impl\u001b[0;34m(self, *input, **kwargs)\u001b[0m\n\u001b[1;32m    887\u001b[0m             \u001b[0mresult\u001b[0m \u001b[0;34m=\u001b[0m \u001b[0mself\u001b[0m\u001b[0;34m.\u001b[0m\u001b[0m_slow_forward\u001b[0m\u001b[0;34m(\u001b[0m\u001b[0;34m*\u001b[0m\u001b[0minput\u001b[0m\u001b[0;34m,\u001b[0m \u001b[0;34m**\u001b[0m\u001b[0mkwargs\u001b[0m\u001b[0;34m)\u001b[0m\u001b[0;34m\u001b[0m\u001b[0;34m\u001b[0m\u001b[0m\n\u001b[1;32m    888\u001b[0m         \u001b[0;32melse\u001b[0m\u001b[0;34m:\u001b[0m\u001b[0;34m\u001b[0m\u001b[0;34m\u001b[0m\u001b[0m\n\u001b[0;32m--> 889\u001b[0;31m             \u001b[0mresult\u001b[0m \u001b[0;34m=\u001b[0m \u001b[0mself\u001b[0m\u001b[0;34m.\u001b[0m\u001b[0mforward\u001b[0m\u001b[0;34m(\u001b[0m\u001b[0;34m*\u001b[0m\u001b[0minput\u001b[0m\u001b[0;34m,\u001b[0m \u001b[0;34m**\u001b[0m\u001b[0mkwargs\u001b[0m\u001b[0;34m)\u001b[0m\u001b[0;34m\u001b[0m\u001b[0;34m\u001b[0m\u001b[0m\n\u001b[0m\u001b[1;32m    890\u001b[0m         for hook in itertools.chain(\n\u001b[1;32m    891\u001b[0m                 \u001b[0m_global_forward_hooks\u001b[0m\u001b[0;34m.\u001b[0m\u001b[0mvalues\u001b[0m\u001b[0;34m(\u001b[0m\u001b[0;34m)\u001b[0m\u001b[0;34m,\u001b[0m\u001b[0;34m\u001b[0m\u001b[0;34m\u001b[0m\u001b[0m\n",
            "\u001b[0;32m<ipython-input-109-13d958dcbbde>\u001b[0m in \u001b[0;36mforward\u001b[0;34m(self, x)\u001b[0m\n\u001b[1;32m     16\u001b[0m     \u001b[0;32mdef\u001b[0m \u001b[0mforward\u001b[0m\u001b[0;34m(\u001b[0m\u001b[0mself\u001b[0m\u001b[0;34m,\u001b[0m \u001b[0mx\u001b[0m\u001b[0;34m)\u001b[0m\u001b[0;34m:\u001b[0m\u001b[0;34m\u001b[0m\u001b[0;34m\u001b[0m\u001b[0m\n\u001b[1;32m     17\u001b[0m         \u001b[0;31m#еапишите свой код тут\u001b[0m\u001b[0;34m\u001b[0m\u001b[0;34m\u001b[0m\u001b[0;34m\u001b[0m\u001b[0m\n\u001b[0;32m---> 18\u001b[0;31m         \u001b[0mx\u001b[0m \u001b[0;34m=\u001b[0m \u001b[0mself\u001b[0m\u001b[0;34m.\u001b[0m\u001b[0mpool\u001b[0m\u001b[0;34m(\u001b[0m\u001b[0mF\u001b[0m\u001b[0;34m.\u001b[0m\u001b[0mrelu\u001b[0m\u001b[0;34m(\u001b[0m\u001b[0mself\u001b[0m\u001b[0;34m.\u001b[0m\u001b[0mconv1\u001b[0m\u001b[0;34m(\u001b[0m\u001b[0mx\u001b[0m\u001b[0;34m)\u001b[0m\u001b[0;34m)\u001b[0m\u001b[0;34m)\u001b[0m\u001b[0;34m\u001b[0m\u001b[0;34m\u001b[0m\u001b[0m\n\u001b[0m\u001b[1;32m     19\u001b[0m         \u001b[0mx\u001b[0m \u001b[0;34m=\u001b[0m \u001b[0mself\u001b[0m\u001b[0;34m.\u001b[0m\u001b[0mpool\u001b[0m\u001b[0;34m(\u001b[0m\u001b[0mF\u001b[0m\u001b[0;34m.\u001b[0m\u001b[0mrelu\u001b[0m\u001b[0;34m(\u001b[0m\u001b[0mself\u001b[0m\u001b[0;34m.\u001b[0m\u001b[0mconv2\u001b[0m\u001b[0;34m(\u001b[0m\u001b[0mx\u001b[0m\u001b[0;34m)\u001b[0m\u001b[0;34m)\u001b[0m\u001b[0;34m)\u001b[0m\u001b[0;34m\u001b[0m\u001b[0;34m\u001b[0m\u001b[0m\n\u001b[1;32m     20\u001b[0m         \u001b[0mx\u001b[0m \u001b[0;34m=\u001b[0m \u001b[0mtorch\u001b[0m\u001b[0;34m.\u001b[0m\u001b[0mflatten\u001b[0m\u001b[0;34m(\u001b[0m\u001b[0mx\u001b[0m\u001b[0;34m,\u001b[0m \u001b[0;36m1\u001b[0m\u001b[0;34m)\u001b[0m\u001b[0;34m\u001b[0m\u001b[0;34m\u001b[0m\u001b[0m\n",
            "\u001b[0;32m/usr/local/lib/python3.7/dist-packages/torch/nn/modules/module.py\u001b[0m in \u001b[0;36m_call_impl\u001b[0;34m(self, *input, **kwargs)\u001b[0m\n\u001b[1;32m    887\u001b[0m             \u001b[0mresult\u001b[0m \u001b[0;34m=\u001b[0m \u001b[0mself\u001b[0m\u001b[0;34m.\u001b[0m\u001b[0m_slow_forward\u001b[0m\u001b[0;34m(\u001b[0m\u001b[0;34m*\u001b[0m\u001b[0minput\u001b[0m\u001b[0;34m,\u001b[0m \u001b[0;34m**\u001b[0m\u001b[0mkwargs\u001b[0m\u001b[0;34m)\u001b[0m\u001b[0;34m\u001b[0m\u001b[0;34m\u001b[0m\u001b[0m\n\u001b[1;32m    888\u001b[0m         \u001b[0;32melse\u001b[0m\u001b[0;34m:\u001b[0m\u001b[0;34m\u001b[0m\u001b[0;34m\u001b[0m\u001b[0m\n\u001b[0;32m--> 889\u001b[0;31m             \u001b[0mresult\u001b[0m \u001b[0;34m=\u001b[0m \u001b[0mself\u001b[0m\u001b[0;34m.\u001b[0m\u001b[0mforward\u001b[0m\u001b[0;34m(\u001b[0m\u001b[0;34m*\u001b[0m\u001b[0minput\u001b[0m\u001b[0;34m,\u001b[0m \u001b[0;34m**\u001b[0m\u001b[0mkwargs\u001b[0m\u001b[0;34m)\u001b[0m\u001b[0;34m\u001b[0m\u001b[0;34m\u001b[0m\u001b[0m\n\u001b[0m\u001b[1;32m    890\u001b[0m         for hook in itertools.chain(\n\u001b[1;32m    891\u001b[0m                 \u001b[0m_global_forward_hooks\u001b[0m\u001b[0;34m.\u001b[0m\u001b[0mvalues\u001b[0m\u001b[0;34m(\u001b[0m\u001b[0;34m)\u001b[0m\u001b[0;34m,\u001b[0m\u001b[0;34m\u001b[0m\u001b[0;34m\u001b[0m\u001b[0m\n",
            "\u001b[0;32m/usr/local/lib/python3.7/dist-packages/torch/nn/modules/conv.py\u001b[0m in \u001b[0;36mforward\u001b[0;34m(self, input)\u001b[0m\n\u001b[1;32m    397\u001b[0m \u001b[0;34m\u001b[0m\u001b[0m\n\u001b[1;32m    398\u001b[0m     \u001b[0;32mdef\u001b[0m \u001b[0mforward\u001b[0m\u001b[0;34m(\u001b[0m\u001b[0mself\u001b[0m\u001b[0;34m,\u001b[0m \u001b[0minput\u001b[0m\u001b[0;34m:\u001b[0m \u001b[0mTensor\u001b[0m\u001b[0;34m)\u001b[0m \u001b[0;34m->\u001b[0m \u001b[0mTensor\u001b[0m\u001b[0;34m:\u001b[0m\u001b[0;34m\u001b[0m\u001b[0;34m\u001b[0m\u001b[0m\n\u001b[0;32m--> 399\u001b[0;31m         \u001b[0;32mreturn\u001b[0m \u001b[0mself\u001b[0m\u001b[0;34m.\u001b[0m\u001b[0m_conv_forward\u001b[0m\u001b[0;34m(\u001b[0m\u001b[0minput\u001b[0m\u001b[0;34m,\u001b[0m \u001b[0mself\u001b[0m\u001b[0;34m.\u001b[0m\u001b[0mweight\u001b[0m\u001b[0;34m,\u001b[0m \u001b[0mself\u001b[0m\u001b[0;34m.\u001b[0m\u001b[0mbias\u001b[0m\u001b[0;34m)\u001b[0m\u001b[0;34m\u001b[0m\u001b[0;34m\u001b[0m\u001b[0m\n\u001b[0m\u001b[1;32m    400\u001b[0m \u001b[0;34m\u001b[0m\u001b[0m\n\u001b[1;32m    401\u001b[0m \u001b[0;32mclass\u001b[0m \u001b[0mConv3d\u001b[0m\u001b[0;34m(\u001b[0m\u001b[0m_ConvNd\u001b[0m\u001b[0;34m)\u001b[0m\u001b[0;34m:\u001b[0m\u001b[0;34m\u001b[0m\u001b[0;34m\u001b[0m\u001b[0m\n",
            "\u001b[0;32m/usr/local/lib/python3.7/dist-packages/torch/nn/modules/conv.py\u001b[0m in \u001b[0;36m_conv_forward\u001b[0;34m(self, input, weight, bias)\u001b[0m\n\u001b[1;32m    394\u001b[0m                             _pair(0), self.dilation, self.groups)\n\u001b[1;32m    395\u001b[0m         return F.conv2d(input, weight, bias, self.stride,\n\u001b[0;32m--> 396\u001b[0;31m                         self.padding, self.dilation, self.groups)\n\u001b[0m\u001b[1;32m    397\u001b[0m \u001b[0;34m\u001b[0m\u001b[0m\n\u001b[1;32m    398\u001b[0m     \u001b[0;32mdef\u001b[0m \u001b[0mforward\u001b[0m\u001b[0;34m(\u001b[0m\u001b[0mself\u001b[0m\u001b[0;34m,\u001b[0m \u001b[0minput\u001b[0m\u001b[0;34m:\u001b[0m \u001b[0mTensor\u001b[0m\u001b[0;34m)\u001b[0m \u001b[0;34m->\u001b[0m \u001b[0mTensor\u001b[0m\u001b[0;34m:\u001b[0m\u001b[0;34m\u001b[0m\u001b[0;34m\u001b[0m\u001b[0m\n",
            "\u001b[0;31mRuntimeError\u001b[0m: Expected 4-dimensional input for 4-dimensional weight [6, 3, 5, 5], but got 3-dimensional input of size [32, 32, 3] instead"
          ]
        },
        {
          "output_type": "display_data",
          "data": {
            "image/png": "[encoded data removed]",
            "text/plain": [
              "<Figure size 432x288 with 1 Axes>"
            ]
          },
          "metadata": {
            "tags": [],
            "needs_background": "light"
          }
        }
      ]
    },
    {
      "cell_type": "markdown",
      "metadata": {
        "id": "xAUH5D9tmvR0"
      },
      "source": [
        "То есть мы имеем дело с кусочками данных размера batch_size (в данном случае = 4), причём в каждом батче есть как объекты, так и ответы на них (то есть и $X$, и $y$).\n",
        "\n",
        "Данные готовы, мы даже на них посмотрели.\n",
        "\n",
        "К делу:"
      ]
    },
    {
      "cell_type": "markdown",
      "metadata": {
        "id": "yIzpcJkZmvR2"
      },
      "source": [
        "### Задача 3"
      ]
    },
    {
      "cell_type": "markdown",
      "metadata": {
        "id": "FEzw5SbZmvR3"
      },
      "source": [
        "Напишите свою свёрточную нейросеть для предсказания на CIFAR10."
      ]
    },
    {
      "cell_type": "code",
      "metadata": {
        "colab": {
          "base_uri": "https://localhost:8080/"
        },
        "id": "TdTa6-E3HNlN",
        "outputId": "63fec83e-1d0a-4348-9b1f-c5add4c34ef0"
      },
      "source": [
        "next(iter(trainloader))[0].shape"
      ],
      "execution_count": 115,
      "outputs": [
        {
          "output_type": "execute_result",
          "data": {
            "text/plain": [
              "torch.Size([4, 3, 32, 32])"
            ]
          },
          "metadata": {
            "tags": []
          },
          "execution_count": 115
        }
      ]
    },
    {
      "cell_type": "code",
      "metadata": {
        "id": "oCVhQM1mmvR3"
      },
      "source": [
        "class MyConvNet(nn.Module):\n",
        "    def __init__(self):\n",
        "        # вызов конструктора предка\n",
        "        super().__init__()\n",
        "        # необходмо заранее знать, сколько каналов у картинки (сейчас = 1),\n",
        "        # которую будем подавать в сеть, больше ничего\n",
        "        # про входящие картинки знать не нужно\n",
        "        # Напишите свой код тут\n",
        "        self.conv1 = nn.Conv2d(3,6,5)\n",
        "        self.pool = nn.MaxPool2d(2,2)\n",
        "        self.conv2 = nn.Conv2d(6,16,5)\n",
        "        self.fc1 = nn.Linear(16*5*5, 120)\n",
        "        self.fc2 = nn.Linear(120, 84)\n",
        "        self.fc3 = nn.Linear(84, 10)\n",
        "        \n",
        "    def forward(self, x):\n",
        "        #еапишите свой код тут\n",
        "        x = self.pool(F.relu(self.conv1(x)))\n",
        "        x = self.pool(F.relu(self.conv2(x)))\n",
        "        x = torch.flatten(x, 1)\n",
        "        x = F.relu(self.fc1(x))\n",
        "        x = F.relu(self.fc2(x))\n",
        "        x = self.fc3(x)\n",
        "        return x"
      ],
      "execution_count": 116,
      "outputs": []
    },
    {
      "cell_type": "markdown",
      "metadata": {
        "id": "yWwW8daBmvR7"
      },
      "source": [
        "Обучим:"
      ]
    },
    {
      "cell_type": "code",
      "metadata": {
        "colab": {
          "base_uri": "https://localhost:8080/",
          "height": 1000,
          "referenced_widgets": [
            "099ccc9fef6949c9ab21a9775066a511",
            "f3a909f4a18b418fb81f313e8130090e",
            "569e6f51bad7421ab8509c361ca37659",
            "df78b4f6af7e4739b8b9d3c632ac7f82",
            "9e4baa37a26942fd9bc31abf87a1ebcd",
            "79e896407c6e4012a4729a04a63158a7",
            "d18451ece0914a8dabeda37ed61906e0",
            "67e15944c04642b4b3b4f71110d7b83f",
            "f0f6407cd673487a8478c6fd4f5514e8",
            "bb237301ee174af5a167450cccc81c26",
            "1ab390efabac4ef3a777cf08cdead2be",
            "c8f25eb9350f47e78f46572f967fd7dc",
            "9a11d47a267f418ab599f3a349c5c126",
            "52bea37e47a64dc1a2d278f747714345",
            "e041e88ab3f44e2b8fdb7f69092caaa5",
            "3b051168545b408ca3475711b122a7c8",
            "fb27d4705388419f98ca03dfcdf82cfa",
            "2526763810c24d57bab0c6d6bc7637ee",
            "98e25c4f372248288e1b69bf9837cbb0",
            "c1376c882b7149a9ac7431e0467d8a15",
            "ae3be1e95f6d4862922760a02cd3d3f7",
            "b4c6ad9c3d6645deb7d7a44115bd1bba",
            "87579fe0e00143a5a2a1332cb938f7a3",
            "b3b68bb434c5489aa119f58dddd1074a",
            "95e0bc57a73946a8a9cc7d59b7ecf70e",
            "74b93f947ab04d83ada11df2e0e7e44f",
            "4e83cb602877430aaaf981416ca31c01",
            "a3587765dc01453c8c3dc379c3aaacce",
            "ff02cbe1237d445b86cadef8154d54cb",
            "14429018d3664607933c294004390c4b",
            "c2daf5ed59cc48a8bc1c274c902f0b6a",
            "67d74dac0ccd4faeb2002d8698921858",
            "4cfede03b35d4302b11207d689084d31",
            "324804014f0e444c9f36bd3dcce9396b",
            "44d225c4a92647a1ae8af6bd7fe47401",
            "37be281364344e549673647378314cec",
            "f4de3edd45404154ba886b644f43c49f",
            "adf6b9ad5a4c4f889a170db8cd119fc1",
            "85bbc4f222d94033a52cf958036e6979",
            "aeaf574e640a40b6a5b71076c93b6a33",
            "128d6e67150e44488a02624d08b2c684",
            "bbd9f4fd452f40f28e91876929cf1494",
            "40ae9ac47fa04d988f0000dbadd2916a",
            "5cdf6a3f45e345a9a38b756a8808cb94",
            "9909e4c11e464b9db111f5c8e7762030",
            "d484393c32a2497cb18f4dd479306979",
            "cb78b87b7107488f8071270927ea4813",
            "4a9a7992a8a34c14a119863720689fb1",
            "664ea40f67a74338babb13f113473865",
            "a6a715dba3ce42c987f56236d9f27342",
            "6977abbb808444419f69fa17d425a958",
            "c1e9eba46db54e40801856ed8db34bb9",
            "6790886f8da748e7a68e100b17e5310a",
            "e496753355a54133b2f2e56a0116d39d",
            "aec8a9b0fdd948619266e2fb07a63efd",
            "ed8da9cc480641f19b9ef865ecb86040",
            "c59881c513da40a88cb89845b813d36b",
            "54a765a36cc6460e8404c2a96876ebbb",
            "1039228fc7d542868085858a1da5f638",
            "04466b71cba44528a733e8acdc6c1ec6",
            "ad28356cb8ca4482b6e627a59e536399",
            "9c41205c7e12425aa06efafb0763af08",
            "4137ce961ed44a5f882d107317af6fae",
            "3a4c8bada7c74fd386c6c483b33b99f3",
            "a11d3acee5b146b0b9302278742c6c9e",
            "bcec80aaf808431fac485502474632aa",
            "452ef213436e4c7eaa74ba170c95225d",
            "5c79d1109fab444094102c2e322db9ae",
            "3fbbe53446b24b87a8b0ecc855453731",
            "aa1e200cc7914f56b02adf756160caf1",
            "0c523597a8a245388cbbac3accdd7386",
            "c9aba81e118c4fa0a88b4a35bb51d93c",
            "dce14be808ca4cc58a184c4a331032c3",
            "a23f2d1032f5443480e0cb5ce173d291",
            "8b7d002bf93c453c805febdcb2d88284",
            "7ab63b5d7773427ca92cc52643bdc550",
            "9c58b654b0fe441493f5b38143865697",
            "260996eb7eca412b92801321b984f143",
            "3765140333f04824923b20c868207957",
            "b8129ee0b2ed477fbddf770bde0d8459",
            "0572b4b0ede34836930204571885cd09",
            "19de72d588c24ecebd01ff6843e320fa",
            "373b7aab3b474cd69f72324e0e9fd97b",
            "505cf8a2c0ea4d67b7f813a79bdf1fc8",
            "3980a78a8b7a4dbdb61b924d04514b5b",
            "769a0dee7e7b450abfe9fe74bd25c3e4",
            "e6813a58374746c3adbed3aafaefbe95",
            "f6269d5033aa47df916a4890f4466b69"
          ]
        },
        "id": "EGOjA5ABmvR-",
        "outputId": "c4861af8-6861-4f39-90ef-8a40177b8435"
      },
      "source": [
        "# пример взят из официального туториала: \n",
        "# https://pytorch.org/tutorials/beginner/blitz/cifar10_tutorial.html\n",
        "\n",
        "net = MyConvNet()\n",
        "\n",
        "loss_fn = torch.nn.CrossEntropyLoss()\n",
        "losses = []\n",
        "\n",
        "learning_rate = 1e-4\n",
        "optimizer = torch.optim.Adam(net.parameters(), lr=learning_rate)\n",
        "\n",
        "# итерируемся\n",
        "for epoch in tqdm_notebook(range(10)):\n",
        "\n",
        "    running_loss = 0.0\n",
        "    for i, batch in enumerate(tqdm_notebook(trainloader)):\n",
        "        # напишите свой код тут\n",
        "        X_batch, y_batch = batch\n",
        "        \n",
        "        # обнуляем веса\n",
        "        optimizer.zero_grad()\n",
        "\n",
        "        # forward + backward + optimize\n",
        "        y_pred = net(X_batch)\n",
        "        loss = loss_fn(y_pred, y_batch)\n",
        "        loss.backward()\n",
        "        optimizer.step()\n",
        "\n",
        "        # выведем текущий loss\n",
        "        running_loss += loss.item()\n",
        "        # выводем качество каждые 2000 батчей\n",
        "        if i % 2000 == 1999:\n",
        "            print('[%d, %5d] loss: %.3f' %\n",
        "                  (epoch + 1, i + 1, running_loss / 2000))\n",
        "            running_loss = 0.0\n",
        "\n",
        "print('Обучение закончено')"
      ],
      "execution_count": 120,
      "outputs": [
        {
          "output_type": "stream",
          "text": [
            "/usr/local/lib/python3.7/dist-packages/ipykernel_launcher.py:13: TqdmDeprecationWarning: This function will be removed in tqdm==5.0.0\n",
            "Please use `tqdm.notebook.tqdm` instead of `tqdm.tqdm_notebook`\n",
            "  del sys.path[0]\n"
          ],
          "name": "stderr"
        },
        {
          "output_type": "display_data",
          "data": {
            "application/vnd.jupyter.widget-view+json": {
              "model_id": "099ccc9fef6949c9ab21a9775066a511",
              "version_minor": 0,
              "version_major": 2
            },
            "text/plain": [
              "HBox(children=(FloatProgress(value=0.0, max=10.0), HTML(value='')))"
            ]
          },
          "metadata": {
            "tags": []
          }
        },
        {
          "output_type": "stream",
          "text": [
            "/usr/local/lib/python3.7/dist-packages/ipykernel_launcher.py:16: TqdmDeprecationWarning: This function will be removed in tqdm==5.0.0\n",
            "Please use `tqdm.notebook.tqdm` instead of `tqdm.tqdm_notebook`\n",
            "  app.launch_new_instance()\n"
          ],
          "name": "stderr"
        },
        {
          "output_type": "display_data",
          "data": {
            "application/vnd.jupyter.widget-view+json": {
              "model_id": "f0f6407cd673487a8478c6fd4f5514e8",
              "version_minor": 0,
              "version_major": 2
            },
            "text/plain": [
              "HBox(children=(FloatProgress(value=0.0, max=12500.0), HTML(value='')))"
            ]
          },
          "metadata": {
            "tags": []
          }
        },
        {
          "output_type": "stream",
          "text": [
            "[1,  2000] loss: 2.051\n",
            "[1,  4000] loss: 1.842\n",
            "[1,  6000] loss: 1.758\n",
            "[1,  8000] loss: 1.674\n",
            "[1, 10000] loss: 1.615\n",
            "[1, 12000] loss: 1.580\n",
            "\n"
          ],
          "name": "stdout"
        },
        {
          "output_type": "display_data",
          "data": {
            "application/vnd.jupyter.widget-view+json": {
              "model_id": "fb27d4705388419f98ca03dfcdf82cfa",
              "version_minor": 0,
              "version_major": 2
            },
            "text/plain": [
              "HBox(children=(FloatProgress(value=0.0, max=12500.0), HTML(value='')))"
            ]
          },
          "metadata": {
            "tags": []
          }
        },
        {
          "output_type": "stream",
          "text": [
            "[2,  2000] loss: 1.546\n",
            "[2,  4000] loss: 1.521\n",
            "[2,  6000] loss: 1.502\n",
            "[2,  8000] loss: 1.479\n",
            "[2, 10000] loss: 1.432\n",
            "[2, 12000] loss: 1.458\n",
            "\n"
          ],
          "name": "stdout"
        },
        {
          "output_type": "display_data",
          "data": {
            "application/vnd.jupyter.widget-view+json": {
              "model_id": "95e0bc57a73946a8a9cc7d59b7ecf70e",
              "version_minor": 0,
              "version_major": 2
            },
            "text/plain": [
              "HBox(children=(FloatProgress(value=0.0, max=12500.0), HTML(value='')))"
            ]
          },
          "metadata": {
            "tags": []
          }
        },
        {
          "output_type": "stream",
          "text": [
            "[3,  2000] loss: 1.418\n",
            "[3,  4000] loss: 1.407\n",
            "[3,  6000] loss: 1.389\n",
            "[3,  8000] loss: 1.379\n",
            "[3, 10000] loss: 1.381\n",
            "[3, 12000] loss: 1.349\n",
            "\n"
          ],
          "name": "stdout"
        },
        {
          "output_type": "display_data",
          "data": {
            "application/vnd.jupyter.widget-view+json": {
              "model_id": "4cfede03b35d4302b11207d689084d31",
              "version_minor": 0,
              "version_major": 2
            },
            "text/plain": [
              "HBox(children=(FloatProgress(value=0.0, max=12500.0), HTML(value='')))"
            ]
          },
          "metadata": {
            "tags": []
          }
        },
        {
          "output_type": "stream",
          "text": [
            "[4,  2000] loss: 1.336\n",
            "[4,  4000] loss: 1.318\n",
            "[4,  6000] loss: 1.330\n",
            "[4,  8000] loss: 1.292\n",
            "[4, 10000] loss: 1.300\n",
            "[4, 12000] loss: 1.286\n",
            "\n"
          ],
          "name": "stdout"
        },
        {
          "output_type": "display_data",
          "data": {
            "application/vnd.jupyter.widget-view+json": {
              "model_id": "128d6e67150e44488a02624d08b2c684",
              "version_minor": 0,
              "version_major": 2
            },
            "text/plain": [
              "HBox(children=(FloatProgress(value=0.0, max=12500.0), HTML(value='')))"
            ]
          },
          "metadata": {
            "tags": []
          }
        },
        {
          "output_type": "stream",
          "text": [
            "[5,  2000] loss: 1.285\n",
            "[5,  4000] loss: 1.269\n",
            "[5,  6000] loss: 1.251\n",
            "[5,  8000] loss: 1.252\n",
            "[5, 10000] loss: 1.239\n",
            "[5, 12000] loss: 1.226\n",
            "\n"
          ],
          "name": "stdout"
        },
        {
          "output_type": "display_data",
          "data": {
            "application/vnd.jupyter.widget-view+json": {
              "model_id": "664ea40f67a74338babb13f113473865",
              "version_minor": 0,
              "version_major": 2
            },
            "text/plain": [
              "HBox(children=(FloatProgress(value=0.0, max=12500.0), HTML(value='')))"
            ]
          },
          "metadata": {
            "tags": []
          }
        },
        {
          "output_type": "stream",
          "text": [
            "[6,  2000] loss: 1.216\n",
            "[6,  4000] loss: 1.222\n",
            "[6,  6000] loss: 1.204\n",
            "[6,  8000] loss: 1.198\n",
            "[6, 10000] loss: 1.199\n",
            "[6, 12000] loss: 1.192\n",
            "\n"
          ],
          "name": "stdout"
        },
        {
          "output_type": "display_data",
          "data": {
            "application/vnd.jupyter.widget-view+json": {
              "model_id": "c59881c513da40a88cb89845b813d36b",
              "version_minor": 0,
              "version_major": 2
            },
            "text/plain": [
              "HBox(children=(FloatProgress(value=0.0, max=12500.0), HTML(value='')))"
            ]
          },
          "metadata": {
            "tags": []
          }
        },
        {
          "output_type": "stream",
          "text": [
            "[7,  2000] loss: 1.183\n",
            "[7,  4000] loss: 1.169\n",
            "[7,  6000] loss: 1.138\n",
            "[7,  8000] loss: 1.175\n",
            "[7, 10000] loss: 1.156\n",
            "[7, 12000] loss: 1.160\n",
            "\n"
          ],
          "name": "stdout"
        },
        {
          "output_type": "display_data",
          "data": {
            "application/vnd.jupyter.widget-view+json": {
              "model_id": "a11d3acee5b146b0b9302278742c6c9e",
              "version_minor": 0,
              "version_major": 2
            },
            "text/plain": [
              "HBox(children=(FloatProgress(value=0.0, max=12500.0), HTML(value='')))"
            ]
          },
          "metadata": {
            "tags": []
          }
        },
        {
          "output_type": "stream",
          "text": [
            "[8,  2000] loss: 1.124\n",
            "[8,  4000] loss: 1.143\n",
            "[8,  6000] loss: 1.124\n",
            "[8,  8000] loss: 1.140\n",
            "[8, 10000] loss: 1.100\n",
            "[8, 12000] loss: 1.118\n",
            "\n"
          ],
          "name": "stdout"
        },
        {
          "output_type": "display_data",
          "data": {
            "application/vnd.jupyter.widget-view+json": {
              "model_id": "dce14be808ca4cc58a184c4a331032c3",
              "version_minor": 0,
              "version_major": 2
            },
            "text/plain": [
              "HBox(children=(FloatProgress(value=0.0, max=12500.0), HTML(value='')))"
            ]
          },
          "metadata": {
            "tags": []
          }
        },
        {
          "output_type": "stream",
          "text": [
            "[9,  2000] loss: 1.092\n",
            "[9,  4000] loss: 1.098\n",
            "[9,  6000] loss: 1.089\n",
            "[9,  8000] loss: 1.095\n",
            "[9, 10000] loss: 1.092\n",
            "[9, 12000] loss: 1.072\n",
            "\n"
          ],
          "name": "stdout"
        },
        {
          "output_type": "display_data",
          "data": {
            "application/vnd.jupyter.widget-view+json": {
              "model_id": "0572b4b0ede34836930204571885cd09",
              "version_minor": 0,
              "version_major": 2
            },
            "text/plain": [
              "HBox(children=(FloatProgress(value=0.0, max=12500.0), HTML(value='')))"
            ]
          },
          "metadata": {
            "tags": []
          }
        },
        {
          "output_type": "stream",
          "text": [
            "[10,  2000] loss: 1.057\n",
            "[10,  4000] loss: 1.053\n",
            "[10,  6000] loss: 1.066\n",
            "[10,  8000] loss: 1.054\n",
            "[10, 10000] loss: 1.049\n",
            "[10, 12000] loss: 1.077\n",
            "\n",
            "\n",
            "Обучение закончено\n"
          ],
          "name": "stdout"
        }
      ]
    },
    {
      "cell_type": "markdown",
      "metadata": {
        "id": "u4doogQbmvSA"
      },
      "source": [
        "Посмотрим на accuracy на тестовом датасете:"
      ]
    },
    {
      "cell_type": "code",
      "metadata": {
        "id": "VEzyCJHXmvSA"
      },
      "source": [
        "class_correct = list(0. for i in range(10))\n",
        "class_total = list(0. for i in range(10))\n",
        "\n",
        "with torch.no_grad():\n",
        "    for data in testloader:\n",
        "        images, labels = data\n",
        "        y_pred = net(images)#.view(4, -1))\n",
        "        _, predicted = torch.max(y_pred, 1)\n",
        "        c = (predicted == labels).squeeze()\n",
        "        for i in range(4):\n",
        "            label = labels[i]\n",
        "            class_correct[label] += c[i].item()\n",
        "            class_total[label] += 1\n",
        "\n",
        "\n",
        "for i in range(10):\n",
        "    print('Accuracy of %5s : %2d %%' % (\n",
        "        classes[i], 100 * class_correct[i] / class_total[i]))"
      ],
      "execution_count": null,
      "outputs": []
    },
    {
      "cell_type": "markdown",
      "metadata": {
        "id": "C4OF55kMmvSE"
      },
      "source": [
        "Как думаете, этого достаточно?"
      ]
    },
    {
      "cell_type": "markdown",
      "metadata": {
        "id": "F__l8jHsmvSF"
      },
      "source": [
        "### Задача 4  \n",
        "\n",
        "Улучшите свёрточную нейросеть: поэкспериментируйте с архитектурой (количество слоёв, порядок слоёв), с гиперпараметрами слоёв (размеры kernel_size, размеры pooling'а, количество kernel'ов в свёрточном слое) и с гиперпараметрами, указанными в \"Компоненты нейросети\" (см. памятку выше)."
      ]
    },
    {
      "cell_type": "code",
      "metadata": {
        "colab": {
          "base_uri": "https://localhost:8080/"
        },
        "id": "moepyKFemvSG",
        "outputId": "2f4ab5a1-106f-4838-c2e6-1ab8ae9b3fe3"
      },
      "source": [
        "# Ваш код здесь\n",
        "transform = transforms.Compose(\n",
        "    [transforms.ToTensor(),\n",
        "    #  transforms.Grayscale(num_output_channels=1),\n",
        "    #  transforms.Normalize(mean=[0.485, 0.456, 0.406],\n",
        "                        #  std=[0.229, 0.224, 0.225] )])\n",
        "     transforms.Normalize((0.5, 0.5, 0.5), (0.5, 0.5, 0.5))])\n",
        "\n",
        "trainset = torchvision.datasets.CIFAR10(root='./data', train=True,\n",
        "                                        download=True, transform=transform)\n",
        "trainloader = torch.utils.data.DataLoader(trainset, batch_size=5,\n",
        "                                          shuffle=True, num_workers=2)\n",
        "\n",
        "testset = torchvision.datasets.CIFAR10(root='./data', train=False,\n",
        "                                       download=True, transform=transform)\n",
        "testloader = torch.utils.data.DataLoader(testset, batch_size=5,\n",
        "                                         shuffle=False, num_workers=2)\n",
        "\n",
        "classes = ('plane', 'car', 'bird', 'cat',\n",
        "           'deer', 'dog', 'frog', 'horse', 'ship', 'truck')"
      ],
      "execution_count": 154,
      "outputs": [
        {
          "output_type": "stream",
          "text": [
            "Files already downloaded and verified\n",
            "Files already downloaded and verified\n"
          ],
          "name": "stdout"
        }
      ]
    },
    {
      "cell_type": "code",
      "metadata": {
        "id": "oN_DTa_ykXZ1"
      },
      "source": [
        "class MyNewConvNet(nn.Module):\n",
        "    def __init__(self):\n",
        "        # вызов конструктора предка\n",
        "        super().__init__()\n",
        "        # необходмо заранее знать, сколько каналов у картинки (сейчас = 1),\n",
        "        # которую будем подавать в сеть, больше ничего\n",
        "        # про входящие картинки знать не нужно\n",
        "        # Напишите свой код тут\n",
        "        self.conv1 = nn.Conv2d(3,12,2)\n",
        "        self.pool = nn.MaxPool2d(2,2)\n",
        "        self.conv2 = nn.Conv2d(12,16,2)\n",
        "        self.fc1 = nn.Linear(28*28, 400) #120 -> 400\n",
        "        self.fc2 = nn.Linear(400, 240)    #84 ->200\n",
        "        self.fc3 = nn.Linear(240, 120)\n",
        "        self.fc4 = nn.Linear(120, 84)     #additional layer\n",
        "        self.fc5 = nn.Linear(84, 10)\n",
        "\n",
        "    def forward(self, x):\n",
        "        #еапишите свой код тут\n",
        "        x = self.pool(F.relu(self.conv1(x)))\n",
        "        x = self.pool(F.relu(self.conv2(x)))\n",
        "        x = torch.flatten(x, 1)\n",
        "        x = F.relu(self.fc1(x))\n",
        "        x = F.relu(self.fc2(x))\n",
        "        x = F.relu(self.fc3(x))\n",
        "        x = F.relu(self.fc4(x))\n",
        "        x = self.fc5(x)\n",
        "        return x"
      ],
      "execution_count": 176,
      "outputs": []
    },
    {
      "cell_type": "code",
      "metadata": {
        "colab": {
          "base_uri": "https://localhost:8080/",
          "height": 1000,
          "referenced_widgets": [
            "a19f74453ee5408fa970e1fd37fdd54f",
            "30641408b45c4ab2ae69d08c35232f28",
            "4c3c2858b16241af9818087032e8366e",
            "c48b7656212f4f68ad032889910e8230",
            "8bf0a22b31814022b99b31b76bedcaa6",
            "e9b34054298a4135a680aee45218e22b",
            "7773acd43be741988cb3a1d0e9fb7317",
            "f82b1e3d3ea845a6a13ce28c1722e2e8",
            "116314742c7342819a84e2c1e9878449",
            "ff574ddce13a4e5084138cc82da335e8",
            "30a761b80e1e436dade61873c8fe94b0",
            "989e0911273b4e39829459cada30a8e0",
            "daab4e2a2e9a4e4987b8111f78b3495d",
            "4bf3609fb8fe4c9289199fe85dbd05a8",
            "9b1c84cac04841c796d5d87ce5d089f7",
            "eb2832a6158f4adb88814632b4e45c55",
            "9ef28cc3031f4ea68ed33a6de9c5e6a9",
            "88202245690548d7abdff6767f2d74f2",
            "4f9f11eed7564b9f99fdb53b3bb542ae",
            "d9c2f23ef07046cabc89ce12184f2fb3",
            "0525defa6add40deb84b148a56b465c5",
            "643bcdaedf234154a6d7358b8dba40e6",
            "95a20136a0ec4916918d649980861953",
            "c9ec9339e7e4488197c03938678ec472",
            "141747839917475795029bf84771617b",
            "fb3355ec56644312a8d1ae4f2763a616",
            "46002bd62a3c498b9341ded7f55ca0fe",
            "fc10fa2b40414d3ab56d37211ccc10d8",
            "bce0658dafb444bdb85895a6ee5b704f",
            "c931585e458e4cb1ac00555901a663bd",
            "8a6b1a81c8174271afd610ad05141508",
            "b767ce5b04e34828a96c95ea3472a11d",
            "4762b11af9f8440dafb8af30d60051ea",
            "3ad613d6c5a443fc9a335ebf89f4fecf",
            "e92eb55d226149ddb7122c5d4596effc",
            "695b8ce1996a494682e2b9ffb4956426",
            "beeaf046ab014a518d26f49caf3d2160",
            "338cb8e884f74c3e8c02bc1ba2cbd2c8",
            "4df9249d36084f5eb7dc5fa2dbd95eea",
            "8493df674eac40b98d31de02b91673b5",
            "d0ecfb96f60340c6ac23ca361982799f",
            "cad0794ce02a4ad3a8f4627a2fdec158",
            "356ac5ac055444cf9f3a2344614c27a1",
            "a8d8362a34b745b0b0e910ffb6f5a01d",
            "600d5025b11943c09af58405886d24f8",
            "426554692f334dc597953658c1ae0d24",
            "8c224ee716344e948160d36488eeadc8",
            "c261f2796e6247d6b7a7386922a6e6ae",
            "f635346c26174fc8aa73fd97152cd180",
            "fe412fa053f8430b9fa41e40f9bcbe8f",
            "a7e8bade70c04bf4a19da18afb87cf20",
            "1d15e3b4fa744067be9d4d5354a23251",
            "8d427047c3254b64bf90a4ab863d315c",
            "70f403dd43b7424bb57057b9eb15a9a5",
            "26d77feca9ae425eab42b78e800092e8",
            "d237322eeede4cedaac2feacbcc73036",
            "d5b66e1b50f94a87ac6f518dbb3e4996",
            "a3cd882238714e7b9d17d65847dba731",
            "f6dc617bf8e3484b847cdabe34c86d17",
            "a435874af2334b10b4f32acee57e0c40",
            "0b796093b5184df1939118eb14a077da",
            "1403549e1be54eadb3e5563052bb063d",
            "82935614b09344a384ad1d3719647fee",
            "974c40dd295946718219f2e432b7a50c",
            "b613791374484a24a2a777b79975b207",
            "3dd226a7bf8746c6a7eaa583b648ddba",
            "c4a7d90135a8441cbdc4e516925bf747",
            "418c2c15b2de4837907a0806ae73cdec",
            "962e82fada9943a0a21ccfd2a045873f",
            "8d68f9b5c60e4cdcbb7ddb502195f4a5",
            "10055be138684c468acdbcf8acb85d23",
            "419d02eefb7d4441ae81725bac478456",
            "81ca548141604df78824986a77eac8f0",
            "638c5eca219e480abab223a32df92865",
            "a3511b4e05034d8ea116861d767657bc",
            "e1d30c761a0e4a5daf5443c01ed6a6c6",
            "09dccf7074a0407da758e8ad6cbe9cf7",
            "6677d4c539fe4307aec592c68b9021f0",
            "6a04b3b856dc4ff6b1c62ce039bc09c3",
            "d55b333f1b5b423e977dcb0e00a1351e",
            "4a1c1fca560349ab83ecbe7ff5397bce",
            "df2a7992dd744f6f8486c09db7d8bd8f",
            "0124b5879b50451f9e1b4d2a1895de7b",
            "421f615a3c0c45c3ac1920a810d4c349",
            "fe50b9f21d594310bd9eaef49cbd9f8a",
            "fbf0f2e4bfc7474db1310f35681bef04",
            "5e636fc9039d4cee9cf681fa5d29c879",
            "0ee266f54b024dd898b20c3f4ba3b77d"
          ]
        },
        "id": "AnoatwQ7kdEU",
        "outputId": "fafd908b-4884-43a8-be80-b7d7ea99079e"
      },
      "source": [
        "import torch.optim as optim\n",
        "net = MyNewConvNet()\n",
        "\n",
        "loss_fn = torch.nn.CrossEntropyLoss()\n",
        "losses = []\n",
        "\n",
        "learning_rate = 1e-3\n",
        "optimizer = optim.SGD(net.parameters(), lr=learning_rate, momentum=0.9)\n",
        "\n",
        "# итерируемся\n",
        "for epoch in tqdm_notebook(range(10)):\n",
        "\n",
        "    running_loss = 0.0\n",
        "    for i, batch in enumerate(tqdm_notebook(trainloader)):\n",
        "        # напишите свой код тут\n",
        "        X_batch, y_batch = batch\n",
        "        \n",
        "        # обнуляем веса\n",
        "        optimizer.zero_grad()\n",
        "\n",
        "        # forward + backward + optimize\n",
        "        y_pred = net(X_batch)\n",
        "        loss = loss_fn(y_pred, y_batch)\n",
        "        loss.backward()\n",
        "        optimizer.step()\n",
        "\n",
        "        # выведем текущий loss\n",
        "        running_loss += loss.item()\n",
        "        # выводем качество каждые 2000 батчей\n",
        "        if i % 2000 == 1999:\n",
        "            print('[%d, %5d] loss: %.3f' %\n",
        "                  (epoch + 1, i + 1, running_loss / 2000))\n",
        "            running_loss = 0.0\n",
        "\n",
        "print('Обучение закончено')"
      ],
      "execution_count": 177,
      "outputs": [
        {
          "output_type": "stream",
          "text": [
            "/usr/local/lib/python3.7/dist-packages/ipykernel_launcher.py:11: TqdmDeprecationWarning: This function will be removed in tqdm==5.0.0\n",
            "Please use `tqdm.notebook.tqdm` instead of `tqdm.tqdm_notebook`\n",
            "  # This is added back by InteractiveShellApp.init_path()\n"
          ],
          "name": "stderr"
        },
        {
          "output_type": "display_data",
          "data": {
            "application/vnd.jupyter.widget-view+json": {
              "model_id": "a19f74453ee5408fa970e1fd37fdd54f",
              "version_minor": 0,
              "version_major": 2
            },
            "text/plain": [
              "HBox(children=(FloatProgress(value=0.0, max=10.0), HTML(value='')))"
            ]
          },
          "metadata": {
            "tags": []
          }
        },
        {
          "output_type": "stream",
          "text": [
            "/usr/local/lib/python3.7/dist-packages/ipykernel_launcher.py:14: TqdmDeprecationWarning: This function will be removed in tqdm==5.0.0\n",
            "Please use `tqdm.notebook.tqdm` instead of `tqdm.tqdm_notebook`\n",
            "  \n"
          ],
          "name": "stderr"
        },
        {
          "output_type": "display_data",
          "data": {
            "application/vnd.jupyter.widget-view+json": {
              "model_id": "116314742c7342819a84e2c1e9878449",
              "version_minor": 0,
              "version_major": 2
            },
            "text/plain": [
              "HBox(children=(FloatProgress(value=0.0, max=10000.0), HTML(value='')))"
            ]
          },
          "metadata": {
            "tags": []
          }
        },
        {
          "output_type": "stream",
          "text": [
            "[1,  2000] loss: 2.303\n",
            "[1,  4000] loss: 2.291\n",
            "[1,  6000] loss: 2.106\n",
            "[1,  8000] loss: 1.889\n",
            "[1, 10000] loss: 1.713\n",
            "\n"
          ],
          "name": "stdout"
        },
        {
          "output_type": "display_data",
          "data": {
            "application/vnd.jupyter.widget-view+json": {
              "model_id": "9ef28cc3031f4ea68ed33a6de9c5e6a9",
              "version_minor": 0,
              "version_major": 2
            },
            "text/plain": [
              "HBox(children=(FloatProgress(value=0.0, max=10000.0), HTML(value='')))"
            ]
          },
          "metadata": {
            "tags": []
          }
        },
        {
          "output_type": "stream",
          "text": [
            "[2,  2000] loss: 1.599\n",
            "[2,  4000] loss: 1.504\n",
            "[2,  6000] loss: 1.442\n",
            "[2,  8000] loss: 1.387\n",
            "[2, 10000] loss: 1.321\n",
            "\n"
          ],
          "name": "stdout"
        },
        {
          "output_type": "display_data",
          "data": {
            "application/vnd.jupyter.widget-view+json": {
              "model_id": "141747839917475795029bf84771617b",
              "version_minor": 0,
              "version_major": 2
            },
            "text/plain": [
              "HBox(children=(FloatProgress(value=0.0, max=10000.0), HTML(value='')))"
            ]
          },
          "metadata": {
            "tags": []
          }
        },
        {
          "output_type": "stream",
          "text": [
            "[3,  2000] loss: 1.279\n",
            "[3,  4000] loss: 1.225\n",
            "[3,  6000] loss: 1.212\n",
            "[3,  8000] loss: 1.186\n",
            "[3, 10000] loss: 1.155\n",
            "\n"
          ],
          "name": "stdout"
        },
        {
          "output_type": "display_data",
          "data": {
            "application/vnd.jupyter.widget-view+json": {
              "model_id": "4762b11af9f8440dafb8af30d60051ea",
              "version_minor": 0,
              "version_major": 2
            },
            "text/plain": [
              "HBox(children=(FloatProgress(value=0.0, max=10000.0), HTML(value='')))"
            ]
          },
          "metadata": {
            "tags": []
          }
        },
        {
          "output_type": "stream",
          "text": [
            "[4,  2000] loss: 1.068\n",
            "[4,  4000] loss: 1.053\n",
            "[4,  6000] loss: 1.071\n",
            "[4,  8000] loss: 1.040\n",
            "[4, 10000] loss: 1.024\n",
            "\n"
          ],
          "name": "stdout"
        },
        {
          "output_type": "display_data",
          "data": {
            "application/vnd.jupyter.widget-view+json": {
              "model_id": "d0ecfb96f60340c6ac23ca361982799f",
              "version_minor": 0,
              "version_major": 2
            },
            "text/plain": [
              "HBox(children=(FloatProgress(value=0.0, max=10000.0), HTML(value='')))"
            ]
          },
          "metadata": {
            "tags": []
          }
        },
        {
          "output_type": "stream",
          "text": [
            "[5,  2000] loss: 0.905\n",
            "[5,  4000] loss: 0.923\n",
            "[5,  6000] loss: 0.928\n",
            "[5,  8000] loss: 0.942\n",
            "[5, 10000] loss: 0.929\n",
            "\n"
          ],
          "name": "stdout"
        },
        {
          "output_type": "display_data",
          "data": {
            "application/vnd.jupyter.widget-view+json": {
              "model_id": "f635346c26174fc8aa73fd97152cd180",
              "version_minor": 0,
              "version_major": 2
            },
            "text/plain": [
              "HBox(children=(FloatProgress(value=0.0, max=10000.0), HTML(value='')))"
            ]
          },
          "metadata": {
            "tags": []
          }
        },
        {
          "output_type": "stream",
          "text": [
            "[6,  2000] loss: 0.775\n",
            "[6,  4000] loss: 0.819\n",
            "[6,  6000] loss: 0.832\n",
            "[6,  8000] loss: 0.820\n",
            "[6, 10000] loss: 0.811\n",
            "\n"
          ],
          "name": "stdout"
        },
        {
          "output_type": "display_data",
          "data": {
            "application/vnd.jupyter.widget-view+json": {
              "model_id": "d5b66e1b50f94a87ac6f518dbb3e4996",
              "version_minor": 0,
              "version_major": 2
            },
            "text/plain": [
              "HBox(children=(FloatProgress(value=0.0, max=10000.0), HTML(value='')))"
            ]
          },
          "metadata": {
            "tags": []
          }
        },
        {
          "output_type": "stream",
          "text": [
            "[7,  2000] loss: 0.684\n",
            "[7,  4000] loss: 0.690\n",
            "[7,  6000] loss: 0.700\n",
            "[7,  8000] loss: 0.742\n",
            "[7, 10000] loss: 0.734\n",
            "\n"
          ],
          "name": "stdout"
        },
        {
          "output_type": "display_data",
          "data": {
            "application/vnd.jupyter.widget-view+json": {
              "model_id": "b613791374484a24a2a777b79975b207",
              "version_minor": 0,
              "version_major": 2
            },
            "text/plain": [
              "HBox(children=(FloatProgress(value=0.0, max=10000.0), HTML(value='')))"
            ]
          },
          "metadata": {
            "tags": []
          }
        },
        {
          "output_type": "stream",
          "text": [
            "[8,  2000] loss: 0.561\n",
            "[8,  4000] loss: 0.597\n",
            "[8,  6000] loss: 0.617\n",
            "[8,  8000] loss: 0.641\n",
            "[8, 10000] loss: 0.661\n",
            "\n"
          ],
          "name": "stdout"
        },
        {
          "output_type": "display_data",
          "data": {
            "application/vnd.jupyter.widget-view+json": {
              "model_id": "81ca548141604df78824986a77eac8f0",
              "version_minor": 0,
              "version_major": 2
            },
            "text/plain": [
              "HBox(children=(FloatProgress(value=0.0, max=10000.0), HTML(value='')))"
            ]
          },
          "metadata": {
            "tags": []
          }
        },
        {
          "output_type": "stream",
          "text": [
            "[9,  2000] loss: 0.465\n",
            "[9,  4000] loss: 0.500\n",
            "[9,  6000] loss: 0.549\n",
            "[9,  8000] loss: 0.564\n",
            "[9, 10000] loss: 0.565\n",
            "\n"
          ],
          "name": "stdout"
        },
        {
          "output_type": "display_data",
          "data": {
            "application/vnd.jupyter.widget-view+json": {
              "model_id": "4a1c1fca560349ab83ecbe7ff5397bce",
              "version_minor": 0,
              "version_major": 2
            },
            "text/plain": [
              "HBox(children=(FloatProgress(value=0.0, max=10000.0), HTML(value='')))"
            ]
          },
          "metadata": {
            "tags": []
          }
        },
        {
          "output_type": "stream",
          "text": [
            "[10,  2000] loss: 0.384\n",
            "[10,  4000] loss: 0.431\n",
            "[10,  6000] loss: 0.457\n",
            "[10,  8000] loss: 0.492\n",
            "[10, 10000] loss: 0.491\n",
            "\n",
            "\n",
            "Обучение закончено\n"
          ],
          "name": "stdout"
        }
      ]
    },
    {
      "cell_type": "code",
      "metadata": {
        "colab": {
          "base_uri": "https://localhost:8080/"
        },
        "id": "r1zJVlPgq1aA",
        "outputId": "e29e3fae-c1f4-411f-cead-43de49563255"
      },
      "source": [
        "class_correct = list(0. for i in range(10))\n",
        "class_total = list(0. for i in range(10))\n",
        "\n",
        "with torch.no_grad():\n",
        "    for data in testloader:\n",
        "        images, labels = data\n",
        "        y_pred = net(images)#.view(4, -1))\n",
        "        _, predicted = torch.max(y_pred, 1)\n",
        "        c = (predicted == labels).squeeze()\n",
        "        for i in range(4):\n",
        "            label = labels[i]\n",
        "            class_correct[label] += c[i].item()\n",
        "            class_total[label] += 1\n",
        "\n",
        "\n",
        "for i in range(10):\n",
        "    print('Accuracy of %5s : %2d %%' % (\n",
        "        classes[i], 100 * class_correct[i] / class_total[i]))"
      ],
      "execution_count": 178,
      "outputs": [
        {
          "output_type": "stream",
          "text": [
            "Accuracy of plane : 72 %\n",
            "Accuracy of   car : 77 %\n",
            "Accuracy of  bird : 46 %\n",
            "Accuracy of   cat : 47 %\n",
            "Accuracy of  deer : 66 %\n",
            "Accuracy of   dog : 55 %\n",
            "Accuracy of  frog : 75 %\n",
            "Accuracy of horse : 73 %\n",
            "Accuracy of  ship : 80 %\n",
            "Accuracy of truck : 73 %\n"
          ],
          "name": "stdout"
        }
      ]
    },
    {
      "cell_type": "markdown",
      "metadata": {
        "id": "Nwz2zvrSmvSJ"
      },
      "source": [
        "(Ожидаемый результат -- скорее всего, сходу Вам не удастся выжать из Вашей сетки больше, чем ~70% accuracy (в среднем по всем классам). Если это что-то в этом районе - Вы хорошо постарались)."
      ]
    },
    {
      "cell_type": "markdown",
      "metadata": {
        "id": "BIIpG-8lmvSK"
      },
      "source": [
        "<h3 style=\"text-align: center;\"><b>Полезные ссылки</b></h3>"
      ]
    },
    {
      "cell_type": "markdown",
      "metadata": {
        "id": "cxjnt47smvSO"
      },
      "source": [
        "1). *Примеры написания нейросетей на PyTorch (офийиальные туториалы) (на английском): https://pytorch.org/tutorials/beginner/pytorch_with_examples.html#examples  \n",
        "https://pytorch.org/tutorials/beginner/blitz/cifar10_tutorial.html*"
      ]
    },
    {
      "cell_type": "markdown",
      "metadata": {
        "id": "s0OoUDBDmvSP"
      },
      "source": [
        "2). ***Один из самых подробных и полных курсов по deep learning на данный момент - это курс Стэнфордского Университета (он вообще сейчас один из лидеров в области ИИ, его выпускники работают в Google, Facebook, Amazon, Microsoft, в стартапах в Кремниевой долине):  http://cs231n.github.io/***  "
      ]
    },
    {
      "cell_type": "markdown",
      "metadata": {
        "id": "lfCLur8VmvSR"
      },
      "source": [
        "3). Практически исчерпывающая информация по основам свёрточных нейросетей (из cs231n) (на английском):  \n",
        "\n",
        "http://cs231n.github.io/convolutional-networks/  \n",
        "http://cs231n.github.io/understanding-cnn/  \n",
        "http://cs231n.github.io/transfer-learning/"
      ]
    },
    {
      "cell_type": "markdown",
      "metadata": {
        "id": "9cYDmcZxmvSR"
      },
      "source": [
        "4). Видео о Computer Vision от Andrej Karpathy: https://www.youtube.com/watch?v=u6aEYuemt0M"
      ]
    }
  ]
}