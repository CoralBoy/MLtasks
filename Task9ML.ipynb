{
 "cells": [
  {
   "cell_type": "code",
   "execution_count": 35,
   "id": "excited-settlement",
   "metadata": {},
   "outputs": [],
   "source": [
    "def solution(n):\n",
    "    bi = bin(n)[3:]\n",
    "    cnt = 0\n",
    "    res = set()\n",
    "    for i in list(bi):\n",
    "        if i == '0':\n",
    "            cnt += 1\n",
    "        else:\n",
    "            res.add(cnt)\n",
    "            cnt = 0\n",
    "    if bool(res):\n",
    "        print(max(res))\n",
    "    else:\n",
    "        print(0)"
   ]
  },
  {
   "cell_type": "code",
   "execution_count": 37,
   "id": "tropical-religious",
   "metadata": {},
   "outputs": [
    {
     "name": "stdout",
     "output_type": "stream",
     "text": [
      "9\n",
      "2\n"
     ]
    }
   ],
   "source": [
    "n = int(input())\n",
    "solution(n)"
   ]
  }
 ],
 "metadata": {
  "kernelspec": {
   "display_name": "Python 3",
   "language": "python",
   "name": "python3"
  },
  "language_info": {
   "codemirror_mode": {
    "name": "ipython",
    "version": 3
   },
   "file_extension": ".py",
   "mimetype": "text/x-python",
   "name": "python",
   "nbconvert_exporter": "python",
   "pygments_lexer": "ipython3",
   "version": "3.9.1"
  }
 },
 "nbformat": 4,
 "nbformat_minor": 5
}
