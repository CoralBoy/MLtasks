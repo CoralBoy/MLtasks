{
 "cells": [
  {
   "cell_type": "code",
   "execution_count": 33,
   "id": "polish-fashion",
   "metadata": {},
   "outputs": [
    {
     "name": "stdout",
     "output_type": "stream",
     "text": [
      "32\n"
     ]
    },
    {
     "data": {
      "text/plain": [
       "'100000'"
      ]
     },
     "execution_count": 33,
     "metadata": {},
     "output_type": "execute_result"
    }
   ],
   "source": [
    "n = int(input())\n",
    "bi = bin(n)[3:]\n",
    "cnt = 0\n",
    "res = set()\n",
    "for i in list(bi):\n",
    "    if i == '0':\n",
    "        cnt += 1\n",
    "    else:\n",
    "        res.add(cnt)\n",
    "        cnt = 0\n",
    "bin(n)[2:]"
   ]
  },
  {
   "cell_type": "code",
   "execution_count": 34,
   "id": "representative-presence",
   "metadata": {},
   "outputs": [
    {
     "name": "stdout",
     "output_type": "stream",
     "text": [
      "0\n"
     ]
    }
   ],
   "source": [
    "if bool(res):\n",
    "    print(max(res))\n",
    "else:\n",
    "    print(0)"
   ]
  }
 ],
 "metadata": {
  "kernelspec": {
   "display_name": "Python 3",
   "language": "python",
   "name": "python3"
  },
  "language_info": {
   "codemirror_mode": {
    "name": "ipython",
    "version": 3
   },
   "file_extension": ".py",
   "mimetype": "text/x-python",
   "name": "python",
   "nbconvert_exporter": "python",
   "pygments_lexer": "ipython3",
   "version": "3.9.1"
  }
 },
 "nbformat": 4,
 "nbformat_minor": 5
}
