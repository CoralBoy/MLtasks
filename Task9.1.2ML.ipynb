{
 "cells": [
  {
   "cell_type": "code",
   "execution_count": 17,
   "id": "surrounded-mobility",
   "metadata": {},
   "outputs": [],
   "source": [
    "def solution(A):\n",
    "    nopair = []\n",
    "    for i in range(len(A)):\n",
    "        if not(A[i] in nopair):\n",
    "            nopair.append(A[i])\n",
    "        else:\n",
    "            nopair.remove(A[i])\n",
    "    return nopair[0]"
   ]
  },
  {
   "cell_type": "code",
   "execution_count": 18,
   "id": "vertical-template",
   "metadata": {},
   "outputs": [
    {
     "data": {
      "text/plain": [
       "7"
      ]
     },
     "execution_count": 18,
     "metadata": {},
     "output_type": "execute_result"
    }
   ],
   "source": [
    "solution([9, 3, 9, 3, 9, 7, 9])"
   ]
  }
 ],
 "metadata": {
  "kernelspec": {
   "display_name": "Python 3",
   "language": "python",
   "name": "python3"
  },
  "language_info": {
   "codemirror_mode": {
    "name": "ipython",
    "version": 3
   },
   "file_extension": ".py",
   "mimetype": "text/x-python",
   "name": "python",
   "nbconvert_exporter": "python",
   "pygments_lexer": "ipython3",
   "version": "3.9.1"
  }
 },
 "nbformat": 4,
 "nbformat_minor": 5
}
