{
 "cells": [
  {
   "cell_type": "code",
   "execution_count": 30,
   "id": "hearing-influence",
   "metadata": {},
   "outputs": [],
   "source": [
    "def solution(A, B):\n",
    "    cnt = 0\n",
    "    vs = []\n",
    "    alive = []\n",
    "    for i in range(len(A)):\n",
    "        if B[i] == 0:\n",
    "            if len(vs) == 0:\n",
    "                alive.append(i)\n",
    "            else:\n",
    "                while len(vs):\n",
    "                    if A[vs[-1]]<A[i]:\n",
    "                        vs.pop()\n",
    "                    else:\n",
    "                        break\n",
    "                if len(vs) == 0:\n",
    "                    alive.append(i)\n",
    "        else:\n",
    "            vs.append(i)\n",
    "    alive += vs\n",
    "    return len(alive)"
   ]
  },
  {
   "cell_type": "code",
   "execution_count": 31,
   "id": "demanding-evanescence",
   "metadata": {},
   "outputs": [
    {
     "data": {
      "text/plain": [
       "2"
      ]
     },
     "execution_count": 31,
     "metadata": {},
     "output_type": "execute_result"
    }
   ],
   "source": [
    "A, B = [4, 3, 2, 1, 5], [0, 1, 0, 0, 0]\n",
    "# res = {A[i] : B[i] for i in range(len(A))}\n",
    "solution(A, B)"
   ]
  }
 ],
 "metadata": {
  "kernelspec": {
   "display_name": "Python 3",
   "language": "python",
   "name": "python3"
  },
  "language_info": {
   "codemirror_mode": {
    "name": "ipython",
    "version": 3
   },
   "file_extension": ".py",
   "mimetype": "text/x-python",
   "name": "python",
   "nbconvert_exporter": "python",
   "pygments_lexer": "ipython3",
   "version": "3.9.1"
  }
 },
 "nbformat": 4,
 "nbformat_minor": 5
}
